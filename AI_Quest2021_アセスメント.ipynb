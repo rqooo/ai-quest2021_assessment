{
  "nbformat": 4,
  "nbformat_minor": 0,
  "metadata": {
    "colab": {
      "name": "AI Quest2021 アセスメント.ipynb",
      "provenance": [],
      "toc_visible": true,
      "include_colab_link": true
    },
    "kernelspec": {
      "display_name": "Python 3",
      "language": "python",
      "name": "python3"
    },
    "language_info": {
      "codemirror_mode": {
        "name": "ipython",
        "version": 3
      },
      "file_extension": ".py",
      "mimetype": "text/x-python",
      "name": "python",
      "nbconvert_exporter": "python",
      "pygments_lexer": "ipython3",
      "version": "3.8.5"
    }
  },
  "cells": [
    {
      "cell_type": "markdown",
      "metadata": {
        "id": "view-in-github",
        "colab_type": "text"
      },
      "source": [
        "<a href=\"https://colab.research.google.com/github/rtnaka/ai_quest_assessment/blob/main/AI_Quest2021_%E3%82%A2%E3%82%BB%E3%82%B9%E3%83%A1%E3%83%B3%E3%83%88.ipynb\" target=\"_parent\"><img src=\"https://colab.research.google.com/assets/colab-badge.svg\" alt=\"Open In Colab\"/></a>"
      ]
    },
    {
      "cell_type": "markdown",
      "metadata": {
        "id": "GwksTrb6-6Jr"
      },
      "source": [
        "## ライブラリのインストール"
      ]
    },
    {
      "cell_type": "code",
      "metadata": {
        "id": "BVpYbQ_DBNSI",
        "colab": {
          "base_uri": "https://localhost:8080/"
        },
        "outputId": "00accdca-7a5f-4bf8-8e95-62b03bd6b85c"
      },
      "source": [
        "!pip install category_encoders\n",
        "!pip install japanize-matplotlib\n",
        "!pip install pandas_profiling\n",
        "!pip install git+https://github.com/pfnet-research/xfeat.git"
      ],
      "execution_count": 1,
      "outputs": [
        {
          "output_type": "stream",
          "text": [
            "Collecting category_encoders\n",
            "  Downloading category_encoders-2.2.2-py2.py3-none-any.whl (80 kB)\n",
            "\u001b[?25l\r\u001b[K     |████                            | 10 kB 22.8 MB/s eta 0:00:01\r\u001b[K     |████████▏                       | 20 kB 9.6 MB/s eta 0:00:01\r\u001b[K     |████████████▏                   | 30 kB 7.9 MB/s eta 0:00:01\r\u001b[K     |████████████████▎               | 40 kB 7.3 MB/s eta 0:00:01\r\u001b[K     |████████████████████▎           | 51 kB 3.9 MB/s eta 0:00:01\r\u001b[K     |████████████████████████▍       | 61 kB 4.2 MB/s eta 0:00:01\r\u001b[K     |████████████████████████████▍   | 71 kB 4.2 MB/s eta 0:00:01\r\u001b[K     |████████████████████████████████| 80 kB 3.2 MB/s \n",
            "\u001b[?25hRequirement already satisfied: statsmodels>=0.9.0 in /usr/local/lib/python3.7/dist-packages (from category_encoders) (0.10.2)\n",
            "Requirement already satisfied: scipy>=1.0.0 in /usr/local/lib/python3.7/dist-packages (from category_encoders) (1.4.1)\n",
            "Requirement already satisfied: pandas>=0.21.1 in /usr/local/lib/python3.7/dist-packages (from category_encoders) (1.1.5)\n",
            "Requirement already satisfied: patsy>=0.5.1 in /usr/local/lib/python3.7/dist-packages (from category_encoders) (0.5.1)\n",
            "Requirement already satisfied: scikit-learn>=0.20.0 in /usr/local/lib/python3.7/dist-packages (from category_encoders) (0.22.2.post1)\n",
            "Requirement already satisfied: numpy>=1.14.0 in /usr/local/lib/python3.7/dist-packages (from category_encoders) (1.19.5)\n",
            "Requirement already satisfied: pytz>=2017.2 in /usr/local/lib/python3.7/dist-packages (from pandas>=0.21.1->category_encoders) (2018.9)\n",
            "Requirement already satisfied: python-dateutil>=2.7.3 in /usr/local/lib/python3.7/dist-packages (from pandas>=0.21.1->category_encoders) (2.8.1)\n",
            "Requirement already satisfied: six in /usr/local/lib/python3.7/dist-packages (from patsy>=0.5.1->category_encoders) (1.15.0)\n",
            "Requirement already satisfied: joblib>=0.11 in /usr/local/lib/python3.7/dist-packages (from scikit-learn>=0.20.0->category_encoders) (1.0.1)\n",
            "Installing collected packages: category-encoders\n",
            "Successfully installed category-encoders-2.2.2\n",
            "Collecting japanize-matplotlib\n",
            "  Downloading japanize-matplotlib-1.1.3.tar.gz (4.1 MB)\n",
            "\u001b[K     |████████████████████████████████| 4.1 MB 4.3 MB/s \n",
            "\u001b[?25hRequirement already satisfied: matplotlib in /usr/local/lib/python3.7/dist-packages (from japanize-matplotlib) (3.2.2)\n",
            "Requirement already satisfied: kiwisolver>=1.0.1 in /usr/local/lib/python3.7/dist-packages (from matplotlib->japanize-matplotlib) (1.3.1)\n",
            "Requirement already satisfied: cycler>=0.10 in /usr/local/lib/python3.7/dist-packages (from matplotlib->japanize-matplotlib) (0.10.0)\n",
            "Requirement already satisfied: numpy>=1.11 in /usr/local/lib/python3.7/dist-packages (from matplotlib->japanize-matplotlib) (1.19.5)\n",
            "Requirement already satisfied: python-dateutil>=2.1 in /usr/local/lib/python3.7/dist-packages (from matplotlib->japanize-matplotlib) (2.8.1)\n",
            "Requirement already satisfied: pyparsing!=2.0.4,!=2.1.2,!=2.1.6,>=2.0.1 in /usr/local/lib/python3.7/dist-packages (from matplotlib->japanize-matplotlib) (2.4.7)\n",
            "Requirement already satisfied: six in /usr/local/lib/python3.7/dist-packages (from cycler>=0.10->matplotlib->japanize-matplotlib) (1.15.0)\n",
            "Building wheels for collected packages: japanize-matplotlib\n",
            "  Building wheel for japanize-matplotlib (setup.py) ... \u001b[?25l\u001b[?25hdone\n",
            "  Created wheel for japanize-matplotlib: filename=japanize_matplotlib-1.1.3-py3-none-any.whl size=4120274 sha256=969bb9e7922d242e88dd28eddb57ed673e2bef68fa03c4558ae23a8007ea4c25\n",
            "  Stored in directory: /root/.cache/pip/wheels/83/97/6b/e9e0cde099cc40f972b8dd23367308f7705ae06cd6d4714658\n",
            "Successfully built japanize-matplotlib\n",
            "Installing collected packages: japanize-matplotlib\n",
            "Successfully installed japanize-matplotlib-1.1.3\n",
            "Requirement already satisfied: pandas_profiling in /usr/local/lib/python3.7/dist-packages (1.4.1)\n",
            "Requirement already satisfied: jinja2>=2.8 in /usr/local/lib/python3.7/dist-packages (from pandas_profiling) (2.11.3)\n",
            "Requirement already satisfied: six>=1.9 in /usr/local/lib/python3.7/dist-packages (from pandas_profiling) (1.15.0)\n",
            "Requirement already satisfied: matplotlib>=1.4 in /usr/local/lib/python3.7/dist-packages (from pandas_profiling) (3.2.2)\n",
            "Requirement already satisfied: pandas>=0.19 in /usr/local/lib/python3.7/dist-packages (from pandas_profiling) (1.1.5)\n",
            "Requirement already satisfied: MarkupSafe>=0.23 in /usr/local/lib/python3.7/dist-packages (from jinja2>=2.8->pandas_profiling) (2.0.1)\n",
            "Requirement already satisfied: python-dateutil>=2.1 in /usr/local/lib/python3.7/dist-packages (from matplotlib>=1.4->pandas_profiling) (2.8.1)\n",
            "Requirement already satisfied: numpy>=1.11 in /usr/local/lib/python3.7/dist-packages (from matplotlib>=1.4->pandas_profiling) (1.19.5)\n",
            "Requirement already satisfied: pyparsing!=2.0.4,!=2.1.2,!=2.1.6,>=2.0.1 in /usr/local/lib/python3.7/dist-packages (from matplotlib>=1.4->pandas_profiling) (2.4.7)\n",
            "Requirement already satisfied: kiwisolver>=1.0.1 in /usr/local/lib/python3.7/dist-packages (from matplotlib>=1.4->pandas_profiling) (1.3.1)\n",
            "Requirement already satisfied: cycler>=0.10 in /usr/local/lib/python3.7/dist-packages (from matplotlib>=1.4->pandas_profiling) (0.10.0)\n",
            "Requirement already satisfied: pytz>=2017.2 in /usr/local/lib/python3.7/dist-packages (from pandas>=0.19->pandas_profiling) (2018.9)\n",
            "Collecting git+https://github.com/pfnet-research/xfeat.git\n",
            "  Cloning https://github.com/pfnet-research/xfeat.git to /tmp/pip-req-build-iahfpzmi\n",
            "  Running command git clone -q https://github.com/pfnet-research/xfeat.git /tmp/pip-req-build-iahfpzmi\n",
            "Requirement already satisfied: PyYAML in /usr/local/lib/python3.7/dist-packages (from xfeat==0.1.1) (3.13)\n",
            "Collecting ml_metrics\n",
            "  Downloading ml_metrics-0.1.4.tar.gz (5.0 kB)\n",
            "Collecting optuna>=1.3.0\n",
            "  Downloading optuna-2.9.1-py3-none-any.whl (302 kB)\n",
            "\u001b[K     |████████████████████████████████| 302 kB 4.2 MB/s \n",
            "\u001b[?25hRequirement already satisfied: lightgbm in /usr/local/lib/python3.7/dist-packages (from xfeat==0.1.1) (2.2.3)\n",
            "Requirement already satisfied: scikit-learn in /usr/local/lib/python3.7/dist-packages (from xfeat==0.1.1) (0.22.2.post1)\n",
            "Requirement already satisfied: pyarrow in /usr/local/lib/python3.7/dist-packages (from xfeat==0.1.1) (3.0.0)\n",
            "Requirement already satisfied: sqlalchemy>=1.1.0 in /usr/local/lib/python3.7/dist-packages (from optuna>=1.3.0->xfeat==0.1.1) (1.4.20)\n",
            "Collecting colorlog\n",
            "  Downloading colorlog-5.0.1-py2.py3-none-any.whl (10 kB)\n",
            "Requirement already satisfied: numpy in /usr/local/lib/python3.7/dist-packages (from optuna>=1.3.0->xfeat==0.1.1) (1.19.5)\n",
            "Requirement already satisfied: scipy!=1.4.0 in /usr/local/lib/python3.7/dist-packages (from optuna>=1.3.0->xfeat==0.1.1) (1.4.1)\n",
            "Collecting alembic\n",
            "  Downloading alembic-1.6.5-py2.py3-none-any.whl (164 kB)\n",
            "\u001b[K     |████████████████████████████████| 164 kB 43.1 MB/s \n",
            "\u001b[?25hCollecting cliff\n",
            "  Downloading cliff-3.8.0-py3-none-any.whl (80 kB)\n",
            "\u001b[K     |████████████████████████████████| 80 kB 8.8 MB/s \n",
            "\u001b[?25hRequirement already satisfied: tqdm in /usr/local/lib/python3.7/dist-packages (from optuna>=1.3.0->xfeat==0.1.1) (4.41.1)\n",
            "Collecting cmaes>=0.8.2\n",
            "  Downloading cmaes-0.8.2-py3-none-any.whl (15 kB)\n",
            "Requirement already satisfied: packaging>=20.0 in /usr/local/lib/python3.7/dist-packages (from optuna>=1.3.0->xfeat==0.1.1) (21.0)\n",
            "Requirement already satisfied: pyparsing>=2.0.2 in /usr/local/lib/python3.7/dist-packages (from packaging>=20.0->optuna>=1.3.0->xfeat==0.1.1) (2.4.7)\n",
            "Requirement already satisfied: importlib-metadata in /usr/local/lib/python3.7/dist-packages (from sqlalchemy>=1.1.0->optuna>=1.3.0->xfeat==0.1.1) (4.6.1)\n",
            "Requirement already satisfied: greenlet!=0.4.17 in /usr/local/lib/python3.7/dist-packages (from sqlalchemy>=1.1.0->optuna>=1.3.0->xfeat==0.1.1) (1.1.0)\n",
            "Requirement already satisfied: python-dateutil in /usr/local/lib/python3.7/dist-packages (from alembic->optuna>=1.3.0->xfeat==0.1.1) (2.8.1)\n",
            "Collecting Mako\n",
            "  Downloading Mako-1.1.4-py2.py3-none-any.whl (75 kB)\n",
            "\u001b[K     |████████████████████████████████| 75 kB 4.3 MB/s \n",
            "\u001b[?25hCollecting python-editor>=0.3\n",
            "  Downloading python_editor-1.0.4-py3-none-any.whl (4.9 kB)\n",
            "Requirement already satisfied: PrettyTable>=0.7.2 in /usr/local/lib/python3.7/dist-packages (from cliff->optuna>=1.3.0->xfeat==0.1.1) (2.1.0)\n",
            "Collecting stevedore>=2.0.1\n",
            "  Downloading stevedore-3.3.0-py3-none-any.whl (49 kB)\n",
            "\u001b[K     |████████████████████████████████| 49 kB 5.8 MB/s \n",
            "\u001b[?25hCollecting cmd2>=1.0.0\n",
            "  Downloading cmd2-2.1.2-py3-none-any.whl (141 kB)\n",
            "\u001b[K     |████████████████████████████████| 141 kB 47.0 MB/s \n",
            "\u001b[?25hCollecting pbr!=2.1.0,>=2.0.0\n",
            "  Downloading pbr-5.6.0-py2.py3-none-any.whl (111 kB)\n",
            "\u001b[K     |████████████████████████████████| 111 kB 40.9 MB/s \n",
            "\u001b[?25hRequirement already satisfied: attrs>=16.3.0 in /usr/local/lib/python3.7/dist-packages (from cmd2>=1.0.0->cliff->optuna>=1.3.0->xfeat==0.1.1) (21.2.0)\n",
            "Requirement already satisfied: typing-extensions in /usr/local/lib/python3.7/dist-packages (from cmd2>=1.0.0->cliff->optuna>=1.3.0->xfeat==0.1.1) (3.7.4.3)\n",
            "Collecting pyperclip>=1.6\n",
            "  Downloading pyperclip-1.8.2.tar.gz (20 kB)\n",
            "Requirement already satisfied: wcwidth>=0.1.7 in /usr/local/lib/python3.7/dist-packages (from cmd2>=1.0.0->cliff->optuna>=1.3.0->xfeat==0.1.1) (0.2.5)\n",
            "Collecting colorama>=0.3.7\n",
            "  Downloading colorama-0.4.4-py2.py3-none-any.whl (16 kB)\n",
            "Requirement already satisfied: zipp>=0.5 in /usr/local/lib/python3.7/dist-packages (from importlib-metadata->sqlalchemy>=1.1.0->optuna>=1.3.0->xfeat==0.1.1) (3.5.0)\n",
            "Requirement already satisfied: MarkupSafe>=0.9.2 in /usr/local/lib/python3.7/dist-packages (from Mako->alembic->optuna>=1.3.0->xfeat==0.1.1) (2.0.1)\n",
            "Requirement already satisfied: pandas in /usr/local/lib/python3.7/dist-packages (from ml_metrics->xfeat==0.1.1) (1.1.5)\n",
            "Requirement already satisfied: pytz>=2017.2 in /usr/local/lib/python3.7/dist-packages (from pandas->ml_metrics->xfeat==0.1.1) (2018.9)\n",
            "Requirement already satisfied: six>=1.5 in /usr/local/lib/python3.7/dist-packages (from python-dateutil->alembic->optuna>=1.3.0->xfeat==0.1.1) (1.15.0)\n",
            "Requirement already satisfied: joblib>=0.11 in /usr/local/lib/python3.7/dist-packages (from scikit-learn->xfeat==0.1.1) (1.0.1)\n",
            "Building wheels for collected packages: xfeat, pyperclip, ml-metrics\n",
            "  Building wheel for xfeat (setup.py) ... \u001b[?25l\u001b[?25hdone\n",
            "  Created wheel for xfeat: filename=xfeat-0.1.1-py3-none-any.whl size=39635 sha256=fce0237264de21755ce950db64ae31b1cfbd41e7466c8d2ebdbb2a02c89a7e84\n",
            "  Stored in directory: /tmp/pip-ephem-wheel-cache-av969eni/wheels/71/92/2e/4e706daaf3464ec8e3f53b037c5f3f0346ddc1209eda7d5985\n",
            "  Building wheel for pyperclip (setup.py) ... \u001b[?25l\u001b[?25hdone\n",
            "  Created wheel for pyperclip: filename=pyperclip-1.8.2-py3-none-any.whl size=11137 sha256=222f1eb5485da31af01c45ef3644c7b571c7fd57772cc99e45f066c3f1bbb93c\n",
            "  Stored in directory: /root/.cache/pip/wheels/9f/18/84/8f69f8b08169c7bae2dde6bd7daf0c19fca8c8e500ee620a28\n",
            "  Building wheel for ml-metrics (setup.py) ... \u001b[?25l\u001b[?25hdone\n",
            "  Created wheel for ml-metrics: filename=ml_metrics-0.1.4-py3-none-any.whl size=7844 sha256=f2b355bb4b2c7a21defda5a77c38def503bcfe7ec0b11ea4ce871cbb9949e5d2\n",
            "  Stored in directory: /root/.cache/pip/wheels/56/41/5b/0c6d42b3604a5c823d8922564c4708f84962fa7f2f4facfa6d\n",
            "Successfully built xfeat pyperclip ml-metrics\n",
            "Installing collected packages: pyperclip, pbr, colorama, stevedore, python-editor, Mako, cmd2, colorlog, cmaes, cliff, alembic, optuna, ml-metrics, xfeat\n",
            "Successfully installed Mako-1.1.4 alembic-1.6.5 cliff-3.8.0 cmaes-0.8.2 cmd2-2.1.2 colorama-0.4.4 colorlog-5.0.1 ml-metrics-0.1.4 optuna-2.9.1 pbr-5.6.0 pyperclip-1.8.2 python-editor-1.0.4 stevedore-3.3.0 xfeat-0.1.1\n"
          ],
          "name": "stdout"
        }
      ]
    },
    {
      "cell_type": "markdown",
      "metadata": {
        "id": "TXq-FllQ_38-"
      },
      "source": [
        "## ライブラリのインポート"
      ]
    },
    {
      "cell_type": "code",
      "metadata": {
        "id": "gBRYQWmj_38_",
        "colab": {
          "base_uri": "https://localhost:8080/"
        },
        "outputId": "12c2a3cf-3e29-47c4-91fe-7fdeea410331"
      },
      "source": [
        "import re\n",
        "import datetime\n",
        "import pandas as pd\n",
        "import numpy as np\n",
        "import scipy as sp\n",
        "import seaborn as sns\n",
        "from scipy import stats\n",
        "import sklearn\n",
        "from tqdm.notebook import tqdm  as tqdm\n",
        "from matplotlib import pyplot as plt\n",
        "%matplotlib inline\n",
        "import japanize_matplotlib \n",
        "\n",
        "#EDA\n",
        "from pandas_profiling import ProfileReport\n",
        "\n",
        "#Feature Engneering\n",
        "from sklearn.preprocessing import QuantileTransformer,StandardScaler\n",
        "from category_encoders import OrdinalEncoder, OneHotEncoder, TargetEncoder , CountEncoder\n",
        "from xfeat import SelectCategorical, LabelEncoder, Pipeline, ConcatCombination, SelectNumerical, ArithmeticCombinations, TargetEncoder, aggregation, GBDTFeatureSelector, GBDTFeatureExplorer\n",
        "from sklearn.feature_extraction.text import TfidfVectorizer\n",
        "\n",
        "#Modeling\n",
        "from sklearn.model_selection import StratifiedKFold,KFold\n",
        "from sklearn.metrics import roc_auc_score, mean_squared_error, mean_squared_log_error, log_loss, roc_curve, confusion_matrix, plot_roc_curve\n",
        "import lightgbm as lgb\n",
        "from lightgbm import LGBMClassifier\n",
        "from lightgbm import LGBMRegressor\n",
        "from xgboost import XGBRegressor"
      ],
      "execution_count": 2,
      "outputs": [
        {
          "output_type": "stream",
          "text": [
            "/usr/local/lib/python3.7/dist-packages/statsmodels/tools/_testing.py:19: FutureWarning: pandas.util.testing is deprecated. Use the functions in the public API at pandas.testing instead.\n",
            "  import pandas.util.testing as tm\n"
          ],
          "name": "stderr"
        }
      ]
    },
    {
      "cell_type": "markdown",
      "metadata": {
        "id": "1BwHOGby_38_"
      },
      "source": [
        "## データの読み込み"
      ]
    },
    {
      "cell_type": "code",
      "metadata": {
        "id": "Q2tVSmuSBYmd",
        "colab": {
          "base_uri": "https://localhost:8080/"
        },
        "outputId": "5e888cc5-3b75-435c-c75f-db4fe6f8bebb"
      },
      "source": [
        "# Google DriveをColabにマウント\n",
        "from google.colab import drive\n",
        "drive.mount('/content/drive')"
      ],
      "execution_count": 3,
      "outputs": [
        {
          "output_type": "stream",
          "text": [
            "Mounted at /content/drive\n"
          ],
          "name": "stdout"
        }
      ]
    },
    {
      "cell_type": "code",
      "metadata": {
        "id": "4FBBWDgsaNIQ"
      },
      "source": [
        "#最大表示行数指定\n",
        "pd.set_option('display.max_rows', 100)\n",
        "pd.set_option('display.max_columns', 500)"
      ],
      "execution_count": 4,
      "outputs": []
    },
    {
      "cell_type": "code",
      "metadata": {
        "id": "hN4NN1SH_38_"
      },
      "source": [
        "# ファイルパス\n",
        "basepath = '/content/drive/MyDrive/AI Quest2021 アセスメント/'\n",
        "\n",
        "# 学習データ\n",
        "df_train = pd.read_csv(basepath+'train.csv', index_col=0,parse_dates=[\"first_review\", \"host_since\",\"last_review\"])\n",
        "\n",
        "# テストデータ\n",
        "df_test = pd.read_csv(basepath+'test.csv', index_col=0,parse_dates=[\"first_review\", \"host_since\",\"last_review\"])\n",
        "\n",
        "# 提出フォーマット\n",
        "submission = pd.read_csv(basepath+'sample_submit.csv', index_col=0,header=None,names = [\"\",\"y\"])"
      ],
      "execution_count": 5,
      "outputs": []
    },
    {
      "cell_type": "markdown",
      "metadata": {
        "id": "ovCuoX0Q_38_"
      },
      "source": [
        "## 探索的データ解析"
      ]
    },
    {
      "cell_type": "markdown",
      "metadata": {
        "id": "ZE0bx_w9_39A"
      },
      "source": [
        "#### 行数と列数の確認　.shape"
      ]
    },
    {
      "cell_type": "code",
      "metadata": {
        "id": "WD2BVaUo_39A",
        "colab": {
          "base_uri": "https://localhost:8080/"
        },
        "outputId": "c644d2eb-d8a6-4824-edee-f6aae8a1b8eb"
      },
      "source": [
        "# DataFrameの行数と列数の確認\n",
        "print(\"学習データ\",df_train.shape)\n",
        "print(\"テストデータ\",df_test.shape)\n",
        "print(\"提出用サンプル\",submission.shape)"
      ],
      "execution_count": 6,
      "outputs": [
        {
          "output_type": "stream",
          "text": [
            "学習データ (55583, 28)\n",
            "テストデータ (18528, 27)\n",
            "提出用サンプル (18528, 1)\n"
          ],
          "name": "stdout"
        }
      ]
    },
    {
      "cell_type": "markdown",
      "metadata": {
        "id": "61jq7zY1_39A"
      },
      "source": [
        "#### テーブルデータの一部を確認"
      ]
    },
    {
      "cell_type": "code",
      "metadata": {
        "id": "HrIhJsiL_39A",
        "colab": {
          "base_uri": "https://localhost:8080/",
          "height": 697
        },
        "outputId": "f3891935-99e0-42cd-f2e1-c701970c41cc"
      },
      "source": [
        "# 先頭行の確認 df_train\n",
        "df_train.head()"
      ],
      "execution_count": 7,
      "outputs": [
        {
          "output_type": "execute_result",
          "data": {
            "text/html": [
              "<div>\n",
              "<style scoped>\n",
              "    .dataframe tbody tr th:only-of-type {\n",
              "        vertical-align: middle;\n",
              "    }\n",
              "\n",
              "    .dataframe tbody tr th {\n",
              "        vertical-align: top;\n",
              "    }\n",
              "\n",
              "    .dataframe thead th {\n",
              "        text-align: right;\n",
              "    }\n",
              "</style>\n",
              "<table border=\"1\" class=\"dataframe\">\n",
              "  <thead>\n",
              "    <tr style=\"text-align: right;\">\n",
              "      <th></th>\n",
              "      <th>accommodates</th>\n",
              "      <th>amenities</th>\n",
              "      <th>bathrooms</th>\n",
              "      <th>bed_type</th>\n",
              "      <th>bedrooms</th>\n",
              "      <th>beds</th>\n",
              "      <th>cancellation_policy</th>\n",
              "      <th>city</th>\n",
              "      <th>cleaning_fee</th>\n",
              "      <th>description</th>\n",
              "      <th>first_review</th>\n",
              "      <th>host_has_profile_pic</th>\n",
              "      <th>host_identity_verified</th>\n",
              "      <th>host_response_rate</th>\n",
              "      <th>host_since</th>\n",
              "      <th>instant_bookable</th>\n",
              "      <th>last_review</th>\n",
              "      <th>latitude</th>\n",
              "      <th>longitude</th>\n",
              "      <th>name</th>\n",
              "      <th>neighbourhood</th>\n",
              "      <th>number_of_reviews</th>\n",
              "      <th>property_type</th>\n",
              "      <th>review_scores_rating</th>\n",
              "      <th>room_type</th>\n",
              "      <th>thumbnail_url</th>\n",
              "      <th>zipcode</th>\n",
              "      <th>y</th>\n",
              "    </tr>\n",
              "    <tr>\n",
              "      <th>id</th>\n",
              "      <th></th>\n",
              "      <th></th>\n",
              "      <th></th>\n",
              "      <th></th>\n",
              "      <th></th>\n",
              "      <th></th>\n",
              "      <th></th>\n",
              "      <th></th>\n",
              "      <th></th>\n",
              "      <th></th>\n",
              "      <th></th>\n",
              "      <th></th>\n",
              "      <th></th>\n",
              "      <th></th>\n",
              "      <th></th>\n",
              "      <th></th>\n",
              "      <th></th>\n",
              "      <th></th>\n",
              "      <th></th>\n",
              "      <th></th>\n",
              "      <th></th>\n",
              "      <th></th>\n",
              "      <th></th>\n",
              "      <th></th>\n",
              "      <th></th>\n",
              "      <th></th>\n",
              "      <th></th>\n",
              "      <th></th>\n",
              "    </tr>\n",
              "  </thead>\n",
              "  <tbody>\n",
              "    <tr>\n",
              "      <th>0</th>\n",
              "      <td>6</td>\n",
              "      <td>{TV,\"Wireless Internet\",Kitchen,\"Free parking ...</td>\n",
              "      <td>2.0</td>\n",
              "      <td>Real Bed</td>\n",
              "      <td>1.0</td>\n",
              "      <td>4.0</td>\n",
              "      <td>flexible</td>\n",
              "      <td>LA</td>\n",
              "      <td>t</td>\n",
              "      <td>My place is meant for family and a few friends...</td>\n",
              "      <td>2016-07-27</td>\n",
              "      <td>t</td>\n",
              "      <td>f</td>\n",
              "      <td>NaN</td>\n",
              "      <td>2016-07-13</td>\n",
              "      <td>f</td>\n",
              "      <td>2016-07-27</td>\n",
              "      <td>33.788931</td>\n",
              "      <td>-118.154761</td>\n",
              "      <td>The Penthouse</td>\n",
              "      <td>NaN</td>\n",
              "      <td>1</td>\n",
              "      <td>Apartment</td>\n",
              "      <td>60.0</td>\n",
              "      <td>Private room</td>\n",
              "      <td>NaN</td>\n",
              "      <td>90804</td>\n",
              "      <td>138.0</td>\n",
              "    </tr>\n",
              "    <tr>\n",
              "      <th>1</th>\n",
              "      <td>2</td>\n",
              "      <td>{TV,\"Cable TV\",Internet,\"Wireless Internet\",\"A...</td>\n",
              "      <td>1.0</td>\n",
              "      <td>Real Bed</td>\n",
              "      <td>1.0</td>\n",
              "      <td>1.0</td>\n",
              "      <td>strict</td>\n",
              "      <td>DC</td>\n",
              "      <td>t</td>\n",
              "      <td>This is a new listing for a lovely guest bedro...</td>\n",
              "      <td>2016-09-12</td>\n",
              "      <td>t</td>\n",
              "      <td>t</td>\n",
              "      <td>100%</td>\n",
              "      <td>2015-12-30</td>\n",
              "      <td>f</td>\n",
              "      <td>2017-03-31</td>\n",
              "      <td>38.934810</td>\n",
              "      <td>-76.978190</td>\n",
              "      <td>Guest Bedroom in Brookland</td>\n",
              "      <td>Brookland</td>\n",
              "      <td>9</td>\n",
              "      <td>House</td>\n",
              "      <td>100.0</td>\n",
              "      <td>Private room</td>\n",
              "      <td>https://a0.muscache.com/im/pictures/e4d8b51f-6...</td>\n",
              "      <td>20018</td>\n",
              "      <td>42.0</td>\n",
              "    </tr>\n",
              "    <tr>\n",
              "      <th>2</th>\n",
              "      <td>2</td>\n",
              "      <td>{TV,Internet,\"Wireless Internet\",Kitchen,\"Indo...</td>\n",
              "      <td>2.0</td>\n",
              "      <td>Real Bed</td>\n",
              "      <td>1.0</td>\n",
              "      <td>1.0</td>\n",
              "      <td>strict</td>\n",
              "      <td>NYC</td>\n",
              "      <td>t</td>\n",
              "      <td>We're looking forward to your stay at our apt....</td>\n",
              "      <td>2016-06-15</td>\n",
              "      <td>t</td>\n",
              "      <td>f</td>\n",
              "      <td>100%</td>\n",
              "      <td>2016-05-21</td>\n",
              "      <td>t</td>\n",
              "      <td>2017-08-13</td>\n",
              "      <td>40.695118</td>\n",
              "      <td>-73.926240</td>\n",
              "      <td>Clean Modern Room in Lux Apt 1 Block From J Train</td>\n",
              "      <td>Bushwick</td>\n",
              "      <td>27</td>\n",
              "      <td>Apartment</td>\n",
              "      <td>83.0</td>\n",
              "      <td>Private room</td>\n",
              "      <td>https://a0.muscache.com/im/pictures/5ffecc9b-d...</td>\n",
              "      <td>NaN</td>\n",
              "      <td>65.0</td>\n",
              "    </tr>\n",
              "    <tr>\n",
              "      <th>3</th>\n",
              "      <td>2</td>\n",
              "      <td>{TV,\"Cable TV\",Internet,\"Wireless Internet\",\"A...</td>\n",
              "      <td>1.0</td>\n",
              "      <td>Real Bed</td>\n",
              "      <td>1.0</td>\n",
              "      <td>1.0</td>\n",
              "      <td>strict</td>\n",
              "      <td>SF</td>\n",
              "      <td>t</td>\n",
              "      <td>BEST CITY VIEWS - - ROOF DECK W/ BBQ &amp; WiFi - ...</td>\n",
              "      <td>2014-03-15</td>\n",
              "      <td>t</td>\n",
              "      <td>t</td>\n",
              "      <td>100%</td>\n",
              "      <td>2012-06-19</td>\n",
              "      <td>t</td>\n",
              "      <td>2017-09-03</td>\n",
              "      <td>37.796728</td>\n",
              "      <td>-122.411906</td>\n",
              "      <td>BEST views + reviews! 5/5 stars*****</td>\n",
              "      <td>Nob Hill</td>\n",
              "      <td>38</td>\n",
              "      <td>Apartment</td>\n",
              "      <td>95.0</td>\n",
              "      <td>Private room</td>\n",
              "      <td>NaN</td>\n",
              "      <td>94133</td>\n",
              "      <td>166.0</td>\n",
              "    </tr>\n",
              "    <tr>\n",
              "      <th>4</th>\n",
              "      <td>2</td>\n",
              "      <td>{TV,Internet,\"Wireless Internet\",\"Air conditio...</td>\n",
              "      <td>1.0</td>\n",
              "      <td>Real Bed</td>\n",
              "      <td>1.0</td>\n",
              "      <td>1.0</td>\n",
              "      <td>strict</td>\n",
              "      <td>NYC</td>\n",
              "      <td>t</td>\n",
              "      <td>Charming Apartment on the upper west side of M...</td>\n",
              "      <td>2015-08-05</td>\n",
              "      <td>t</td>\n",
              "      <td>t</td>\n",
              "      <td>100%</td>\n",
              "      <td>2015-03-25</td>\n",
              "      <td>f</td>\n",
              "      <td>2017-09-10</td>\n",
              "      <td>40.785050</td>\n",
              "      <td>-73.974691</td>\n",
              "      <td>Charming 1-bedroom - UWS Manhattan</td>\n",
              "      <td>Upper West Side</td>\n",
              "      <td>5</td>\n",
              "      <td>Apartment</td>\n",
              "      <td>100.0</td>\n",
              "      <td>Entire home/apt</td>\n",
              "      <td>https://a0.muscache.com/im/pictures/92879730/5...</td>\n",
              "      <td>10024</td>\n",
              "      <td>165.0</td>\n",
              "    </tr>\n",
              "  </tbody>\n",
              "</table>\n",
              "</div>"
            ],
            "text/plain": [
              "    accommodates                                          amenities  \\\n",
              "id                                                                    \n",
              "0              6  {TV,\"Wireless Internet\",Kitchen,\"Free parking ...   \n",
              "1              2  {TV,\"Cable TV\",Internet,\"Wireless Internet\",\"A...   \n",
              "2              2  {TV,Internet,\"Wireless Internet\",Kitchen,\"Indo...   \n",
              "3              2  {TV,\"Cable TV\",Internet,\"Wireless Internet\",\"A...   \n",
              "4              2  {TV,Internet,\"Wireless Internet\",\"Air conditio...   \n",
              "\n",
              "    bathrooms  bed_type  bedrooms  beds cancellation_policy city cleaning_fee  \\\n",
              "id                                                                              \n",
              "0         2.0  Real Bed       1.0   4.0            flexible   LA            t   \n",
              "1         1.0  Real Bed       1.0   1.0              strict   DC            t   \n",
              "2         2.0  Real Bed       1.0   1.0              strict  NYC            t   \n",
              "3         1.0  Real Bed       1.0   1.0              strict   SF            t   \n",
              "4         1.0  Real Bed       1.0   1.0              strict  NYC            t   \n",
              "\n",
              "                                          description first_review  \\\n",
              "id                                                                   \n",
              "0   My place is meant for family and a few friends...   2016-07-27   \n",
              "1   This is a new listing for a lovely guest bedro...   2016-09-12   \n",
              "2   We're looking forward to your stay at our apt....   2016-06-15   \n",
              "3   BEST CITY VIEWS - - ROOF DECK W/ BBQ & WiFi - ...   2014-03-15   \n",
              "4   Charming Apartment on the upper west side of M...   2015-08-05   \n",
              "\n",
              "   host_has_profile_pic host_identity_verified host_response_rate host_since  \\\n",
              "id                                                                             \n",
              "0                     t                      f                NaN 2016-07-13   \n",
              "1                     t                      t               100% 2015-12-30   \n",
              "2                     t                      f               100% 2016-05-21   \n",
              "3                     t                      t               100% 2012-06-19   \n",
              "4                     t                      t               100% 2015-03-25   \n",
              "\n",
              "   instant_bookable last_review   latitude   longitude  \\\n",
              "id                                                       \n",
              "0                 f  2016-07-27  33.788931 -118.154761   \n",
              "1                 f  2017-03-31  38.934810  -76.978190   \n",
              "2                 t  2017-08-13  40.695118  -73.926240   \n",
              "3                 t  2017-09-03  37.796728 -122.411906   \n",
              "4                 f  2017-09-10  40.785050  -73.974691   \n",
              "\n",
              "                                                 name    neighbourhood  \\\n",
              "id                                                                       \n",
              "0                                       The Penthouse              NaN   \n",
              "1                          Guest Bedroom in Brookland        Brookland   \n",
              "2   Clean Modern Room in Lux Apt 1 Block From J Train         Bushwick   \n",
              "3                BEST views + reviews! 5/5 stars*****         Nob Hill   \n",
              "4                  Charming 1-bedroom - UWS Manhattan  Upper West Side   \n",
              "\n",
              "    number_of_reviews property_type  review_scores_rating        room_type  \\\n",
              "id                                                                           \n",
              "0                   1     Apartment                  60.0     Private room   \n",
              "1                   9         House                 100.0     Private room   \n",
              "2                  27     Apartment                  83.0     Private room   \n",
              "3                  38     Apartment                  95.0     Private room   \n",
              "4                   5     Apartment                 100.0  Entire home/apt   \n",
              "\n",
              "                                        thumbnail_url zipcode      y  \n",
              "id                                                                    \n",
              "0                                                 NaN   90804  138.0  \n",
              "1   https://a0.muscache.com/im/pictures/e4d8b51f-6...   20018   42.0  \n",
              "2   https://a0.muscache.com/im/pictures/5ffecc9b-d...     NaN   65.0  \n",
              "3                                                 NaN   94133  166.0  \n",
              "4   https://a0.muscache.com/im/pictures/92879730/5...   10024  165.0  "
            ]
          },
          "metadata": {
            "tags": []
          },
          "execution_count": 7
        }
      ]
    },
    {
      "cell_type": "code",
      "metadata": {
        "id": "12wfu0TP_39A",
        "colab": {
          "base_uri": "https://localhost:8080/",
          "height": 595
        },
        "outputId": "6ccbaea3-7bbb-4d2f-8550-aa4c64d06bd9"
      },
      "source": [
        "# 先頭行の確認 df_test\n",
        "df_test.head()"
      ],
      "execution_count": 8,
      "outputs": [
        {
          "output_type": "execute_result",
          "data": {
            "text/html": [
              "<div>\n",
              "<style scoped>\n",
              "    .dataframe tbody tr th:only-of-type {\n",
              "        vertical-align: middle;\n",
              "    }\n",
              "\n",
              "    .dataframe tbody tr th {\n",
              "        vertical-align: top;\n",
              "    }\n",
              "\n",
              "    .dataframe thead th {\n",
              "        text-align: right;\n",
              "    }\n",
              "</style>\n",
              "<table border=\"1\" class=\"dataframe\">\n",
              "  <thead>\n",
              "    <tr style=\"text-align: right;\">\n",
              "      <th></th>\n",
              "      <th>accommodates</th>\n",
              "      <th>amenities</th>\n",
              "      <th>bathrooms</th>\n",
              "      <th>bed_type</th>\n",
              "      <th>bedrooms</th>\n",
              "      <th>beds</th>\n",
              "      <th>cancellation_policy</th>\n",
              "      <th>city</th>\n",
              "      <th>cleaning_fee</th>\n",
              "      <th>description</th>\n",
              "      <th>first_review</th>\n",
              "      <th>host_has_profile_pic</th>\n",
              "      <th>host_identity_verified</th>\n",
              "      <th>host_response_rate</th>\n",
              "      <th>host_since</th>\n",
              "      <th>instant_bookable</th>\n",
              "      <th>last_review</th>\n",
              "      <th>latitude</th>\n",
              "      <th>longitude</th>\n",
              "      <th>name</th>\n",
              "      <th>neighbourhood</th>\n",
              "      <th>number_of_reviews</th>\n",
              "      <th>property_type</th>\n",
              "      <th>review_scores_rating</th>\n",
              "      <th>room_type</th>\n",
              "      <th>thumbnail_url</th>\n",
              "      <th>zipcode</th>\n",
              "    </tr>\n",
              "    <tr>\n",
              "      <th>id</th>\n",
              "      <th></th>\n",
              "      <th></th>\n",
              "      <th></th>\n",
              "      <th></th>\n",
              "      <th></th>\n",
              "      <th></th>\n",
              "      <th></th>\n",
              "      <th></th>\n",
              "      <th></th>\n",
              "      <th></th>\n",
              "      <th></th>\n",
              "      <th></th>\n",
              "      <th></th>\n",
              "      <th></th>\n",
              "      <th></th>\n",
              "      <th></th>\n",
              "      <th></th>\n",
              "      <th></th>\n",
              "      <th></th>\n",
              "      <th></th>\n",
              "      <th></th>\n",
              "      <th></th>\n",
              "      <th></th>\n",
              "      <th></th>\n",
              "      <th></th>\n",
              "      <th></th>\n",
              "      <th></th>\n",
              "    </tr>\n",
              "  </thead>\n",
              "  <tbody>\n",
              "    <tr>\n",
              "      <th>0</th>\n",
              "      <td>6</td>\n",
              "      <td>{TV,\"Cable TV\",\"Wireless Internet\",\"Air condit...</td>\n",
              "      <td>2.0</td>\n",
              "      <td>Real Bed</td>\n",
              "      <td>2.0</td>\n",
              "      <td>2.0</td>\n",
              "      <td>strict</td>\n",
              "      <td>Boston</td>\n",
              "      <td>t</td>\n",
              "      <td>Feel free to book INSTANTLY. You can check-in ...</td>\n",
              "      <td>2017-01-09</td>\n",
              "      <td>t</td>\n",
              "      <td>f</td>\n",
              "      <td>100%</td>\n",
              "      <td>2016-08-23</td>\n",
              "      <td>t</td>\n",
              "      <td>2017-09-25</td>\n",
              "      <td>42.359278</td>\n",
              "      <td>-71.069962</td>\n",
              "      <td>Gorgeous 2BR/2BA Duplex in Beacon Hill</td>\n",
              "      <td>Beacon Hill</td>\n",
              "      <td>58</td>\n",
              "      <td>House</td>\n",
              "      <td>90.0</td>\n",
              "      <td>Entire home/apt</td>\n",
              "      <td>https://a0.muscache.com/im/pictures/7e4808b4-5...</td>\n",
              "      <td>02114</td>\n",
              "    </tr>\n",
              "    <tr>\n",
              "      <th>1</th>\n",
              "      <td>3</td>\n",
              "      <td>{TV,\"Cable TV\",Internet,\"Wireless Internet\",\"A...</td>\n",
              "      <td>1.0</td>\n",
              "      <td>Real Bed</td>\n",
              "      <td>1.0</td>\n",
              "      <td>1.0</td>\n",
              "      <td>moderate</td>\n",
              "      <td>LA</td>\n",
              "      <td>t</td>\n",
              "      <td>The guest house is close to: Equinox West Holl...</td>\n",
              "      <td>2016-08-17</td>\n",
              "      <td>t</td>\n",
              "      <td>t</td>\n",
              "      <td>100%</td>\n",
              "      <td>2014-09-03</td>\n",
              "      <td>f</td>\n",
              "      <td>2017-05-02</td>\n",
              "      <td>34.084747</td>\n",
              "      <td>-118.367355</td>\n",
              "      <td>Luxury 1 Bedroom West Hollywood City Center</td>\n",
              "      <td>West Hollywood</td>\n",
              "      <td>4</td>\n",
              "      <td>Guesthouse</td>\n",
              "      <td>100.0</td>\n",
              "      <td>Entire home/apt</td>\n",
              "      <td>https://a0.muscache.com/im/pictures/5392fbd6-6...</td>\n",
              "      <td>90046</td>\n",
              "    </tr>\n",
              "    <tr>\n",
              "      <th>2</th>\n",
              "      <td>2</td>\n",
              "      <td>{TV,\"Wireless Internet\",\"Air conditioning\",Kit...</td>\n",
              "      <td>1.0</td>\n",
              "      <td>Real Bed</td>\n",
              "      <td>0.0</td>\n",
              "      <td>1.0</td>\n",
              "      <td>flexible</td>\n",
              "      <td>NYC</td>\n",
              "      <td>f</td>\n",
              "      <td>Private room in a three bedroom apartment in N...</td>\n",
              "      <td>NaT</td>\n",
              "      <td>t</td>\n",
              "      <td>t</td>\n",
              "      <td>100%</td>\n",
              "      <td>2012-10-17</td>\n",
              "      <td>f</td>\n",
              "      <td>NaT</td>\n",
              "      <td>40.720541</td>\n",
              "      <td>-73.959192</td>\n",
              "      <td>Bedroom with Patio in Prime Williamsburg Locat...</td>\n",
              "      <td>Williamsburg</td>\n",
              "      <td>0</td>\n",
              "      <td>Apartment</td>\n",
              "      <td>NaN</td>\n",
              "      <td>Private room</td>\n",
              "      <td>https://a0.muscache.com/im/pictures/544d3b89-d...</td>\n",
              "      <td>11249.0</td>\n",
              "    </tr>\n",
              "    <tr>\n",
              "      <th>3</th>\n",
              "      <td>4</td>\n",
              "      <td>{TV,\"Cable TV\",Internet,\"Wireless Internet\",\"A...</td>\n",
              "      <td>1.0</td>\n",
              "      <td>Real Bed</td>\n",
              "      <td>1.0</td>\n",
              "      <td>2.0</td>\n",
              "      <td>strict</td>\n",
              "      <td>NYC</td>\n",
              "      <td>f</td>\n",
              "      <td>The apartment is located in historic Bed Stuy ...</td>\n",
              "      <td>NaT</td>\n",
              "      <td>t</td>\n",
              "      <td>t</td>\n",
              "      <td>NaN</td>\n",
              "      <td>2013-01-23</td>\n",
              "      <td>f</td>\n",
              "      <td>NaT</td>\n",
              "      <td>40.681117</td>\n",
              "      <td>-73.944091</td>\n",
              "      <td>Cozy apartment in Brooklyn</td>\n",
              "      <td>Bedford-Stuyvesant</td>\n",
              "      <td>0</td>\n",
              "      <td>Apartment</td>\n",
              "      <td>NaN</td>\n",
              "      <td>Entire home/apt</td>\n",
              "      <td>https://a0.muscache.com/im/pictures/26baf7ba-0...</td>\n",
              "      <td>11216</td>\n",
              "    </tr>\n",
              "    <tr>\n",
              "      <th>4</th>\n",
              "      <td>3</td>\n",
              "      <td>{TV,Internet,\"Wireless Internet\",\"Air conditio...</td>\n",
              "      <td>1.5</td>\n",
              "      <td>Real Bed</td>\n",
              "      <td>1.0</td>\n",
              "      <td>2.0</td>\n",
              "      <td>strict</td>\n",
              "      <td>LA</td>\n",
              "      <td>t</td>\n",
              "      <td>Our cozy, pet friendly one bedroom apartment/l...</td>\n",
              "      <td>2015-08-01</td>\n",
              "      <td>t</td>\n",
              "      <td>t</td>\n",
              "      <td>100%</td>\n",
              "      <td>2014-12-28</td>\n",
              "      <td>f</td>\n",
              "      <td>2016-09-11</td>\n",
              "      <td>34.150995</td>\n",
              "      <td>-118.409359</td>\n",
              "      <td>Cozy, sunny, pet friendly loft/apt</td>\n",
              "      <td>NaN</td>\n",
              "      <td>6</td>\n",
              "      <td>Loft</td>\n",
              "      <td>92.0</td>\n",
              "      <td>Entire home/apt</td>\n",
              "      <td>https://a0.muscache.com/im/pictures/86107545/9...</td>\n",
              "      <td>91604</td>\n",
              "    </tr>\n",
              "  </tbody>\n",
              "</table>\n",
              "</div>"
            ],
            "text/plain": [
              "    accommodates                                          amenities  \\\n",
              "id                                                                    \n",
              "0              6  {TV,\"Cable TV\",\"Wireless Internet\",\"Air condit...   \n",
              "1              3  {TV,\"Cable TV\",Internet,\"Wireless Internet\",\"A...   \n",
              "2              2  {TV,\"Wireless Internet\",\"Air conditioning\",Kit...   \n",
              "3              4  {TV,\"Cable TV\",Internet,\"Wireless Internet\",\"A...   \n",
              "4              3  {TV,Internet,\"Wireless Internet\",\"Air conditio...   \n",
              "\n",
              "    bathrooms  bed_type  bedrooms  beds cancellation_policy    city  \\\n",
              "id                                                                    \n",
              "0         2.0  Real Bed       2.0   2.0              strict  Boston   \n",
              "1         1.0  Real Bed       1.0   1.0            moderate      LA   \n",
              "2         1.0  Real Bed       0.0   1.0            flexible     NYC   \n",
              "3         1.0  Real Bed       1.0   2.0              strict     NYC   \n",
              "4         1.5  Real Bed       1.0   2.0              strict      LA   \n",
              "\n",
              "   cleaning_fee                                        description  \\\n",
              "id                                                                   \n",
              "0             t  Feel free to book INSTANTLY. You can check-in ...   \n",
              "1             t  The guest house is close to: Equinox West Holl...   \n",
              "2             f  Private room in a three bedroom apartment in N...   \n",
              "3             f  The apartment is located in historic Bed Stuy ...   \n",
              "4             t  Our cozy, pet friendly one bedroom apartment/l...   \n",
              "\n",
              "   first_review host_has_profile_pic host_identity_verified  \\\n",
              "id                                                            \n",
              "0    2017-01-09                    t                      f   \n",
              "1    2016-08-17                    t                      t   \n",
              "2           NaT                    t                      t   \n",
              "3           NaT                    t                      t   \n",
              "4    2015-08-01                    t                      t   \n",
              "\n",
              "   host_response_rate host_since instant_bookable last_review   latitude  \\\n",
              "id                                                                         \n",
              "0                100% 2016-08-23                t  2017-09-25  42.359278   \n",
              "1                100% 2014-09-03                f  2017-05-02  34.084747   \n",
              "2                100% 2012-10-17                f         NaT  40.720541   \n",
              "3                 NaN 2013-01-23                f         NaT  40.681117   \n",
              "4                100% 2014-12-28                f  2016-09-11  34.150995   \n",
              "\n",
              "     longitude                                               name  \\\n",
              "id                                                                  \n",
              "0   -71.069962             Gorgeous 2BR/2BA Duplex in Beacon Hill   \n",
              "1  -118.367355        Luxury 1 Bedroom West Hollywood City Center   \n",
              "2   -73.959192  Bedroom with Patio in Prime Williamsburg Locat...   \n",
              "3   -73.944091                         Cozy apartment in Brooklyn   \n",
              "4  -118.409359                 Cozy, sunny, pet friendly loft/apt   \n",
              "\n",
              "         neighbourhood  number_of_reviews property_type  review_scores_rating  \\\n",
              "id                                                                              \n",
              "0          Beacon Hill                 58         House                  90.0   \n",
              "1       West Hollywood                  4    Guesthouse                 100.0   \n",
              "2         Williamsburg                  0     Apartment                   NaN   \n",
              "3   Bedford-Stuyvesant                  0     Apartment                   NaN   \n",
              "4                  NaN                  6          Loft                  92.0   \n",
              "\n",
              "          room_type                                      thumbnail_url  \\\n",
              "id                                                                       \n",
              "0   Entire home/apt  https://a0.muscache.com/im/pictures/7e4808b4-5...   \n",
              "1   Entire home/apt  https://a0.muscache.com/im/pictures/5392fbd6-6...   \n",
              "2      Private room  https://a0.muscache.com/im/pictures/544d3b89-d...   \n",
              "3   Entire home/apt  https://a0.muscache.com/im/pictures/26baf7ba-0...   \n",
              "4   Entire home/apt  https://a0.muscache.com/im/pictures/86107545/9...   \n",
              "\n",
              "    zipcode  \n",
              "id           \n",
              "0     02114  \n",
              "1     90046  \n",
              "2   11249.0  \n",
              "3     11216  \n",
              "4     91604  "
            ]
          },
          "metadata": {
            "tags": []
          },
          "execution_count": 8
        }
      ]
    },
    {
      "cell_type": "code",
      "metadata": {
        "id": "UfdXMplT_39B",
        "colab": {
          "base_uri": "https://localhost:8080/",
          "height": 218
        },
        "outputId": "ddb7d8ed-022a-4d24-e9c4-3b4340af1e33"
      },
      "source": [
        "# 先頭行の確認 submission\n",
        "submission.head()"
      ],
      "execution_count": 9,
      "outputs": [
        {
          "output_type": "execute_result",
          "data": {
            "text/html": [
              "<div>\n",
              "<style scoped>\n",
              "    .dataframe tbody tr th:only-of-type {\n",
              "        vertical-align: middle;\n",
              "    }\n",
              "\n",
              "    .dataframe tbody tr th {\n",
              "        vertical-align: top;\n",
              "    }\n",
              "\n",
              "    .dataframe thead th {\n",
              "        text-align: right;\n",
              "    }\n",
              "</style>\n",
              "<table border=\"1\" class=\"dataframe\">\n",
              "  <thead>\n",
              "    <tr style=\"text-align: right;\">\n",
              "      <th></th>\n",
              "      <th>y</th>\n",
              "    </tr>\n",
              "    <tr>\n",
              "      <th></th>\n",
              "      <th></th>\n",
              "    </tr>\n",
              "  </thead>\n",
              "  <tbody>\n",
              "    <tr>\n",
              "      <th>0</th>\n",
              "      <td>10</td>\n",
              "    </tr>\n",
              "    <tr>\n",
              "      <th>1</th>\n",
              "      <td>10</td>\n",
              "    </tr>\n",
              "    <tr>\n",
              "      <th>2</th>\n",
              "      <td>10</td>\n",
              "    </tr>\n",
              "    <tr>\n",
              "      <th>3</th>\n",
              "      <td>10</td>\n",
              "    </tr>\n",
              "    <tr>\n",
              "      <th>4</th>\n",
              "      <td>10</td>\n",
              "    </tr>\n",
              "  </tbody>\n",
              "</table>\n",
              "</div>"
            ],
            "text/plain": [
              "    y\n",
              "     \n",
              "0  10\n",
              "1  10\n",
              "2  10\n",
              "3  10\n",
              "4  10"
            ]
          },
          "metadata": {
            "tags": []
          },
          "execution_count": 9
        }
      ]
    },
    {
      "cell_type": "markdown",
      "metadata": {
        "id": "oBmvO5CY_39B"
      },
      "source": [
        "#### 特徴量（カラム）のデータ型の確認"
      ]
    },
    {
      "cell_type": "code",
      "metadata": {
        "id": "WZr_wYC3_39C",
        "colab": {
          "base_uri": "https://localhost:8080/"
        },
        "outputId": "6a0bd669-4644-4057-c22b-47707e367951"
      },
      "source": [
        "df_train.info()"
      ],
      "execution_count": 10,
      "outputs": [
        {
          "output_type": "stream",
          "text": [
            "<class 'pandas.core.frame.DataFrame'>\n",
            "Int64Index: 55583 entries, 0 to 55582\n",
            "Data columns (total 28 columns):\n",
            " #   Column                  Non-Null Count  Dtype         \n",
            "---  ------                  --------------  -----         \n",
            " 0   accommodates            55583 non-null  int64         \n",
            " 1   amenities               55583 non-null  object        \n",
            " 2   bathrooms               55436 non-null  float64       \n",
            " 3   bed_type                55583 non-null  object        \n",
            " 4   bedrooms                55512 non-null  float64       \n",
            " 5   beds                    55487 non-null  float64       \n",
            " 6   cancellation_policy     55583 non-null  object        \n",
            " 7   city                    55583 non-null  object        \n",
            " 8   cleaning_fee            55583 non-null  object        \n",
            " 9   description             55583 non-null  object        \n",
            " 10  first_review            43675 non-null  datetime64[ns]\n",
            " 11  host_has_profile_pic    55435 non-null  object        \n",
            " 12  host_identity_verified  55435 non-null  object        \n",
            " 13  host_response_rate      41879 non-null  object        \n",
            " 14  host_since              55435 non-null  datetime64[ns]\n",
            " 15  instant_bookable        55583 non-null  object        \n",
            " 16  last_review             43703 non-null  datetime64[ns]\n",
            " 17  latitude                55583 non-null  float64       \n",
            " 18  longitude               55583 non-null  float64       \n",
            " 19  name                    55583 non-null  object        \n",
            " 20  neighbourhood           50423 non-null  object        \n",
            " 21  number_of_reviews       55583 non-null  int64         \n",
            " 22  property_type           55583 non-null  object        \n",
            " 23  review_scores_rating    43027 non-null  float64       \n",
            " 24  room_type               55583 non-null  object        \n",
            " 25  thumbnail_url           49438 non-null  object        \n",
            " 26  zipcode                 54867 non-null  object        \n",
            " 27  y                       55583 non-null  float64       \n",
            "dtypes: datetime64[ns](3), float64(7), int64(2), object(16)\n",
            "memory usage: 12.3+ MB\n"
          ],
          "name": "stdout"
        }
      ]
    },
    {
      "cell_type": "code",
      "metadata": {
        "id": "pMw6RO7H_39C",
        "colab": {
          "base_uri": "https://localhost:8080/"
        },
        "outputId": "ca41e47d-e824-440a-e75b-3bb1b4c86f97"
      },
      "source": [
        "df_test.info()"
      ],
      "execution_count": 11,
      "outputs": [
        {
          "output_type": "stream",
          "text": [
            "<class 'pandas.core.frame.DataFrame'>\n",
            "Int64Index: 18528 entries, 0 to 18527\n",
            "Data columns (total 27 columns):\n",
            " #   Column                  Non-Null Count  Dtype         \n",
            "---  ------                  --------------  -----         \n",
            " 0   accommodates            18528 non-null  int64         \n",
            " 1   amenities               18528 non-null  object        \n",
            " 2   bathrooms               18475 non-null  float64       \n",
            " 3   bed_type                18528 non-null  object        \n",
            " 4   bedrooms                18508 non-null  float64       \n",
            " 5   beds                    18493 non-null  float64       \n",
            " 6   cancellation_policy     18528 non-null  object        \n",
            " 7   city                    18528 non-null  object        \n",
            " 8   cleaning_fee            18528 non-null  object        \n",
            " 9   description             18528 non-null  object        \n",
            " 10  first_review            14572 non-null  datetime64[ns]\n",
            " 11  host_has_profile_pic    18488 non-null  object        \n",
            " 12  host_identity_verified  18488 non-null  object        \n",
            " 13  host_response_rate      13933 non-null  object        \n",
            " 14  host_since              18488 non-null  datetime64[ns]\n",
            " 15  instant_bookable        18528 non-null  object        \n",
            " 16  last_review             14581 non-null  datetime64[ns]\n",
            " 17  latitude                18528 non-null  float64       \n",
            " 18  longitude               18528 non-null  float64       \n",
            " 19  name                    18528 non-null  object        \n",
            " 20  neighbourhood           16816 non-null  object        \n",
            " 21  number_of_reviews       18528 non-null  int64         \n",
            " 22  property_type           18528 non-null  object        \n",
            " 23  review_scores_rating    14362 non-null  float64       \n",
            " 24  room_type               18528 non-null  object        \n",
            " 25  thumbnail_url           16457 non-null  object        \n",
            " 26  zipcode                 18278 non-null  object        \n",
            "dtypes: datetime64[ns](3), float64(6), int64(2), object(16)\n",
            "memory usage: 4.0+ MB\n"
          ],
          "name": "stdout"
        }
      ]
    },
    {
      "cell_type": "markdown",
      "metadata": {
        "id": "7-vqchwA_39D"
      },
      "source": [
        "#### 欠損・ユニーク数の確認"
      ]
    },
    {
      "cell_type": "code",
      "metadata": {
        "id": "rtTqRZ3f_39D"
      },
      "source": [
        "# 欠損確認\n",
        "total_nan = df_train.isnull().sum().sort_values(ascending=False)\n",
        "percent_nan = (df_train.isnull().sum()/len(df_train)*100).sort_values(ascending=False)\n",
        "df_nan = pd.concat([total_nan, percent_nan], axis=1, keys=['NaN合計', 'NaN 割合[%]'])\n",
        "\n",
        "# ユニーク数確認\n",
        "nunique = df_train.nunique().sort_values(ascending=False)\n",
        "percent_unique = df_train.nunique().sort_values(ascending=False)/len(df_train)*100\n",
        "df_nunique = pd.concat([nunique,percent_unique],axis=1,keys=[\"ユニーク数\",\"ユニーク数 割合[%]\"])\n",
        "\n",
        "df_nanunique = pd.concat([df_nan,df_nunique],axis=1)\n",
        "df_uniquenan = pd.concat([df_nunique,df_nan],axis=1)"
      ],
      "execution_count": null,
      "outputs": []
    },
    {
      "cell_type": "code",
      "metadata": {
        "id": "YIEp9RmiCaz0"
      },
      "source": [
        "df_nanunique.head(len(df_train))"
      ],
      "execution_count": null,
      "outputs": []
    },
    {
      "cell_type": "code",
      "metadata": {
        "id": "5AwW4nSY3Fip"
      },
      "source": [
        "# 欠損確認\n",
        "total_nan = df_test.isnull().sum().sort_values(ascending=False)\n",
        "percent_nan = (df_test.isnull().sum()/len(df_test)*100).sort_values(ascending=False)\n",
        "df_nan = pd.concat([total_nan, percent_nan], axis=1, keys=['NaN合計', 'NaN 割合[%]'])\n",
        "\n",
        "# ユニーク数確認\n",
        "nunique = df_test.nunique().sort_values(ascending=False)\n",
        "percent_unique = df_test.nunique().sort_values(ascending=False)/len(df_train)*100\n",
        "df_nunique = pd.concat([nunique,percent_unique],axis=1,keys=[\"ユニーク数\",\"ユニーク数 割合[%]\"])\n",
        "\n",
        "df_nanunique = pd.concat([df_nan,df_nunique],axis=1)\n",
        "df_uniquenan = pd.concat([df_nunique,df_nan],axis=1)"
      ],
      "execution_count": null,
      "outputs": []
    },
    {
      "cell_type": "code",
      "metadata": {
        "id": "zTi6GgUvCi0P"
      },
      "source": [
        "df_nanunique.head(len(df_train))"
      ],
      "execution_count": null,
      "outputs": []
    },
    {
      "cell_type": "markdown",
      "metadata": {
        "id": "gIjKYZlt_39D"
      },
      "source": [
        "#### 基本統計量　（数値特徴量）"
      ]
    },
    {
      "cell_type": "code",
      "metadata": {
        "id": "Rc1cRgpuf61O"
      },
      "source": [
        "pd.options.display.float_format = '{:.7g}'.format"
      ],
      "execution_count": null,
      "outputs": []
    },
    {
      "cell_type": "code",
      "metadata": {
        "id": "dRFF2DKp_39D"
      },
      "source": [
        "df_train.describe()"
      ],
      "execution_count": null,
      "outputs": []
    },
    {
      "cell_type": "code",
      "metadata": {
        "id": "yEA8n3ZtIIdB"
      },
      "source": [
        "df_test.describe()"
      ],
      "execution_count": null,
      "outputs": []
    },
    {
      "cell_type": "code",
      "metadata": {
        "id": "9GWEatrICzLF"
      },
      "source": [
        "# １7０0$以上の物件について中身を確認\n",
        "df_train[(df_train[\"y\"] > 1500)&(df_train[\"accommodates\"] <3) ]"
      ],
      "execution_count": null,
      "outputs": []
    },
    {
      "cell_type": "code",
      "metadata": {
        "id": "ogcmCzdlXzYz"
      },
      "source": [
        "# 10$以下の物件について中身を確認\n",
        "df_train[df_train[\"y\"] < 10 ]"
      ],
      "execution_count": null,
      "outputs": []
    },
    {
      "cell_type": "code",
      "metadata": {
        "id": "E_lJ2YuuVqFC"
      },
      "source": [
        "delnums = [14807,39193,40313,40732,29385,34730]\n",
        "for delnum in delnums :\n",
        "  df_train.drop(delnum,inplace=True)"
      ],
      "execution_count": null,
      "outputs": []
    },
    {
      "cell_type": "markdown",
      "metadata": {
        "id": "ApijIRZD_39E"
      },
      "source": [
        "#### 数値特徴量のヒストグラムを確認"
      ]
    },
    {
      "cell_type": "code",
      "metadata": {
        "id": "SMSxdXmnLJtM"
      },
      "source": [
        "# dtypeが数値のカラム名\n",
        "\n",
        "numerical_feats = df_train.dtypes[df_train.dtypes != \"object\"].index\n",
        "numerical_feats"
      ],
      "execution_count": null,
      "outputs": []
    },
    {
      "cell_type": "code",
      "metadata": {
        "id": "vJfDas4nHnOD"
      },
      "source": [
        "sns.displot(data=df_train,x=\"review_scores_rating\")"
      ],
      "execution_count": null,
      "outputs": []
    },
    {
      "cell_type": "markdown",
      "metadata": {
        "id": "srT62ub0MnOE"
      },
      "source": [
        "#### 各特徴量を個別に確認"
      ]
    },
    {
      "cell_type": "code",
      "metadata": {
        "id": "DJezwlgNLy-I"
      },
      "source": [
        "# dtypeがobject（数値でないもの）のカラム名とユニーク数、欠損数の確認\n",
        "# カテゴリ値のカラム確認\n",
        "categorical_feats = df_train.dtypes[df_train.dtypes == \"object\"].index\n",
        "categorical_feats"
      ],
      "execution_count": null,
      "outputs": []
    },
    {
      "cell_type": "code",
      "metadata": {
        "id": "dH0JxsIZL7om"
      },
      "source": [
        "# テキスト特徴量\n",
        "col = \"amenities\"\n",
        "df_train[col].unique()"
      ],
      "execution_count": null,
      "outputs": []
    },
    {
      "cell_type": "code",
      "metadata": {
        "id": "6kTs1Oa2L35i"
      },
      "source": [
        "# カテゴリ　\n",
        "col = \"bed_type\"\n",
        "target = \"y\"\n",
        "\n",
        "plt.figure(figsize=(20, 10))\n",
        "sns.violinplot(data=df_train,x=col,y=target)\n",
        "pd.DataFrame(df_train[col].value_counts().sort_values(ascending = False))"
      ],
      "execution_count": null,
      "outputs": []
    },
    {
      "cell_type": "code",
      "metadata": {
        "id": "4lWwyQS4M85w"
      },
      "source": [
        "col = \"cancellation_policy\"\n",
        "plt.figure(figsize=(20, 10))\n",
        "sns.violinplot(data=df_train,x=col,y=target)\n",
        "\n",
        "pd.DataFrame(df_train[col].value_counts().sort_values(ascending = False))"
      ],
      "execution_count": null,
      "outputs": []
    },
    {
      "cell_type": "code",
      "metadata": {
        "id": "x11yeY8DNwr4"
      },
      "source": [
        "col = \"city\"\n",
        "\n",
        "target = \"y\"\n",
        "plt.figure(figsize=(20, 10))\n",
        "sns.violinplot(data=df_train,x=col,y=target)\n",
        "\n",
        "pd.DataFrame(df_test[col].value_counts().sort_values(ascending = False))"
      ],
      "execution_count": null,
      "outputs": []
    },
    {
      "cell_type": "code",
      "metadata": {
        "id": "ynf1JycmWr1s"
      },
      "source": [
        "col = \"first_review\"\n",
        "pd.DataFrame(df_train[col].dt.year.value_counts())"
      ],
      "execution_count": null,
      "outputs": []
    },
    {
      "cell_type": "code",
      "metadata": {
        "id": "p3WRBpDussfT"
      },
      "source": [
        "pd.DataFrame(df_test[col].dt.year.value_counts())"
      ],
      "execution_count": null,
      "outputs": []
    },
    {
      "cell_type": "code",
      "metadata": {
        "id": "XhC_Z6ikUlIG"
      },
      "source": [
        "df_train[\"y\"].groupby(df_train[col].dt.year).mean()"
      ],
      "execution_count": null,
      "outputs": []
    },
    {
      "cell_type": "code",
      "metadata": {
        "id": "cRWNOR3fOAph"
      },
      "source": [
        "col = \"host_has_profile_pic\"\n",
        "pd.DataFrame(df_train[col].value_counts().sort_values(ascending = False))"
      ],
      "execution_count": null,
      "outputs": []
    },
    {
      "cell_type": "code",
      "metadata": {
        "id": "OEft58myuE2s"
      },
      "source": [
        "pd.DataFrame(df_test[col].value_counts().sort_values(ascending = False))"
      ],
      "execution_count": null,
      "outputs": []
    },
    {
      "cell_type": "code",
      "metadata": {
        "id": "cofDYvdUPxyZ"
      },
      "source": [
        "col = \"host_identity_verified\"\n",
        "pd.DataFrame(df_train[col].value_counts().sort_values(ascending = False))"
      ],
      "execution_count": null,
      "outputs": []
    },
    {
      "cell_type": "code",
      "metadata": {
        "id": "TKhuxsxguP0W"
      },
      "source": [
        "pd.DataFrame(df_test[col].value_counts().sort_values(ascending = False))"
      ],
      "execution_count": null,
      "outputs": []
    },
    {
      "cell_type": "code",
      "metadata": {
        "id": "HBgwtoJYQPqm"
      },
      "source": [
        "col = \"host_response_rate\"\n",
        "pd.DataFrame(df_train[col].value_counts().sort_values(ascending = False))"
      ],
      "execution_count": null,
      "outputs": []
    },
    {
      "cell_type": "code",
      "metadata": {
        "id": "6I65GDmDQe1V"
      },
      "source": [
        "df_train[col].unique()"
      ],
      "execution_count": null,
      "outputs": []
    },
    {
      "cell_type": "code",
      "metadata": {
        "id": "5eQh8RWfQpS_"
      },
      "source": [
        "col = \"host_since\"\n",
        "pd.DataFrame(df_train[col].value_counts().sort_values(ascending = False))"
      ],
      "execution_count": null,
      "outputs": []
    },
    {
      "cell_type": "code",
      "metadata": {
        "id": "i93f34OdVU4f"
      },
      "source": [
        "df_train[\"y\"].groupby(df_train[col].dt.year).mean()"
      ],
      "execution_count": null,
      "outputs": []
    },
    {
      "cell_type": "code",
      "metadata": {
        "id": "3EtcvnRrgYDa"
      },
      "source": [
        "col = \"instant_bookable\"\n",
        "pd.DataFrame(df_train[col].value_counts().sort_values(ascending = False))"
      ],
      "execution_count": null,
      "outputs": []
    },
    {
      "cell_type": "code",
      "metadata": {
        "id": "v9dOKYAbjT6g"
      },
      "source": [
        "col = \"property_type\"\n",
        "pd.DataFrame(df_train[col].value_counts().sort_values(ascending = False))"
      ],
      "execution_count": null,
      "outputs": []
    },
    {
      "cell_type": "markdown",
      "metadata": {
        "id": "bafZcsuq_39E"
      },
      "source": [
        "## 特徴量エンジニアリング（Feature Engineering）"
      ]
    },
    {
      "cell_type": "markdown",
      "metadata": {
        "id": "vKLsBBn_qgD8"
      },
      "source": [
        "ture/false →　1/0 に変換\n",
        "- cleaning_fee\n",
        "- host_has_profile_pic\t\n",
        "- host_identity_verified\n",
        "- instant_bookable\n",
        "\n",
        "%を削除し数値変換\n",
        "- host_response_rate\n",
        "\n",
        "列削除\n",
        "- latitude\tlongitude\n",
        "\n",
        "欠損有無のみ列として残す\n",
        "- thumbnail_url\n",
        "\n",
        "桁数を減らして利用\n",
        "- zipcode\n",
        "\n",
        "2017/12/31を基準日とし、差分を取る\n",
        "- first_review,last_review,host_since"
      ]
    },
    {
      "cell_type": "markdown",
      "metadata": {
        "id": "oQBlvHIw_39E"
      },
      "source": [
        "#### Xとyに分割（X_train,y_train,X_testの生成）"
      ]
    },
    {
      "cell_type": "code",
      "metadata": {
        "id": "YBxGwKm7_39E"
      },
      "source": [
        "# Xとyに分割 (X_train,y_train,X_test の生成)\n",
        "target = \"y\"\n",
        "y_train = df_train[target]\n",
        "X_train = df_train.drop([target], axis=1)\n",
        "X_test = df_test.copy()"
      ],
      "execution_count": null,
      "outputs": []
    },
    {
      "cell_type": "markdown",
      "metadata": {
        "id": "Cn3HX82vGxsP"
      },
      "source": [
        "#### 欠損数の追加"
      ]
    },
    {
      "cell_type": "code",
      "metadata": {
        "id": "oAibH4fwGw_T"
      },
      "source": [
        "#NaNに関数特徴量を新たに作成\n",
        "for col in X_train.columns:\n",
        "    if X_train[col].isnull().any():\n",
        "        X_train[col + '_isNaN'] = X_train[col].isnull().astype(int)\n",
        "        X_test[col + '_isNaN'] = X_test[col].isnull().astype(int)   \n",
        "\n",
        "X_train['null_count'] = X_train.isnull().sum(axis=1)\n",
        "X_test['null_count'] = X_test.isnull().sum(axis=1)"
      ],
      "execution_count": null,
      "outputs": []
    },
    {
      "cell_type": "markdown",
      "metadata": {
        "id": "CtY4bxu6ZW_s"
      },
      "source": [
        "#### ターゲットの対数を取り分布を正規分布に近づける"
      ]
    },
    {
      "cell_type": "code",
      "metadata": {
        "id": "kLvJezQaWRJX"
      },
      "source": [
        "y_train = y_train.apply(np.log1p)"
      ],
      "execution_count": null,
      "outputs": []
    },
    {
      "cell_type": "markdown",
      "metadata": {
        "id": "UNECBjCvvYWS"
      },
      "source": [
        "#### 列削除"
      ]
    },
    {
      "cell_type": "code",
      "metadata": {
        "id": "F43dDzf7vclW"
      },
      "source": [
        "cols = [\"thumbnail_url\",\"latitude\",\"longitude\"]\n",
        "X_train.drop(cols,axis = 1,inplace=True)\n",
        "X_test.drop(cols,axis = 1,inplace=True)"
      ],
      "execution_count": null,
      "outputs": []
    },
    {
      "cell_type": "markdown",
      "metadata": {
        "id": "ZKCZ5CpD_39F"
      },
      "source": [
        "#### ture/false →　1/0 に変換"
      ]
    },
    {
      "cell_type": "code",
      "metadata": {
        "id": "40O5T7nb_39G"
      },
      "source": [
        "cols = [\"cleaning_fee\",\"host_has_profile_pic\",\"host_identity_verified\",\"instant_bookable\"]\n",
        "\n",
        "for col in cols :\n",
        "  X_train[col] = X_train[col].apply(lambda x: 1 if x == \"t\" else 0 )\n",
        "  X_test[col] = X_test[col].apply(lambda x: 1 if x == \"t\" else 0)"
      ],
      "execution_count": null,
      "outputs": []
    },
    {
      "cell_type": "markdown",
      "metadata": {
        "id": "I2MA1UZQsTbN"
      },
      "source": [
        "#### %を削除し数値変換"
      ]
    },
    {
      "cell_type": "code",
      "metadata": {
        "id": "NvHoDGGKsSin"
      },
      "source": [
        "col = \"host_response_rate\"\n",
        "X_train[col].fillna(\"-1%\",inplace=True)\n",
        "X_test[col].fillna(\"-1%\",inplace=True)\n",
        "X_train[col] = X_train[col].str.strip('%').astype(float)\n",
        "X_test[col] = X_test[col].str.strip('%').astype(float)"
      ],
      "execution_count": null,
      "outputs": []
    },
    {
      "cell_type": "markdown",
      "metadata": {
        "id": "CBD054lVv813"
      },
      "source": [
        "#### 桁数を減らして利用"
      ]
    },
    {
      "cell_type": "code",
      "metadata": {
        "id": "mH11-yYwv_0t"
      },
      "source": [
        "col = \"zipcode\"\n",
        "X_train[col].fillna(\"nan\",inplace=True)\n",
        "X_test[col].fillna(\"nan\",inplace=True)\n",
        "X_train[col] = X_train[col].apply(lambda x:x[:3])\n",
        "X_test[col] = X_test[col].apply(lambda x:x[:3])"
      ],
      "execution_count": null,
      "outputs": []
    },
    {
      "cell_type": "markdown",
      "metadata": {
        "id": "nrPDZPKQ02LD"
      },
      "source": [
        "#### 2017/12/31を基準日とし、差分を取る"
      ]
    },
    {
      "cell_type": "code",
      "metadata": {
        "id": "Veu0i1k807Ky"
      },
      "source": [
        "col = \"last_review\"\n",
        "day = datetime.datetime(2017, 10, 31, 0, 0, 0)\n",
        "X_train[col].fillna(day,inplace=True)\n",
        "X_test[col].fillna(day,inplace=True)\n",
        "X_train[col] =  X_train[col].apply(lambda x: day - x).dt.days\n",
        "X_test[col] =  X_test[col].apply(lambda x: day - x).dt.days"
      ],
      "execution_count": null,
      "outputs": []
    },
    {
      "cell_type": "code",
      "metadata": {
        "id": "9SGFFT_pDMIK"
      },
      "source": [
        "cols = [\"first_review\",\"host_since\"]\n",
        "\n",
        "for col in cols:\n",
        "  day = datetime.datetime(1,1,1, 0, 0, 0)\n",
        "  X_train[col] =  X_train[col].apply(lambda x: str(x.year *100 + x.month))\n",
        "  X_test[col] =  X_test[col].apply(lambda x: str(x.year *100 + x.month))"
      ],
      "execution_count": null,
      "outputs": []
    },
    {
      "cell_type": "markdown",
      "metadata": {
        "id": "NN-HJhtzOx7I"
      },
      "source": [
        "#### 欠損埋め"
      ]
    },
    {
      "cell_type": "code",
      "metadata": {
        "id": "dnKSb09wwXN4"
      },
      "source": [
        "pd.DataFrame(X_train.isnull().sum().sort_values(ascending = False)).head(7)"
      ],
      "execution_count": null,
      "outputs": []
    },
    {
      "cell_type": "code",
      "metadata": {
        "id": "cMltXtyALeL1"
      },
      "source": [
        "cols = [\"beds\",\"bedrooms\",\"bathrooms\"]\n",
        "for col in cols:\n",
        "  X_train[col].fillna(X_train[col].median(),inplace=True)\n",
        "  X_test[col].fillna(X_test[col].median(),inplace=True)"
      ],
      "execution_count": null,
      "outputs": []
    },
    {
      "cell_type": "code",
      "metadata": {
        "id": "ADPNUVF6MEv1"
      },
      "source": [
        "col = \"review_scores_rating\"\n",
        "X_train[col].fillna(-1,inplace=True)\n",
        "X_test[col].fillna(-1,inplace=True)\n",
        "\n",
        "col = \"neighbourhood\"\n",
        "X_train[col].fillna(\"nan\",inplace=True)\n",
        "X_test[col].fillna(\"nan\",inplace=True)"
      ],
      "execution_count": null,
      "outputs": []
    },
    {
      "cell_type": "code",
      "metadata": {
        "id": "3QK5IymLM-Ng"
      },
      "source": [
        "pd.DataFrame(X_train.isnull().sum().sort_values(ascending = False)).head()"
      ],
      "execution_count": null,
      "outputs": []
    },
    {
      "cell_type": "code",
      "metadata": {
        "id": "S1laKSTRK8AY"
      },
      "source": [
        "X_train.head()"
      ],
      "execution_count": null,
      "outputs": []
    },
    {
      "cell_type": "markdown",
      "metadata": {
        "id": "fairE3l0RIpS"
      },
      "source": [
        "### 数値特徴量"
      ]
    },
    {
      "cell_type": "code",
      "metadata": {
        "id": "cbBnEnCg_39L"
      },
      "source": [
        "# dtypeが数値のカラム名とユニーク数、欠損数の確認\n",
        "# 数値のカラム確認\n",
        "\n",
        "numerical_feats = X_train.dtypes[X_train.dtypes != \"object\"].index\n",
        "numerical_feats"
      ],
      "execution_count": null,
      "outputs": []
    },
    {
      "cell_type": "code",
      "metadata": {
        "id": "UJO-QFZCRLbt"
      },
      "source": [
        "# 数値特徴量２つの乗算を実施\n",
        "encoder_num2 = Pipeline(\n",
        "    [\n",
        "        SelectNumerical(),\n",
        "        ArithmeticCombinations(\n",
        "            input_cols=['accommodates', 'bathrooms', 'bedrooms', 'beds'], \n",
        "            drop_origin=True, \n",
        "            operator=\"*\", \n",
        "            r=2,\n",
        "        ),\n",
        "    ]\n",
        ")\n",
        "\n",
        "combi_num2_train = encoder_num2.fit_transform(X_train)\n",
        "combi_num2_test = encoder_num2.fit_transform(X_test)\n",
        "\n",
        "X_train = pd.concat([X_train,combi_num2_train],axis=1)\n",
        "X_test = pd.concat([X_test,combi_num2_test],axis=1)"
      ],
      "execution_count": null,
      "outputs": []
    },
    {
      "cell_type": "code",
      "metadata": {
        "id": "Xf2_7_UK1YR0"
      },
      "source": [
        "# 数値特徴量２つの乗算を実施\n",
        "encoder_num2 = Pipeline(\n",
        "    [\n",
        "        SelectNumerical(),\n",
        "        ArithmeticCombinations(\n",
        "            input_cols=[ 'number_of_reviews','review_scores_rating'], \n",
        "            drop_origin=True, \n",
        "            operator=\"*\", \n",
        "            r=2,\n",
        "        ),\n",
        "    ]\n",
        ")\n",
        "\n",
        "combi_num2_train = encoder_num2.fit_transform(X_train)\n",
        "combi_num2_test = encoder_num2.fit_transform(X_test)\n",
        "\n",
        "X_train = pd.concat([X_train,combi_num2_train],axis=1)\n",
        "X_test = pd.concat([X_test,combi_num2_test],axis=1)"
      ],
      "execution_count": null,
      "outputs": []
    },
    {
      "cell_type": "code",
      "metadata": {
        "id": "fjxzBltGR0zo"
      },
      "source": [
        "# 数値特徴量　host\n",
        "encoder_num19 = Pipeline(\n",
        "    [\n",
        "        SelectNumerical(),\n",
        "        ArithmeticCombinations(\n",
        "            input_cols=['host_has_profile_pic', 'host_identity_verified', 'host_response_rate'], \n",
        "            drop_origin=True, \n",
        "            operator=\"+\", \n",
        "            r=3,\n",
        "        ),\n",
        "    ]\n",
        ")\n",
        "\n",
        "combi_num19_train = encoder_num19.fit_transform(X_train)\n",
        "combi_num19_test = encoder_num19.fit_transform(X_test)\n",
        "\n",
        "X_train = pd.concat([X_train,combi_num19_train],axis=1)\n",
        "X_test = pd.concat([X_test,combi_num19_test],axis=1)"
      ],
      "execution_count": null,
      "outputs": []
    },
    {
      "cell_type": "code",
      "metadata": {
        "id": "g98TjibmUCQN"
      },
      "source": [
        "X_train.head()"
      ],
      "execution_count": null,
      "outputs": []
    },
    {
      "cell_type": "markdown",
      "metadata": {
        "id": "ov8azqf5C7L-"
      },
      "source": [
        "### カテゴリ特徴量"
      ]
    },
    {
      "cell_type": "code",
      "metadata": {
        "id": "LjMU1IFpDM8A"
      },
      "source": [
        "# dtypeがobject（数値でないもの）\n",
        "categorical_feats = X_train.dtypes[X_train.dtypes == \"object\"].index\n",
        "categorical_feats = categorical_feats.drop(['amenities','description'])\n",
        "categorical_feats"
      ],
      "execution_count": null,
      "outputs": []
    },
    {
      "cell_type": "code",
      "metadata": {
        "id": "bGwn0BZsC-N9"
      },
      "source": [
        "#カテゴリ変数の組み合わせを作成（組み合わせ数＝２）\n",
        "encoder_str2 = Pipeline(\n",
        "    [\n",
        "      SelectCategorical(exclude_cols=[ 'first_review', 'host_since','name' ]),\n",
        "      ConcatCombination(drop_origin=True, output_suffix=\"\", r=2)\n",
        "    ]\n",
        "  )\n",
        "\n",
        "combi_str2_train = encoder_str2.fit_transform(X_train)\n",
        "combi_str2_test =  encoder_str2.fit_transform(X_test)\n",
        "X_train = pd.concat([X_train,combi_str2_train],axis=1)\n",
        "X_test = pd.concat([X_test,combi_str2_test],axis=1)"
      ],
      "execution_count": null,
      "outputs": []
    },
    {
      "cell_type": "code",
      "metadata": {
        "id": "_LHYvazyIOTy"
      },
      "source": [
        "# dtypeがobject（数値でないもの）\n",
        "categorical_feats = X_train.dtypes[X_train.dtypes == \"object\"].index\n",
        "categorical_feats = categorical_feats.drop(['amenities','description'])\n",
        "categorical_feats"
      ],
      "execution_count": null,
      "outputs": []
    },
    {
      "cell_type": "code",
      "metadata": {
        "id": "vJolKk5Qt_pG"
      },
      "source": [
        "# # Target Encoding\n",
        "# y_train_bin = pd.cut(y_train , 10, labels=False).astype(int)\n",
        "# target = 'y'\n",
        "# X_temp = pd.concat([X_train, y_train], axis=1)\n",
        "\n",
        "# for col in categorical_feats:\n",
        "\n",
        "#     # X_testはX_trainでエンコーディングする\n",
        "#     summary = X_temp.groupby([col])[target].mean()\n",
        "#     X_test[col] = X_test[col].map(summary) \n",
        "\n",
        "\n",
        "#     # X_trainのカテゴリ変数をoofでエンコーディングする\n",
        "#     skf = StratifiedKFold(n_splits=5, random_state=71, shuffle=True)\n",
        "#     enc_train = pd.Series(np.zeros(len(X_train)), index=X_train.index)\n",
        "\n",
        "#     for i, (train_ix, val_ix) in enumerate((skf.split(X_train, y_train_bin))):\n",
        "#         X_train_, _ = X_temp.iloc[train_ix], y_train.iloc[train_ix]\n",
        "#         X_val, _ = X_temp.iloc[val_ix], y_train.iloc[val_ix]\n",
        "\n",
        "#         summary = X_train_.groupby([col])[target].mean()\n",
        "#         enc_train.iloc[val_ix] = X_val[col].map(summary)\n",
        "        \n",
        "#     X_train[col]  = enc_train"
      ],
      "execution_count": null,
      "outputs": []
    },
    {
      "cell_type": "code",
      "metadata": {
        "id": "2M0IgPF0mdpI"
      },
      "source": [
        "# count encording\n",
        "encoder = CountEncoder(cols=categorical_feats)\n",
        "enctrain = encoder.fit_transform(X_train)\n",
        "enctest = encoder.transform(X_test)"
      ],
      "execution_count": null,
      "outputs": []
    },
    {
      "cell_type": "code",
      "metadata": {
        "id": "eNH7jPkTNi-9"
      },
      "source": [
        "enctrain.head()"
      ],
      "execution_count": null,
      "outputs": []
    },
    {
      "cell_type": "markdown",
      "metadata": {
        "id": "_GXBRXbR8u6g"
      },
      "source": [
        "### テキスト特徴量"
      ]
    },
    {
      "cell_type": "code",
      "metadata": {
        "id": "e3XxLM7J9m72"
      },
      "source": [
        "#大文字→小文字変換\n",
        "cols = [\"amenities\",\"description\"]\n",
        "for col in cols:\n",
        "  enctrain[col] = enctrain[col].str.lower()\n",
        "  enctest[col] = enctest[col].str.lower()"
      ],
      "execution_count": null,
      "outputs": []
    },
    {
      "cell_type": "code",
      "metadata": {
        "id": "R3C7SqqqNxd0"
      },
      "source": [
        "cols = [\"amenities\",\"description\"]\n",
        "\n",
        "enctrain_copy = enctrain.copy()\n",
        "enctest_copy = enctest.copy()\n",
        "\n",
        "enctrain.drop(cols,axis=1,inplace=True)\n",
        "enctest.drop(cols,axis=1,inplace=True)\n",
        "\n",
        "\n",
        "for col in cols:\n",
        "  tfidf_train = TfidfVectorizer(max_features=50)\n",
        "  enctrain_tfidf = tfidf_train.fit_transform(enctrain_copy[col].values.astype('U'))\n",
        "\n",
        "  tfidf_test = TfidfVectorizer(max_features=50 , vocabulary=tfidf_train.vocabulary)\n",
        "  enctest_tfidf = tfidf_test.fit_transform(enctest_copy[col].values.astype('U'))\n",
        "\n",
        "  enctrain = sp.sparse.hstack([enctrain.values, enctrain_tfidf]).todense()\n",
        "  enctrain = pd.DataFrame(enctrain)\n",
        "  enctest = sp.sparse.hstack([enctest.values, enctest_tfidf]).todense()\n",
        "  enctest = pd.DataFrame(enctest)"
      ],
      "execution_count": null,
      "outputs": []
    },
    {
      "cell_type": "code",
      "metadata": {
        "id": "TN6KN0VqOzUy"
      },
      "source": [
        "enctrain.head()"
      ],
      "execution_count": null,
      "outputs": []
    },
    {
      "cell_type": "markdown",
      "metadata": {
        "id": "Lo7hTfCU2OQ3"
      },
      "source": [
        "## モデリング"
      ]
    },
    {
      "cell_type": "code",
      "metadata": {
        "id": "tduPg6w5RDGZ"
      },
      "source": [
        "X_train = enctrain.copy()\n",
        "X_test = enctest.copy()"
      ],
      "execution_count": null,
      "outputs": []
    },
    {
      "cell_type": "code",
      "metadata": {
        "id": "swNsA-beVyrB"
      },
      "source": [
        "X_train.shape,X_test.shape"
      ],
      "execution_count": null,
      "outputs": []
    },
    {
      "cell_type": "code",
      "metadata": {
        "id": "A0AtP4JK4P-N"
      },
      "source": [
        "y_train_bin = pd.cut(y_train ,10, labels=False).astype(int)"
      ],
      "execution_count": null,
      "outputs": []
    },
    {
      "cell_type": "code",
      "metadata": {
        "id": "T0cLY_-k2KnT"
      },
      "source": [
        "def train_and_predict(x_train,y_train,x_test,seeds) :\n",
        "\n",
        "  clf = LGBMRegressor(boosting_type='gbdt', class_weight=None, colsample_bytree=0.7,\n",
        "                                importance_type='split', learning_rate=0.05, max_depth=-1,\n",
        "                                min_child_samples=10, min_child_weight=0.001, min_split_gain=0.0,\n",
        "                                n_estimators=9999, n_jobs=-1, num_leaves=15, objective='regression',\n",
        "                                random_state=71, reg_alpha=0.0, reg_lambda=0.0, silent=True,\n",
        "                                subsample=1.0, subsample_for_bin=200000, subsample_freq=0)\n",
        "\n",
        "\n",
        "  scores = []\n",
        "  preds = []\n",
        "  \n",
        "  for seed in tqdm(seeds):\n",
        "    skf = StratifiedKFold(n_splits=5, random_state=seed, shuffle=True)\n",
        "    y_test_pred = np.zeros(len(x_test))\n",
        "\n",
        "    for i, (train_ix, test_ix) in enumerate(skf.split(x_train, y_train_bin)):\n",
        "      x_train_, y_train_ = x_train.values[train_ix], y_train.values[train_ix]\n",
        "      x_val, y_val = x_train.values[test_ix], y_train.values[test_ix]\n",
        "      \n",
        "      clf.fit(x_train_, y_train_, early_stopping_rounds=10, eval_metric='rmse', eval_set=[(x_val, y_val)])\n",
        "      y_val_pred = clf.predict(x_val)\n",
        "      print('CV Split Score is %f' % (np.sqrt(mean_squared_error(y_val, y_val_pred))))\n",
        "      scores.append(np.sqrt(mean_squared_error(y_val, y_val_pred)))\n",
        "\n",
        "      y_test_pred += clf.predict(x_test)\n",
        "\n",
        "    #CV毎のテストデータ予測結果の平均を取り、predに代入\n",
        "    y_test_pred /= 5\n",
        "    preds.append(y_test_pred)\n",
        "\n",
        "    #seed毎に計算されるテストデータ予測予測結果の平均を取る\n",
        "    cv_scores_ave = np.mean(scores,axis=0)\n",
        "\n",
        "    #全CVの交差検定スコアの平均を取る\n",
        "    pred = np.mean(preds, axis=0)\n",
        "\n",
        "    #変数重要度\n",
        "    feature_importance = pd.DataFrame(\n",
        "                                          clf.booster_.feature_importance(importance_type='gain'), \n",
        "                                          index = x_train.columns, columns=['importance']).sort_values(['importance'], \n",
        "                                          ascending=False\n",
        "                                        )\n",
        "\n",
        "  return pred , cv_scores_ave , feature_importance"
      ],
      "execution_count": null,
      "outputs": []
    },
    {
      "cell_type": "code",
      "metadata": {
        "id": "4wMVhUft2Tcw"
      },
      "source": [
        "seeds = [31,71,91]\n",
        "pred , cv_scores_ave , feature_importance = train_and_predict(X_train,y_train,X_test,seeds)"
      ],
      "execution_count": null,
      "outputs": []
    },
    {
      "cell_type": "code",
      "metadata": {
        "id": "Mu3xsEr0_39O"
      },
      "source": [
        "target = \"y\"\n",
        "# submission[target] = np.expm1(pred)\n",
        "submission[target] = pred"
      ],
      "execution_count": null,
      "outputs": []
    },
    {
      "cell_type": "code",
      "metadata": {
        "id": "Blwj3gpwSVtI"
      },
      "source": [
        "submission[submission[target] < 10 ]"
      ],
      "execution_count": null,
      "outputs": []
    },
    {
      "cell_type": "code",
      "metadata": {
        "id": "mh9fA5VIacsC"
      },
      "source": [
        "submission.loc[9060][target] = 15"
      ],
      "execution_count": null,
      "outputs": []
    },
    {
      "cell_type": "code",
      "metadata": {
        "id": "EMScYdUkRvZn"
      },
      "source": [
        "submission[target] = submission[target].astype(int)"
      ],
      "execution_count": null,
      "outputs": []
    },
    {
      "cell_type": "code",
      "metadata": {
        "id": "rdo_ZYaGapQI"
      },
      "source": [
        "submission.describe()"
      ],
      "execution_count": null,
      "outputs": []
    },
    {
      "cell_type": "code",
      "metadata": {
        "id": "gZkfeCC1Zsio"
      },
      "source": [
        "df_test.loc[9060]"
      ],
      "execution_count": null,
      "outputs": []
    },
    {
      "cell_type": "code",
      "metadata": {
        "id": "Om0EIGolZ8eV"
      },
      "source": [
        "df_train[(df_train[\"beds\"] > 7)&(df_train[\"property_type\"] == \"Hostel\")].head()"
      ],
      "execution_count": null,
      "outputs": []
    },
    {
      "cell_type": "code",
      "metadata": {
        "id": "s_tTGhquRt2f"
      },
      "source": [
        "submission.to_csv(basepath+'submit_02.csv',header=None)"
      ],
      "execution_count": null,
      "outputs": []
    },
    {
      "cell_type": "code",
      "metadata": {
        "id": "HC1JfAI5WPT8"
      },
      "source": [
        "len(feature_importance)"
      ],
      "execution_count": null,
      "outputs": []
    },
    {
      "cell_type": "code",
      "metadata": {
        "id": "JLLkdbGwWQLn"
      },
      "source": [
        "use_col  = feature_importance.index[:100]\n",
        "seeds = [31,71,91]\n",
        "pred , cv_scores_ave , feature_importance = train_and_predict(X_train[use_col],y_train,X_test[use_col],seeds)"
      ],
      "execution_count": null,
      "outputs": []
    },
    {
      "cell_type": "code",
      "metadata": {
        "id": "x-n_a0baY7m_"
      },
      "source": [
        "figure = plt.figure(figsize=(25, 15))\n",
        "sns.barplot(x=\"importance\", y=feature_importance.index, data=feature_importance)"
      ],
      "execution_count": null,
      "outputs": []
    },
    {
      "cell_type": "code",
      "metadata": {
        "id": "J7DQzTRkyH_t"
      },
      "source": [
        "target = \"y\"\n",
        "submission[target] = pred\n",
        "submission.describe()"
      ],
      "execution_count": null,
      "outputs": []
    },
    {
      "cell_type": "code",
      "metadata": {
        "id": "tOh07UhGcpFi"
      },
      "source": [
        "submission[submission[target] < 10 ]"
      ],
      "execution_count": null,
      "outputs": []
    },
    {
      "cell_type": "code",
      "metadata": {
        "id": "DXe-98wSc0ow"
      },
      "source": [
        "submission.loc[9060][target] = 15"
      ],
      "execution_count": null,
      "outputs": []
    },
    {
      "cell_type": "code",
      "metadata": {
        "id": "Pdti3UN_c3t3"
      },
      "source": [
        "submission[target] = submission[target].astype(int)"
      ],
      "execution_count": null,
      "outputs": []
    },
    {
      "cell_type": "code",
      "metadata": {
        "id": "hQ9aFvbtc9ix"
      },
      "source": [
        "submission.describe()"
      ],
      "execution_count": null,
      "outputs": []
    },
    {
      "cell_type": "code",
      "metadata": {
        "id": "RHlQwDS8c-3n"
      },
      "source": [
        "submission.to_csv(basepath+'submit_03.csv',header=None)"
      ],
      "execution_count": null,
      "outputs": []
    },
    {
      "cell_type": "code",
      "metadata": {
        "id": "im4tsrFMdacP"
      },
      "source": [
        "submission\n"
      ],
      "execution_count": null,
      "outputs": []
    },
    {
      "cell_type": "code",
      "metadata": {
        "id": "u3cUt8NGdhIo"
      },
      "source": [
        ""
      ],
      "execution_count": null,
      "outputs": []
    }
  ]
}
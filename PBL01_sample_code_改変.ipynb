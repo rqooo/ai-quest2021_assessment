{
  "nbformat": 4,
  "nbformat_minor": 0,
  "metadata": {
    "kernelspec": {
      "display_name": "Python 3",
      "language": "python",
      "name": "python3"
    },
    "language_info": {
      "codemirror_mode": {
        "name": "ipython",
        "version": 3
      },
      "file_extension": ".py",
      "mimetype": "text/x-python",
      "name": "python",
      "nbconvert_exporter": "python",
      "pygments_lexer": "ipython3",
      "version": "3.6.4"
    },
    "colab": {
      "name": "PBL01_sample_code_改変.ipynb",
      "provenance": [],
      "include_colab_link": true
    }
  },
  "cells": [
    {
      "cell_type": "markdown",
      "metadata": {
        "id": "view-in-github",
        "colab_type": "text"
      },
      "source": [
        "<a href=\"https://colab.research.google.com/github/rtnaka/ai-quest2021_assessment/blob/main/PBL01_sample_code_%E6%94%B9%E5%A4%89.ipynb\" target=\"_parent\"><img src=\"https://colab.research.google.com/assets/colab-badge.svg\" alt=\"Open In Colab\"/></a>"
      ]
    },
    {
      "cell_type": "markdown",
      "metadata": {
        "id": "m19gpiLtdPLt"
      },
      "source": [
        "# PBL01_需要予測・在庫最適化　サンプルコード\n",
        "\n",
        "当サンプルコードは、「PBL01_需要予測・在庫最適化のテーマのAI課題（演習④）」において、配布されたファイルを分析し、投稿ファイルを作成するまでの大まかな流れを、ソースコードや実行結果とともに示したものとなっていますので、詳細な分析を行う足がかりとしてご利用ください。\n",
        "\n",
        "当サンプルコードは、以下のような流れで構成されています。\n",
        "\n",
        "1. データの読み込み\n",
        "2. データの整理・概要把握\n",
        "3. 前処理\n",
        "4. 特徴量生成\n",
        "5. モデリング\n",
        "6. 提出用ファイルの作成\n",
        "\n",
        "なお、ソースコードは配布ファイルがすべて同じディレクトリ内に存在することを想定しています。"
      ]
    },
    {
      "cell_type": "markdown",
      "metadata": {
        "id": "gIozOPZvdPLy"
      },
      "source": [
        "# ライブラリのインポート"
      ]
    },
    {
      "cell_type": "code",
      "metadata": {
        "id": "l4Etw52VdPLz"
      },
      "source": [
        "from itertools import product\n",
        "\n",
        "import pandas as pd\n",
        "import numpy as np\n",
        "\n",
        "from matplotlib import pyplot as plt\n",
        "%matplotlib inline\n",
        "import seaborn as sns\n",
        "\n",
        "from sklearn.linear_model import LinearRegression"
      ],
      "execution_count": null,
      "outputs": []
    },
    {
      "cell_type": "markdown",
      "metadata": {
        "id": "pQV0rIXRdPL0"
      },
      "source": [
        "# 1. データの読み込み: pandas.read_csv()"
      ]
    },
    {
      "cell_type": "code",
      "metadata": {
        "id": "6tew28OfddIn",
        "colab": {
          "base_uri": "https://localhost:8080/"
        },
        "outputId": "835cb8bf-f38c-4462-df0a-df98cd07cd4b"
      },
      "source": [
        "# Google DriveをColabにマウント\n",
        "from google.colab import drive\n",
        "drive.mount('/content/drive')\n",
        "\n",
        "# ファイルパス\n",
        "basepath = '/content/drive/MyDrive/AI Quest2021/data/'"
      ],
      "execution_count": null,
      "outputs": [
        {
          "output_type": "stream",
          "name": "stdout",
          "text": [
            "Drive already mounted at /content/drive; to attempt to forcibly remount, call drive.mount(\"/content/drive\", force_remount=True).\n"
          ]
        }
      ]
    },
    {
      "cell_type": "code",
      "metadata": {
        "id": "2l2AzwnXdPL0"
      },
      "source": [
        "sales = pd.read_csv(basepath+'sales_history.csv')\n",
        "cats = pd.read_csv(basepath+'item_categories.csv')\n",
        "cat_names = pd.read_csv(basepath+'category_names.csv')\n",
        "test = pd.read_csv(basepath+'test.csv',index_col=0)\n",
        "sub = pd.read_csv(basepath+'sample_submission.csv', header=None)"
      ],
      "execution_count": null,
      "outputs": []
    },
    {
      "cell_type": "markdown",
      "metadata": {
        "id": "KtIU-vdcdPL4"
      },
      "source": [
        "# 2. データの整理、概要把握"
      ]
    },
    {
      "cell_type": "markdown",
      "metadata": {
        "id": "YcsLPP0kdPL5"
      },
      "source": [
        "### データのマージ(統合): pd.merge(df1, df2)\n",
        "\n",
        "「sales_history.csv」、「item_category.csv」、「category_names.csv」の3つのテーブルを統合する。"
      ]
    },
    {
      "cell_type": "code",
      "metadata": {
        "colab": {
          "base_uri": "https://localhost:8080/",
          "height": 204
        },
        "id": "wNhv81HLgzJo",
        "outputId": "dee9dee8-08c4-4d4a-f9a3-9b3c3cf913bc"
      },
      "source": [
        "#商品カテゴリ　→　大カテゴリ/小カテゴリに分割\n",
        "split_catname = cat_names[\"商品カテゴリ名\"].str.split(\"-\",expand=True)\n",
        "cat_names = pd.concat([cat_names,split_catname],axis=1)\n",
        "cat_names.drop(\"商品カテゴリ名\",axis=1,inplace=True)\n",
        "cat_names.rename(columns={0: '商品大カテゴリ', 1: '商品小カテゴリ'},inplace=True)\n",
        "cat_names.head()"
      ],
      "execution_count": null,
      "outputs": [
        {
          "output_type": "execute_result",
          "data": {
            "text/html": [
              "<div>\n",
              "<style scoped>\n",
              "    .dataframe tbody tr th:only-of-type {\n",
              "        vertical-align: middle;\n",
              "    }\n",
              "\n",
              "    .dataframe tbody tr th {\n",
              "        vertical-align: top;\n",
              "    }\n",
              "\n",
              "    .dataframe thead th {\n",
              "        text-align: right;\n",
              "    }\n",
              "</style>\n",
              "<table border=\"1\" class=\"dataframe\">\n",
              "  <thead>\n",
              "    <tr style=\"text-align: right;\">\n",
              "      <th></th>\n",
              "      <th>商品カテゴリID</th>\n",
              "      <th>商品大カテゴリ</th>\n",
              "      <th>商品小カテゴリ</th>\n",
              "    </tr>\n",
              "  </thead>\n",
              "  <tbody>\n",
              "    <tr>\n",
              "      <th>0</th>\n",
              "      <td>100</td>\n",
              "      <td>映画</td>\n",
              "      <td>DVD</td>\n",
              "    </tr>\n",
              "    <tr>\n",
              "      <th>1</th>\n",
              "      <td>110</td>\n",
              "      <td>PCゲーム</td>\n",
              "      <td>通常版</td>\n",
              "    </tr>\n",
              "    <tr>\n",
              "      <th>2</th>\n",
              "      <td>120</td>\n",
              "      <td>音楽</td>\n",
              "      <td>その他</td>\n",
              "    </tr>\n",
              "    <tr>\n",
              "      <th>3</th>\n",
              "      <td>130</td>\n",
              "      <td>ゲーム</td>\n",
              "      <td>ゲーム機C</td>\n",
              "    </tr>\n",
              "    <tr>\n",
              "      <th>4</th>\n",
              "      <td>140</td>\n",
              "      <td>映画</td>\n",
              "      <td>ブルーレイ</td>\n",
              "    </tr>\n",
              "  </tbody>\n",
              "</table>\n",
              "</div>"
            ],
            "text/plain": [
              "   商品カテゴリID 商品大カテゴリ 商品小カテゴリ\n",
              "0       100     映画      DVD\n",
              "1       110  PCゲーム      通常版\n",
              "2       120     音楽      その他\n",
              "3       130    ゲーム    ゲーム機C\n",
              "4       140     映画    ブルーレイ"
            ]
          },
          "metadata": {},
          "execution_count": 4
        }
      ]
    },
    {
      "cell_type": "code",
      "metadata": {
        "id": "WE9VwZw7dPL6",
        "colab": {
          "base_uri": "https://localhost:8080/",
          "height": 204
        },
        "outputId": "806c2c82-c6c2-4490-e0e0-3e70e68fbf71"
      },
      "source": [
        "sales = pd.merge(sales, cats, on='商品ID', how='left')\n",
        "sales = pd.merge(sales, cat_names, on='商品カテゴリID', how='left')\n",
        "\n",
        "sales.head()"
      ],
      "execution_count": null,
      "outputs": [
        {
          "output_type": "execute_result",
          "data": {
            "text/html": [
              "<div>\n",
              "<style scoped>\n",
              "    .dataframe tbody tr th:only-of-type {\n",
              "        vertical-align: middle;\n",
              "    }\n",
              "\n",
              "    .dataframe tbody tr th {\n",
              "        vertical-align: top;\n",
              "    }\n",
              "\n",
              "    .dataframe thead th {\n",
              "        text-align: right;\n",
              "    }\n",
              "</style>\n",
              "<table border=\"1\" class=\"dataframe\">\n",
              "  <thead>\n",
              "    <tr style=\"text-align: right;\">\n",
              "      <th></th>\n",
              "      <th>日付</th>\n",
              "      <th>店舗ID</th>\n",
              "      <th>商品ID</th>\n",
              "      <th>商品価格</th>\n",
              "      <th>売上個数</th>\n",
              "      <th>商品カテゴリID</th>\n",
              "      <th>商品大カテゴリ</th>\n",
              "      <th>商品小カテゴリ</th>\n",
              "    </tr>\n",
              "  </thead>\n",
              "  <tbody>\n",
              "    <tr>\n",
              "      <th>0</th>\n",
              "      <td>2018-01-01</td>\n",
              "      <td>9</td>\n",
              "      <td>1000001</td>\n",
              "      <td>420</td>\n",
              "      <td>1.0</td>\n",
              "      <td>100</td>\n",
              "      <td>映画</td>\n",
              "      <td>DVD</td>\n",
              "    </tr>\n",
              "    <tr>\n",
              "      <th>1</th>\n",
              "      <td>2018-01-01</td>\n",
              "      <td>6</td>\n",
              "      <td>1000001</td>\n",
              "      <td>420</td>\n",
              "      <td>1.0</td>\n",
              "      <td>100</td>\n",
              "      <td>映画</td>\n",
              "      <td>DVD</td>\n",
              "    </tr>\n",
              "    <tr>\n",
              "      <th>2</th>\n",
              "      <td>2018-01-01</td>\n",
              "      <td>10</td>\n",
              "      <td>1000001</td>\n",
              "      <td>420</td>\n",
              "      <td>1.0</td>\n",
              "      <td>100</td>\n",
              "      <td>映画</td>\n",
              "      <td>DVD</td>\n",
              "    </tr>\n",
              "    <tr>\n",
              "      <th>3</th>\n",
              "      <td>2018-01-01</td>\n",
              "      <td>0</td>\n",
              "      <td>1000017</td>\n",
              "      <td>250</td>\n",
              "      <td>1.0</td>\n",
              "      <td>100</td>\n",
              "      <td>映画</td>\n",
              "      <td>DVD</td>\n",
              "    </tr>\n",
              "    <tr>\n",
              "      <th>4</th>\n",
              "      <td>2018-01-01</td>\n",
              "      <td>1</td>\n",
              "      <td>1000017</td>\n",
              "      <td>250</td>\n",
              "      <td>1.0</td>\n",
              "      <td>100</td>\n",
              "      <td>映画</td>\n",
              "      <td>DVD</td>\n",
              "    </tr>\n",
              "  </tbody>\n",
              "</table>\n",
              "</div>"
            ],
            "text/plain": [
              "           日付  店舗ID     商品ID  商品価格  売上個数  商品カテゴリID 商品大カテゴリ 商品小カテゴリ\n",
              "0  2018-01-01     9  1000001   420   1.0       100     映画      DVD\n",
              "1  2018-01-01     6  1000001   420   1.0       100     映画      DVD\n",
              "2  2018-01-01    10  1000001   420   1.0       100     映画      DVD\n",
              "3  2018-01-01     0  1000017   250   1.0       100     映画      DVD\n",
              "4  2018-01-01     1  1000017   250   1.0       100     映画      DVD"
            ]
          },
          "metadata": {},
          "execution_count": 5
        }
      ]
    },
    {
      "cell_type": "markdown",
      "metadata": {
        "id": "T5rEaiXYdPL6"
      },
      "source": [
        "### 「日付」カラムの文字列から「年」「月」の情報を抽出する。: pandas.Series.apply(), str.split()\n",
        "\n",
        "「日付」カラムの規則性を利用して、より扱いやすい形で情報を抽出する。"
      ]
    },
    {
      "cell_type": "code",
      "metadata": {
        "id": "yAbypTv-dPL7",
        "colab": {
          "base_uri": "https://localhost:8080/"
        },
        "outputId": "a0a7d210-47e6-468a-a616-8d36bf037b83"
      },
      "source": [
        "# 「日付」カラムの文字列から、「年」「月」の情報を抽出する\n",
        "sales['年'] = sales['日付'].apply(lambda x: x.split('-')[0])\n",
        "sales['月'] = sales['日付'].apply(lambda x: x.split('-')[1])\n",
        "\n",
        "sales.head()"
      ],
      "execution_count": null,
      "outputs": [
        {
          "output_type": "execute_result",
          "data": {
            "text/html": [
              "<div>\n",
              "<style scoped>\n",
              "    .dataframe tbody tr th:only-of-type {\n",
              "        vertical-align: middle;\n",
              "    }\n",
              "\n",
              "    .dataframe tbody tr th {\n",
              "        vertical-align: top;\n",
              "    }\n",
              "\n",
              "    .dataframe thead th {\n",
              "        text-align: right;\n",
              "    }\n",
              "</style>\n",
              "<table border=\"1\" class=\"dataframe\">\n",
              "  <thead>\n",
              "    <tr style=\"text-align: right;\">\n",
              "      <th></th>\n",
              "      <th>日付</th>\n",
              "      <th>店舗ID</th>\n",
              "      <th>商品ID</th>\n",
              "      <th>商品価格</th>\n",
              "      <th>売上個数</th>\n",
              "      <th>商品カテゴリID</th>\n",
              "      <th>商品大カテゴリ</th>\n",
              "      <th>商品小カテゴリ</th>\n",
              "      <th>年</th>\n",
              "      <th>月</th>\n",
              "    </tr>\n",
              "  </thead>\n",
              "  <tbody>\n",
              "    <tr>\n",
              "      <th>0</th>\n",
              "      <td>2018-01-01</td>\n",
              "      <td>9</td>\n",
              "      <td>1000001</td>\n",
              "      <td>420</td>\n",
              "      <td>1.0</td>\n",
              "      <td>100</td>\n",
              "      <td>映画</td>\n",
              "      <td>DVD</td>\n",
              "      <td>2018</td>\n",
              "      <td>01</td>\n",
              "    </tr>\n",
              "    <tr>\n",
              "      <th>1</th>\n",
              "      <td>2018-01-01</td>\n",
              "      <td>6</td>\n",
              "      <td>1000001</td>\n",
              "      <td>420</td>\n",
              "      <td>1.0</td>\n",
              "      <td>100</td>\n",
              "      <td>映画</td>\n",
              "      <td>DVD</td>\n",
              "      <td>2018</td>\n",
              "      <td>01</td>\n",
              "    </tr>\n",
              "    <tr>\n",
              "      <th>2</th>\n",
              "      <td>2018-01-01</td>\n",
              "      <td>10</td>\n",
              "      <td>1000001</td>\n",
              "      <td>420</td>\n",
              "      <td>1.0</td>\n",
              "      <td>100</td>\n",
              "      <td>映画</td>\n",
              "      <td>DVD</td>\n",
              "      <td>2018</td>\n",
              "      <td>01</td>\n",
              "    </tr>\n",
              "    <tr>\n",
              "      <th>3</th>\n",
              "      <td>2018-01-01</td>\n",
              "      <td>0</td>\n",
              "      <td>1000017</td>\n",
              "      <td>250</td>\n",
              "      <td>1.0</td>\n",
              "      <td>100</td>\n",
              "      <td>映画</td>\n",
              "      <td>DVD</td>\n",
              "      <td>2018</td>\n",
              "      <td>01</td>\n",
              "    </tr>\n",
              "    <tr>\n",
              "      <th>4</th>\n",
              "      <td>2018-01-01</td>\n",
              "      <td>1</td>\n",
              "      <td>1000017</td>\n",
              "      <td>250</td>\n",
              "      <td>1.0</td>\n",
              "      <td>100</td>\n",
              "      <td>映画</td>\n",
              "      <td>DVD</td>\n",
              "      <td>2018</td>\n",
              "      <td>01</td>\n",
              "    </tr>\n",
              "  </tbody>\n",
              "</table>\n",
              "</div>"
            ],
            "text/plain": [
              "           日付  店舗ID     商品ID  商品価格  売上個数  商品カテゴリID 商品大カテゴリ 商品小カテゴリ     年   月\n",
              "0  2018-01-01     9  1000001   420   1.0       100     映画      DVD  2018  01\n",
              "1  2018-01-01     6  1000001   420   1.0       100     映画      DVD  2018  01\n",
              "2  2018-01-01    10  1000001   420   1.0       100     映画      DVD  2018  01\n",
              "3  2018-01-01     0  1000017   250   1.0       100     映画      DVD  2018  01\n",
              "4  2018-01-01     1  1000017   250   1.0       100     映画      DVD  2018  01"
            ]
          },
          "metadata": {},
          "execution_count": 6
        }
      ]
    },
    {
      "cell_type": "code",
      "metadata": {
        "id": "7VBVaWxIdPL7",
        "colab": {
          "base_uri": "https://localhost:8080/"
        },
        "outputId": "be852f93-30b9-4942-db6d-af08a20f10c4"
      },
      "source": [
        "# 「年」と「月」の全組み合わせを作成する\n",
        "gp_time = sales.groupby(['年', '月']).count().reset_index()[['年', '月']]\n",
        "gp_time.head()"
      ],
      "execution_count": null,
      "outputs": [
        {
          "output_type": "execute_result",
          "data": {
            "text/html": [
              "<div>\n",
              "<style scoped>\n",
              "    .dataframe tbody tr th:only-of-type {\n",
              "        vertical-align: middle;\n",
              "    }\n",
              "\n",
              "    .dataframe tbody tr th {\n",
              "        vertical-align: top;\n",
              "    }\n",
              "\n",
              "    .dataframe thead th {\n",
              "        text-align: right;\n",
              "    }\n",
              "</style>\n",
              "<table border=\"1\" class=\"dataframe\">\n",
              "  <thead>\n",
              "    <tr style=\"text-align: right;\">\n",
              "      <th></th>\n",
              "      <th>年</th>\n",
              "      <th>月</th>\n",
              "    </tr>\n",
              "  </thead>\n",
              "  <tbody>\n",
              "    <tr>\n",
              "      <th>0</th>\n",
              "      <td>2018</td>\n",
              "      <td>01</td>\n",
              "    </tr>\n",
              "    <tr>\n",
              "      <th>1</th>\n",
              "      <td>2018</td>\n",
              "      <td>02</td>\n",
              "    </tr>\n",
              "    <tr>\n",
              "      <th>2</th>\n",
              "      <td>2018</td>\n",
              "      <td>03</td>\n",
              "    </tr>\n",
              "    <tr>\n",
              "      <th>3</th>\n",
              "      <td>2018</td>\n",
              "      <td>04</td>\n",
              "    </tr>\n",
              "    <tr>\n",
              "      <th>4</th>\n",
              "      <td>2018</td>\n",
              "      <td>05</td>\n",
              "    </tr>\n",
              "  </tbody>\n",
              "</table>\n",
              "</div>"
            ],
            "text/plain": [
              "      年   月\n",
              "0  2018  01\n",
              "1  2018  02\n",
              "2  2018  03\n",
              "3  2018  04\n",
              "4  2018  05"
            ]
          },
          "metadata": {},
          "execution_count": 7
        }
      ]
    },
    {
      "cell_type": "code",
      "metadata": {
        "id": "tL--nFiAdPL8",
        "colab": {
          "base_uri": "https://localhost:8080/"
        },
        "outputId": "60a4a37a-3a35-479e-d9f4-49c663745335"
      },
      "source": [
        "# カラム名「月ブロック」として、通し番号をつける\n",
        "gp_time['月ブロック'] = list(range(len(gp_time)))\n",
        "\n",
        "# testデータ用に、評価対象期間である2019年12月(月ブロック: 23)のレコードを追加する\n",
        "gp_time = gp_time.append({\n",
        "    '月ブロック': 23,\n",
        "    '年': '2019',\n",
        "    '月': '12'\n",
        "}, ignore_index=True)\n",
        "\n",
        "gp_time.head()"
      ],
      "execution_count": null,
      "outputs": [
        {
          "output_type": "execute_result",
          "data": {
            "text/html": [
              "<div>\n",
              "<style scoped>\n",
              "    .dataframe tbody tr th:only-of-type {\n",
              "        vertical-align: middle;\n",
              "    }\n",
              "\n",
              "    .dataframe tbody tr th {\n",
              "        vertical-align: top;\n",
              "    }\n",
              "\n",
              "    .dataframe thead th {\n",
              "        text-align: right;\n",
              "    }\n",
              "</style>\n",
              "<table border=\"1\" class=\"dataframe\">\n",
              "  <thead>\n",
              "    <tr style=\"text-align: right;\">\n",
              "      <th></th>\n",
              "      <th>年</th>\n",
              "      <th>月</th>\n",
              "      <th>月ブロック</th>\n",
              "    </tr>\n",
              "  </thead>\n",
              "  <tbody>\n",
              "    <tr>\n",
              "      <th>0</th>\n",
              "      <td>2018</td>\n",
              "      <td>01</td>\n",
              "      <td>0</td>\n",
              "    </tr>\n",
              "    <tr>\n",
              "      <th>1</th>\n",
              "      <td>2018</td>\n",
              "      <td>02</td>\n",
              "      <td>1</td>\n",
              "    </tr>\n",
              "    <tr>\n",
              "      <th>2</th>\n",
              "      <td>2018</td>\n",
              "      <td>03</td>\n",
              "      <td>2</td>\n",
              "    </tr>\n",
              "    <tr>\n",
              "      <th>3</th>\n",
              "      <td>2018</td>\n",
              "      <td>04</td>\n",
              "      <td>3</td>\n",
              "    </tr>\n",
              "    <tr>\n",
              "      <th>4</th>\n",
              "      <td>2018</td>\n",
              "      <td>05</td>\n",
              "      <td>4</td>\n",
              "    </tr>\n",
              "  </tbody>\n",
              "</table>\n",
              "</div>"
            ],
            "text/plain": [
              "      年   月  月ブロック\n",
              "0  2018  01      0\n",
              "1  2018  02      1\n",
              "2  2018  03      2\n",
              "3  2018  04      3\n",
              "4  2018  05      4"
            ]
          },
          "metadata": {},
          "execution_count": 8
        }
      ]
    },
    {
      "cell_type": "code",
      "metadata": {
        "scrolled": true,
        "id": "x5yuEvH5dPL8",
        "colab": {
          "base_uri": "https://localhost:8080/"
        },
        "outputId": "5d9a3f14-a8b8-4566-8177-3957d2b39865"
      },
      "source": [
        "# 「月ブロック」カラムをsalesに統合する\n",
        "sales = pd.merge(sales, gp_time, on=['年', '月'], how='left')\n",
        "sales.head()"
      ],
      "execution_count": null,
      "outputs": [
        {
          "output_type": "execute_result",
          "data": {
            "text/html": [
              "<div>\n",
              "<style scoped>\n",
              "    .dataframe tbody tr th:only-of-type {\n",
              "        vertical-align: middle;\n",
              "    }\n",
              "\n",
              "    .dataframe tbody tr th {\n",
              "        vertical-align: top;\n",
              "    }\n",
              "\n",
              "    .dataframe thead th {\n",
              "        text-align: right;\n",
              "    }\n",
              "</style>\n",
              "<table border=\"1\" class=\"dataframe\">\n",
              "  <thead>\n",
              "    <tr style=\"text-align: right;\">\n",
              "      <th></th>\n",
              "      <th>日付</th>\n",
              "      <th>店舗ID</th>\n",
              "      <th>商品ID</th>\n",
              "      <th>商品価格</th>\n",
              "      <th>売上個数</th>\n",
              "      <th>商品カテゴリID</th>\n",
              "      <th>商品大カテゴリ</th>\n",
              "      <th>商品小カテゴリ</th>\n",
              "      <th>年</th>\n",
              "      <th>月</th>\n",
              "      <th>月ブロック</th>\n",
              "    </tr>\n",
              "  </thead>\n",
              "  <tbody>\n",
              "    <tr>\n",
              "      <th>0</th>\n",
              "      <td>2018-01-01</td>\n",
              "      <td>9</td>\n",
              "      <td>1000001</td>\n",
              "      <td>420</td>\n",
              "      <td>1.0</td>\n",
              "      <td>100</td>\n",
              "      <td>映画</td>\n",
              "      <td>DVD</td>\n",
              "      <td>2018</td>\n",
              "      <td>01</td>\n",
              "      <td>0</td>\n",
              "    </tr>\n",
              "    <tr>\n",
              "      <th>1</th>\n",
              "      <td>2018-01-01</td>\n",
              "      <td>6</td>\n",
              "      <td>1000001</td>\n",
              "      <td>420</td>\n",
              "      <td>1.0</td>\n",
              "      <td>100</td>\n",
              "      <td>映画</td>\n",
              "      <td>DVD</td>\n",
              "      <td>2018</td>\n",
              "      <td>01</td>\n",
              "      <td>0</td>\n",
              "    </tr>\n",
              "    <tr>\n",
              "      <th>2</th>\n",
              "      <td>2018-01-01</td>\n",
              "      <td>10</td>\n",
              "      <td>1000001</td>\n",
              "      <td>420</td>\n",
              "      <td>1.0</td>\n",
              "      <td>100</td>\n",
              "      <td>映画</td>\n",
              "      <td>DVD</td>\n",
              "      <td>2018</td>\n",
              "      <td>01</td>\n",
              "      <td>0</td>\n",
              "    </tr>\n",
              "    <tr>\n",
              "      <th>3</th>\n",
              "      <td>2018-01-01</td>\n",
              "      <td>0</td>\n",
              "      <td>1000017</td>\n",
              "      <td>250</td>\n",
              "      <td>1.0</td>\n",
              "      <td>100</td>\n",
              "      <td>映画</td>\n",
              "      <td>DVD</td>\n",
              "      <td>2018</td>\n",
              "      <td>01</td>\n",
              "      <td>0</td>\n",
              "    </tr>\n",
              "    <tr>\n",
              "      <th>4</th>\n",
              "      <td>2018-01-01</td>\n",
              "      <td>1</td>\n",
              "      <td>1000017</td>\n",
              "      <td>250</td>\n",
              "      <td>1.0</td>\n",
              "      <td>100</td>\n",
              "      <td>映画</td>\n",
              "      <td>DVD</td>\n",
              "      <td>2018</td>\n",
              "      <td>01</td>\n",
              "      <td>0</td>\n",
              "    </tr>\n",
              "  </tbody>\n",
              "</table>\n",
              "</div>"
            ],
            "text/plain": [
              "           日付  店舗ID     商品ID  商品価格  売上個数  ...  商品大カテゴリ 商品小カテゴリ     年   月 月ブロック\n",
              "0  2018-01-01     9  1000001   420   1.0  ...      映画      DVD  2018  01     0\n",
              "1  2018-01-01     6  1000001   420   1.0  ...      映画      DVD  2018  01     0\n",
              "2  2018-01-01    10  1000001   420   1.0  ...      映画      DVD  2018  01     0\n",
              "3  2018-01-01     0  1000017   250   1.0  ...      映画      DVD  2018  01     0\n",
              "4  2018-01-01     1  1000017   250   1.0  ...      映画      DVD  2018  01     0\n",
              "\n",
              "[5 rows x 11 columns]"
            ]
          },
          "metadata": {},
          "execution_count": 9
        }
      ]
    },
    {
      "cell_type": "markdown",
      "metadata": {
        "id": "cSRNaE9qki4T"
      },
      "source": [
        "## 売上個数がマイナスの行→プラスに変更"
      ]
    },
    {
      "cell_type": "code",
      "metadata": {
        "id": "DnmuGgaNjVxC"
      },
      "source": [
        "sales.loc[sales['売上個数']==-1,'売上個数'] = 1.0"
      ],
      "execution_count": null,
      "outputs": []
    },
    {
      "cell_type": "code",
      "metadata": {
        "id": "W0V82mauj5MK"
      },
      "source": [
        "sales.loc[sales['売上個数']==-2,'売上個数'] = 2.0"
      ],
      "execution_count": null,
      "outputs": []
    },
    {
      "cell_type": "markdown",
      "metadata": {
        "id": "ppfSpN-Jky4W"
      },
      "source": [
        "## 学習データから、テストデータに含まれない商品IDの行をcut"
      ]
    },
    {
      "cell_type": "code",
      "metadata": {
        "id": "1S1aEL4KkZsv"
      },
      "source": [
        "col = \"商品ID\"\n",
        "product_id = test[col].unique()\n",
        "sales = sales[sales[col].isin(product_id)]"
      ],
      "execution_count": null,
      "outputs": []
    },
    {
      "cell_type": "code",
      "metadata": {
        "colab": {
          "base_uri": "https://localhost:8080/"
        },
        "id": "s795M8wIlBnm",
        "outputId": "ecba98d8-6cbe-41f0-a564-ae7f2acd7825"
      },
      "source": [
        "sales.shape"
      ],
      "execution_count": null,
      "outputs": [
        {
          "output_type": "execute_result",
          "data": {
            "text/plain": [
              "(48221, 11)"
            ]
          },
          "metadata": {},
          "execution_count": 13
        }
      ]
    },
    {
      "cell_type": "markdown",
      "metadata": {
        "id": "vLo2dytVdPL9"
      },
      "source": [
        "## 月単位の売上個数を集計する(「全商品・店舗」): pandas.DataFrame.groupby()\n",
        "\n",
        "最後に、月ごとの商品売上個数を確かめるため、月単位の売上個数を集計する"
      ]
    },
    {
      "cell_type": "code",
      "metadata": {
        "id": "MQU48gV6dPL-",
        "colab": {
          "base_uri": "https://localhost:8080/"
        },
        "outputId": "56a216d9-976b-4ff1-d5a7-79e680673755"
      },
      "source": [
        "sales_month = sales.groupby('月ブロック').agg({'売上個数': np.sum}).reset_index()\n",
        "sales_month.head()"
      ],
      "execution_count": null,
      "outputs": [
        {
          "output_type": "execute_result",
          "data": {
            "text/html": [
              "<div>\n",
              "<style scoped>\n",
              "    .dataframe tbody tr th:only-of-type {\n",
              "        vertical-align: middle;\n",
              "    }\n",
              "\n",
              "    .dataframe tbody tr th {\n",
              "        vertical-align: top;\n",
              "    }\n",
              "\n",
              "    .dataframe thead th {\n",
              "        text-align: right;\n",
              "    }\n",
              "</style>\n",
              "<table border=\"1\" class=\"dataframe\">\n",
              "  <thead>\n",
              "    <tr style=\"text-align: right;\">\n",
              "      <th></th>\n",
              "      <th>月ブロック</th>\n",
              "      <th>売上個数</th>\n",
              "    </tr>\n",
              "  </thead>\n",
              "  <tbody>\n",
              "    <tr>\n",
              "      <th>0</th>\n",
              "      <td>0</td>\n",
              "      <td>1890.0</td>\n",
              "    </tr>\n",
              "    <tr>\n",
              "      <th>1</th>\n",
              "      <td>1</td>\n",
              "      <td>1860.0</td>\n",
              "    </tr>\n",
              "    <tr>\n",
              "      <th>2</th>\n",
              "      <td>2</td>\n",
              "      <td>1939.0</td>\n",
              "    </tr>\n",
              "    <tr>\n",
              "      <th>3</th>\n",
              "      <td>3</td>\n",
              "      <td>1611.0</td>\n",
              "    </tr>\n",
              "    <tr>\n",
              "      <th>4</th>\n",
              "      <td>4</td>\n",
              "      <td>1608.0</td>\n",
              "    </tr>\n",
              "  </tbody>\n",
              "</table>\n",
              "</div>"
            ],
            "text/plain": [
              "   月ブロック    売上個数\n",
              "0      0  1890.0\n",
              "1      1  1860.0\n",
              "2      2  1939.0\n",
              "3      3  1611.0\n",
              "4      4  1608.0"
            ]
          },
          "metadata": {},
          "execution_count": 14
        }
      ]
    },
    {
      "cell_type": "code",
      "metadata": {
        "id": "wk4ZOCtzdPL-",
        "colab": {
          "base_uri": "https://localhost:8080/"
        },
        "outputId": "6abcaae0-4e79-406a-ad7f-0d977e9c50b6"
      },
      "source": [
        "plt.bar(sales_month['月ブロック'], sales_month['売上個数'])"
      ],
      "execution_count": null,
      "outputs": [
        {
          "output_type": "execute_result",
          "data": {
            "text/plain": [
              "<BarContainer object of 22 artists>"
            ]
          },
          "metadata": {},
          "execution_count": 15
        },
        {
          "output_type": "display_data",
          "data": {
            "image/png": "[encoded data removed]",
            "text/plain": [
              "<Figure size 432x288 with 1 Axes>"
            ]
          },
          "metadata": {
            "needs_background": "light"
          }
        }
      ]
    },
    {
      "cell_type": "markdown",
      "metadata": {
        "id": "twcRRKxmdPMB"
      },
      "source": [
        "12月(月ブロック:11)の売上個数が非常に多い傾向にあることがわかる。"
      ]
    },
    {
      "cell_type": "markdown",
      "metadata": {
        "id": "yZqffIijdPMB"
      },
      "source": [
        "# 3. 前処理"
      ]
    },
    {
      "cell_type": "markdown",
      "metadata": {
        "id": "m8OsNiModPMB"
      },
      "source": [
        "### 月ごとの売上を集計する(「商品ID」×「店舗ID」)\n",
        "\n",
        "ここからは、モデルの学習を行うためのデータセットの作成作業に入る。<br>\n",
        "『各店舗』×『各商品』の組み合わせについて、『2019年12月の1ヶ月間』における『合計売上個数』を予測する<br>\n",
        "というのが今回のタスクであるため、学習用データをそれに従って再構成する。"
      ]
    },
    {
      "cell_type": "code",
      "metadata": {
        "id": "pl_ZjRIQdPMB",
        "colab": {
          "base_uri": "https://localhost:8080/",
          "height": 419
        },
        "outputId": "44b8882f-59ba-4cf5-ffa2-9653fcffdf83"
      },
      "source": [
        "# 「月ブロック」「商品ID」「店舗ID」でグルーピングし、売上個数の合計を取る\n",
        "gp_month = sales.groupby(['月ブロック',  '商品ID', '店舗ID']).agg({'売上個数': np.sum}).reset_index()\n",
        "gp_month"
      ],
      "execution_count": null,
      "outputs": [
        {
          "output_type": "execute_result",
          "data": {
            "text/html": [
              "<div>\n",
              "<style scoped>\n",
              "    .dataframe tbody tr th:only-of-type {\n",
              "        vertical-align: middle;\n",
              "    }\n",
              "\n",
              "    .dataframe tbody tr th {\n",
              "        vertical-align: top;\n",
              "    }\n",
              "\n",
              "    .dataframe thead th {\n",
              "        text-align: right;\n",
              "    }\n",
              "</style>\n",
              "<table border=\"1\" class=\"dataframe\">\n",
              "  <thead>\n",
              "    <tr style=\"text-align: right;\">\n",
              "      <th></th>\n",
              "      <th>月ブロック</th>\n",
              "      <th>商品ID</th>\n",
              "      <th>店舗ID</th>\n",
              "      <th>売上個数</th>\n",
              "    </tr>\n",
              "  </thead>\n",
              "  <tbody>\n",
              "    <tr>\n",
              "      <th>0</th>\n",
              "      <td>0</td>\n",
              "      <td>1000001</td>\n",
              "      <td>0</td>\n",
              "      <td>6.0</td>\n",
              "    </tr>\n",
              "    <tr>\n",
              "      <th>1</th>\n",
              "      <td>0</td>\n",
              "      <td>1000001</td>\n",
              "      <td>1</td>\n",
              "      <td>2.0</td>\n",
              "    </tr>\n",
              "    <tr>\n",
              "      <th>2</th>\n",
              "      <td>0</td>\n",
              "      <td>1000001</td>\n",
              "      <td>2</td>\n",
              "      <td>1.0</td>\n",
              "    </tr>\n",
              "    <tr>\n",
              "      <th>3</th>\n",
              "      <td>0</td>\n",
              "      <td>1000001</td>\n",
              "      <td>3</td>\n",
              "      <td>2.0</td>\n",
              "    </tr>\n",
              "    <tr>\n",
              "      <th>4</th>\n",
              "      <td>0</td>\n",
              "      <td>1000001</td>\n",
              "      <td>5</td>\n",
              "      <td>2.0</td>\n",
              "    </tr>\n",
              "    <tr>\n",
              "      <th>...</th>\n",
              "      <td>...</td>\n",
              "      <td>...</td>\n",
              "      <td>...</td>\n",
              "      <td>...</td>\n",
              "    </tr>\n",
              "    <tr>\n",
              "      <th>25402</th>\n",
              "      <td>21</td>\n",
              "      <td>3400003</td>\n",
              "      <td>13</td>\n",
              "      <td>2.0</td>\n",
              "    </tr>\n",
              "    <tr>\n",
              "      <th>25403</th>\n",
              "      <td>21</td>\n",
              "      <td>3400003</td>\n",
              "      <td>17</td>\n",
              "      <td>2.0</td>\n",
              "    </tr>\n",
              "    <tr>\n",
              "      <th>25404</th>\n",
              "      <td>21</td>\n",
              "      <td>3500001</td>\n",
              "      <td>0</td>\n",
              "      <td>1.0</td>\n",
              "    </tr>\n",
              "    <tr>\n",
              "      <th>25405</th>\n",
              "      <td>21</td>\n",
              "      <td>3500001</td>\n",
              "      <td>4</td>\n",
              "      <td>2.0</td>\n",
              "    </tr>\n",
              "    <tr>\n",
              "      <th>25406</th>\n",
              "      <td>21</td>\n",
              "      <td>3500001</td>\n",
              "      <td>13</td>\n",
              "      <td>2.0</td>\n",
              "    </tr>\n",
              "  </tbody>\n",
              "</table>\n",
              "<p>25407 rows × 4 columns</p>\n",
              "</div>"
            ],
            "text/plain": [
              "       月ブロック     商品ID  店舗ID  売上個数\n",
              "0          0  1000001     0   6.0\n",
              "1          0  1000001     1   2.0\n",
              "2          0  1000001     2   1.0\n",
              "3          0  1000001     3   2.0\n",
              "4          0  1000001     5   2.0\n",
              "...      ...      ...   ...   ...\n",
              "25402     21  3400003    13   2.0\n",
              "25403     21  3400003    17   2.0\n",
              "25404     21  3500001     0   1.0\n",
              "25405     21  3500001     4   2.0\n",
              "25406     21  3500001    13   2.0\n",
              "\n",
              "[25407 rows x 4 columns]"
            ]
          },
          "metadata": {},
          "execution_count": 16
        }
      ]
    },
    {
      "cell_type": "markdown",
      "metadata": {
        "id": "74PYfYLfdPMC"
      },
      "source": [
        "### 「'月'、'商品ID'、 '店舗ID'」の全組み合わせを作成する\n",
        "\n",
        "salesデータには、売上が0個の場合の履歴が含まれていない。<br>\n",
        "そのため、モデルに『売上が0個となる』場合を正しく学習させるには、新たにデータを生成する必要がある。<br>\n",
        "ここでは、「月」×「商品ID」×「店舗ID」の組み合わせを生成し、元のデータと統合することで、『売上が0個となる』場合も含めた売上履歴データの生成を試みる。"
      ]
    },
    {
      "cell_type": "code",
      "metadata": {
        "id": "jcbR1ybCdPMC",
        "colab": {
          "base_uri": "https://localhost:8080/",
          "height": 606
        },
        "outputId": "19b98d6f-ca80-49ae-aaba-754cfc202132"
      },
      "source": [
        "all_combination = []\n",
        "\n",
        "# '月'、'商品ID'、 '店舗ID'の全組み合わせを作成する\n",
        "columns = ['月ブロック', '商品ID', '店舗ID']\n",
        "\n",
        "for i in range(22):\n",
        "    train_block = sales[sales['月ブロック']==i]\n",
        "    all_combination.append(np.array(list(product([i], sales['商品ID'].unique(), sales['店舗ID'].unique()))))\n",
        "    \n",
        "all_combination = pd.DataFrame(np.vstack(all_combination), columns=columns)\n",
        "all_combination.sort_values(columns, inplace=True)\n",
        "\n",
        "print(all_combination.info())\n",
        "all_combination"
      ],
      "execution_count": null,
      "outputs": [
        {
          "output_type": "stream",
          "name": "stdout",
          "text": [
            "<class 'pandas.core.frame.DataFrame'>\n",
            "Int64Index: 67320 entries, 3 to 66165\n",
            "Data columns (total 3 columns):\n",
            " #   Column  Non-Null Count  Dtype\n",
            "---  ------  --------------  -----\n",
            " 0   月ブロック   67320 non-null  int64\n",
            " 1   商品ID    67320 non-null  int64\n",
            " 2   店舗ID    67320 non-null  int64\n",
            "dtypes: int64(3)\n",
            "memory usage: 2.1 MB\n",
            "None\n"
          ]
        },
        {
          "output_type": "execute_result",
          "data": {
            "text/html": [
              "<div>\n",
              "<style scoped>\n",
              "    .dataframe tbody tr th:only-of-type {\n",
              "        vertical-align: middle;\n",
              "    }\n",
              "\n",
              "    .dataframe tbody tr th {\n",
              "        vertical-align: top;\n",
              "    }\n",
              "\n",
              "    .dataframe thead th {\n",
              "        text-align: right;\n",
              "    }\n",
              "</style>\n",
              "<table border=\"1\" class=\"dataframe\">\n",
              "  <thead>\n",
              "    <tr style=\"text-align: right;\">\n",
              "      <th></th>\n",
              "      <th>月ブロック</th>\n",
              "      <th>商品ID</th>\n",
              "      <th>店舗ID</th>\n",
              "    </tr>\n",
              "  </thead>\n",
              "  <tbody>\n",
              "    <tr>\n",
              "      <th>3</th>\n",
              "      <td>0</td>\n",
              "      <td>1000001</td>\n",
              "      <td>0</td>\n",
              "    </tr>\n",
              "    <tr>\n",
              "      <th>5</th>\n",
              "      <td>0</td>\n",
              "      <td>1000001</td>\n",
              "      <td>1</td>\n",
              "    </tr>\n",
              "    <tr>\n",
              "      <th>10</th>\n",
              "      <td>0</td>\n",
              "      <td>1000001</td>\n",
              "      <td>2</td>\n",
              "    </tr>\n",
              "    <tr>\n",
              "      <th>17</th>\n",
              "      <td>0</td>\n",
              "      <td>1000001</td>\n",
              "      <td>3</td>\n",
              "    </tr>\n",
              "    <tr>\n",
              "      <th>14</th>\n",
              "      <td>0</td>\n",
              "      <td>1000001</td>\n",
              "      <td>4</td>\n",
              "    </tr>\n",
              "    <tr>\n",
              "      <th>...</th>\n",
              "      <td>...</td>\n",
              "      <td>...</td>\n",
              "      <td>...</td>\n",
              "    </tr>\n",
              "    <tr>\n",
              "      <th>66156</th>\n",
              "      <td>21</td>\n",
              "      <td>3500001</td>\n",
              "      <td>13</td>\n",
              "    </tr>\n",
              "    <tr>\n",
              "      <th>66157</th>\n",
              "      <td>21</td>\n",
              "      <td>3500001</td>\n",
              "      <td>14</td>\n",
              "    </tr>\n",
              "    <tr>\n",
              "      <th>66154</th>\n",
              "      <td>21</td>\n",
              "      <td>3500001</td>\n",
              "      <td>15</td>\n",
              "    </tr>\n",
              "    <tr>\n",
              "      <th>66159</th>\n",
              "      <td>21</td>\n",
              "      <td>3500001</td>\n",
              "      <td>16</td>\n",
              "    </tr>\n",
              "    <tr>\n",
              "      <th>66165</th>\n",
              "      <td>21</td>\n",
              "      <td>3500001</td>\n",
              "      <td>17</td>\n",
              "    </tr>\n",
              "  </tbody>\n",
              "</table>\n",
              "<p>67320 rows × 3 columns</p>\n",
              "</div>"
            ],
            "text/plain": [
              "       月ブロック     商品ID  店舗ID\n",
              "3          0  1000001     0\n",
              "5          0  1000001     1\n",
              "10         0  1000001     2\n",
              "17         0  1000001     3\n",
              "14         0  1000001     4\n",
              "...      ...      ...   ...\n",
              "66156     21  3500001    13\n",
              "66157     21  3500001    14\n",
              "66154     21  3500001    15\n",
              "66159     21  3500001    16\n",
              "66165     21  3500001    17\n",
              "\n",
              "[67320 rows x 3 columns]"
            ]
          },
          "metadata": {},
          "execution_count": 17
        }
      ]
    },
    {
      "cell_type": "code",
      "metadata": {
        "id": "TiJ1v0oMdPMC",
        "colab": {
          "base_uri": "https://localhost:8080/",
          "height": 419
        },
        "outputId": "4cdfdcdf-434f-4633-c1d0-97c82f8fc34b"
      },
      "source": [
        "# all_combinationに売上履歴データを追加する\n",
        "all_train = pd.merge(all_combination, gp_month, on=['月ブロック', '商品ID', '店舗ID'], how='left')\n",
        "\n",
        "# 売上個数がNaNとなっている箇所は、売上個数0個として値を埋める\n",
        "all_train['売上個数'] = all_train['売上個数'].fillna(0)\n",
        "\n",
        "all_train"
      ],
      "execution_count": null,
      "outputs": [
        {
          "output_type": "execute_result",
          "data": {
            "text/html": [
              "<div>\n",
              "<style scoped>\n",
              "    .dataframe tbody tr th:only-of-type {\n",
              "        vertical-align: middle;\n",
              "    }\n",
              "\n",
              "    .dataframe tbody tr th {\n",
              "        vertical-align: top;\n",
              "    }\n",
              "\n",
              "    .dataframe thead th {\n",
              "        text-align: right;\n",
              "    }\n",
              "</style>\n",
              "<table border=\"1\" class=\"dataframe\">\n",
              "  <thead>\n",
              "    <tr style=\"text-align: right;\">\n",
              "      <th></th>\n",
              "      <th>月ブロック</th>\n",
              "      <th>商品ID</th>\n",
              "      <th>店舗ID</th>\n",
              "      <th>売上個数</th>\n",
              "    </tr>\n",
              "  </thead>\n",
              "  <tbody>\n",
              "    <tr>\n",
              "      <th>0</th>\n",
              "      <td>0</td>\n",
              "      <td>1000001</td>\n",
              "      <td>0</td>\n",
              "      <td>6.0</td>\n",
              "    </tr>\n",
              "    <tr>\n",
              "      <th>1</th>\n",
              "      <td>0</td>\n",
              "      <td>1000001</td>\n",
              "      <td>1</td>\n",
              "      <td>2.0</td>\n",
              "    </tr>\n",
              "    <tr>\n",
              "      <th>2</th>\n",
              "      <td>0</td>\n",
              "      <td>1000001</td>\n",
              "      <td>2</td>\n",
              "      <td>1.0</td>\n",
              "    </tr>\n",
              "    <tr>\n",
              "      <th>3</th>\n",
              "      <td>0</td>\n",
              "      <td>1000001</td>\n",
              "      <td>3</td>\n",
              "      <td>2.0</td>\n",
              "    </tr>\n",
              "    <tr>\n",
              "      <th>4</th>\n",
              "      <td>0</td>\n",
              "      <td>1000001</td>\n",
              "      <td>4</td>\n",
              "      <td>0.0</td>\n",
              "    </tr>\n",
              "    <tr>\n",
              "      <th>...</th>\n",
              "      <td>...</td>\n",
              "      <td>...</td>\n",
              "      <td>...</td>\n",
              "      <td>...</td>\n",
              "    </tr>\n",
              "    <tr>\n",
              "      <th>67315</th>\n",
              "      <td>21</td>\n",
              "      <td>3500001</td>\n",
              "      <td>13</td>\n",
              "      <td>2.0</td>\n",
              "    </tr>\n",
              "    <tr>\n",
              "      <th>67316</th>\n",
              "      <td>21</td>\n",
              "      <td>3500001</td>\n",
              "      <td>14</td>\n",
              "      <td>0.0</td>\n",
              "    </tr>\n",
              "    <tr>\n",
              "      <th>67317</th>\n",
              "      <td>21</td>\n",
              "      <td>3500001</td>\n",
              "      <td>15</td>\n",
              "      <td>0.0</td>\n",
              "    </tr>\n",
              "    <tr>\n",
              "      <th>67318</th>\n",
              "      <td>21</td>\n",
              "      <td>3500001</td>\n",
              "      <td>16</td>\n",
              "      <td>0.0</td>\n",
              "    </tr>\n",
              "    <tr>\n",
              "      <th>67319</th>\n",
              "      <td>21</td>\n",
              "      <td>3500001</td>\n",
              "      <td>17</td>\n",
              "      <td>0.0</td>\n",
              "    </tr>\n",
              "  </tbody>\n",
              "</table>\n",
              "<p>67320 rows × 4 columns</p>\n",
              "</div>"
            ],
            "text/plain": [
              "       月ブロック     商品ID  店舗ID  売上個数\n",
              "0          0  1000001     0   6.0\n",
              "1          0  1000001     1   2.0\n",
              "2          0  1000001     2   1.0\n",
              "3          0  1000001     3   2.0\n",
              "4          0  1000001     4   0.0\n",
              "...      ...      ...   ...   ...\n",
              "67315     21  3500001    13   2.0\n",
              "67316     21  3500001    14   0.0\n",
              "67317     21  3500001    15   0.0\n",
              "67318     21  3500001    16   0.0\n",
              "67319     21  3500001    17   0.0\n",
              "\n",
              "[67320 rows x 4 columns]"
            ]
          },
          "metadata": {},
          "execution_count": 18
        }
      ]
    },
    {
      "cell_type": "markdown",
      "metadata": {
        "id": "_xno41OJdPMD"
      },
      "source": [
        "### testデータにカラムを追加する"
      ]
    },
    {
      "cell_type": "code",
      "metadata": {
        "id": "EpJRS87UdPMD",
        "colab": {
          "base_uri": "https://localhost:8080/",
          "height": 235
        },
        "outputId": "d3503f92-9e41-4cfc-d446-179a3c0fcf78"
      },
      "source": [
        "new_test = test.copy()\n",
        "\n",
        "# 評価対象期間が2019年12月(月ブロック: 23)であるという情報を追加\n",
        "new_test['月ブロック'] = 23\n",
        "\n",
        "new_test.head()"
      ],
      "execution_count": null,
      "outputs": [
        {
          "output_type": "execute_result",
          "data": {
            "text/html": [
              "<div>\n",
              "<style scoped>\n",
              "    .dataframe tbody tr th:only-of-type {\n",
              "        vertical-align: middle;\n",
              "    }\n",
              "\n",
              "    .dataframe tbody tr th {\n",
              "        vertical-align: top;\n",
              "    }\n",
              "\n",
              "    .dataframe thead th {\n",
              "        text-align: right;\n",
              "    }\n",
              "</style>\n",
              "<table border=\"1\" class=\"dataframe\">\n",
              "  <thead>\n",
              "    <tr style=\"text-align: right;\">\n",
              "      <th></th>\n",
              "      <th>商品ID</th>\n",
              "      <th>店舗ID</th>\n",
              "      <th>月ブロック</th>\n",
              "    </tr>\n",
              "    <tr>\n",
              "      <th>index</th>\n",
              "      <th></th>\n",
              "      <th></th>\n",
              "      <th></th>\n",
              "    </tr>\n",
              "  </thead>\n",
              "  <tbody>\n",
              "    <tr>\n",
              "      <th>0</th>\n",
              "      <td>1000001</td>\n",
              "      <td>0</td>\n",
              "      <td>23</td>\n",
              "    </tr>\n",
              "    <tr>\n",
              "      <th>1</th>\n",
              "      <td>1000001</td>\n",
              "      <td>1</td>\n",
              "      <td>23</td>\n",
              "    </tr>\n",
              "    <tr>\n",
              "      <th>2</th>\n",
              "      <td>1000001</td>\n",
              "      <td>2</td>\n",
              "      <td>23</td>\n",
              "    </tr>\n",
              "    <tr>\n",
              "      <th>3</th>\n",
              "      <td>1000001</td>\n",
              "      <td>3</td>\n",
              "      <td>23</td>\n",
              "    </tr>\n",
              "    <tr>\n",
              "      <th>4</th>\n",
              "      <td>1000001</td>\n",
              "      <td>4</td>\n",
              "      <td>23</td>\n",
              "    </tr>\n",
              "  </tbody>\n",
              "</table>\n",
              "</div>"
            ],
            "text/plain": [
              "          商品ID  店舗ID  月ブロック\n",
              "index                      \n",
              "0      1000001     0     23\n",
              "1      1000001     1     23\n",
              "2      1000001     2     23\n",
              "3      1000001     3     23\n",
              "4      1000001     4     23"
            ]
          },
          "metadata": {},
          "execution_count": 19
        }
      ]
    },
    {
      "cell_type": "markdown",
      "metadata": {
        "id": "LVdkUp2sdPMD"
      },
      "source": [
        "### 学習データとテストデータを縦に結合: pd.concat()"
      ]
    },
    {
      "cell_type": "code",
      "metadata": {
        "id": "2UpcuYoQdPMD",
        "colab": {
          "base_uri": "https://localhost:8080/",
          "height": 419
        },
        "outputId": "c7d50553-2deb-46cf-b142-6567f69a0a20"
      },
      "source": [
        "dataset = pd.concat([all_train, new_test])\n",
        "dataset"
      ],
      "execution_count": null,
      "outputs": [
        {
          "output_type": "execute_result",
          "data": {
            "text/html": [
              "<div>\n",
              "<style scoped>\n",
              "    .dataframe tbody tr th:only-of-type {\n",
              "        vertical-align: middle;\n",
              "    }\n",
              "\n",
              "    .dataframe tbody tr th {\n",
              "        vertical-align: top;\n",
              "    }\n",
              "\n",
              "    .dataframe thead th {\n",
              "        text-align: right;\n",
              "    }\n",
              "</style>\n",
              "<table border=\"1\" class=\"dataframe\">\n",
              "  <thead>\n",
              "    <tr style=\"text-align: right;\">\n",
              "      <th></th>\n",
              "      <th>月ブロック</th>\n",
              "      <th>商品ID</th>\n",
              "      <th>店舗ID</th>\n",
              "      <th>売上個数</th>\n",
              "    </tr>\n",
              "  </thead>\n",
              "  <tbody>\n",
              "    <tr>\n",
              "      <th>0</th>\n",
              "      <td>0</td>\n",
              "      <td>1000001</td>\n",
              "      <td>0</td>\n",
              "      <td>6.0</td>\n",
              "    </tr>\n",
              "    <tr>\n",
              "      <th>1</th>\n",
              "      <td>0</td>\n",
              "      <td>1000001</td>\n",
              "      <td>1</td>\n",
              "      <td>2.0</td>\n",
              "    </tr>\n",
              "    <tr>\n",
              "      <th>2</th>\n",
              "      <td>0</td>\n",
              "      <td>1000001</td>\n",
              "      <td>2</td>\n",
              "      <td>1.0</td>\n",
              "    </tr>\n",
              "    <tr>\n",
              "      <th>3</th>\n",
              "      <td>0</td>\n",
              "      <td>1000001</td>\n",
              "      <td>3</td>\n",
              "      <td>2.0</td>\n",
              "    </tr>\n",
              "    <tr>\n",
              "      <th>4</th>\n",
              "      <td>0</td>\n",
              "      <td>1000001</td>\n",
              "      <td>4</td>\n",
              "      <td>0.0</td>\n",
              "    </tr>\n",
              "    <tr>\n",
              "      <th>...</th>\n",
              "      <td>...</td>\n",
              "      <td>...</td>\n",
              "      <td>...</td>\n",
              "      <td>...</td>\n",
              "    </tr>\n",
              "    <tr>\n",
              "      <th>3055</th>\n",
              "      <td>23</td>\n",
              "      <td>3500001</td>\n",
              "      <td>13</td>\n",
              "      <td>NaN</td>\n",
              "    </tr>\n",
              "    <tr>\n",
              "      <th>3056</th>\n",
              "      <td>23</td>\n",
              "      <td>3500001</td>\n",
              "      <td>14</td>\n",
              "      <td>NaN</td>\n",
              "    </tr>\n",
              "    <tr>\n",
              "      <th>3057</th>\n",
              "      <td>23</td>\n",
              "      <td>3500001</td>\n",
              "      <td>15</td>\n",
              "      <td>NaN</td>\n",
              "    </tr>\n",
              "    <tr>\n",
              "      <th>3058</th>\n",
              "      <td>23</td>\n",
              "      <td>3500001</td>\n",
              "      <td>16</td>\n",
              "      <td>NaN</td>\n",
              "    </tr>\n",
              "    <tr>\n",
              "      <th>3059</th>\n",
              "      <td>23</td>\n",
              "      <td>3500001</td>\n",
              "      <td>17</td>\n",
              "      <td>NaN</td>\n",
              "    </tr>\n",
              "  </tbody>\n",
              "</table>\n",
              "<p>70380 rows × 4 columns</p>\n",
              "</div>"
            ],
            "text/plain": [
              "      月ブロック     商品ID  店舗ID  売上個数\n",
              "0         0  1000001     0   6.0\n",
              "1         0  1000001     1   2.0\n",
              "2         0  1000001     2   1.0\n",
              "3         0  1000001     3   2.0\n",
              "4         0  1000001     4   0.0\n",
              "...     ...      ...   ...   ...\n",
              "3055     23  3500001    13   NaN\n",
              "3056     23  3500001    14   NaN\n",
              "3057     23  3500001    15   NaN\n",
              "3058     23  3500001    16   NaN\n",
              "3059     23  3500001    17   NaN\n",
              "\n",
              "[70380 rows x 4 columns]"
            ]
          },
          "metadata": {},
          "execution_count": 32
        }
      ]
    },
    {
      "cell_type": "markdown",
      "metadata": {
        "id": "ZS5_yVwrdPMD"
      },
      "source": [
        "予測対象である月ブロック23(2019年12月)における売上履歴は当然存在しないため値はNaNとなる"
      ]
    },
    {
      "cell_type": "markdown",
      "metadata": {
        "id": "L9oL72KndPME"
      },
      "source": [
        "# 4. 特徴量生成\n",
        "- <font color=\"#FF0000\"><strong>【ポイント】予測モデルの精度向上の為には適切な特徴量を追加することが一つのポイントとなりますので、どんな特徴量を作るべきかを検討しましょう</strong></font>\n",
        "- こちらでは１年前の売上というラグ特徴量を紹介しています"
      ]
    },
    {
      "cell_type": "markdown",
      "metadata": {
        "id": "GqhwR9R5dPME"
      },
      "source": [
        "### ラグ特徴量の作成\n",
        "\n",
        "昨年度同月の売上個数が今年度の売上個数の予測に役立つのではないかという仮説のもとに、ラグ特徴量を生成する<br>\n",
        "ここでは、月ブロックを1年分(12)ずらした上でデータを統合するという方法を取る。"
      ]
    },
    {
      "cell_type": "code",
      "metadata": {
        "id": "ywLtWHGVdPME"
      },
      "source": [
        "dataset2 = dataset\n",
        "for i in range(1,13):\n",
        "  lag = dataset.copy()   \n",
        "  lag['月ブロック'] = lag['月ブロック'] + i\n",
        "  lag = lag.rename(columns={'売上個数': str(i)+'ヶ月前の売上個数'})\n",
        "  dataset2 = pd.merge(dataset2, lag, on=['月ブロック', '商品ID', '店舗ID'], how='left', left_index=True)\n"
      ],
      "execution_count": null,
      "outputs": []
    },
    {
      "cell_type": "code",
      "metadata": {
        "colab": {
          "base_uri": "https://localhost:8080/",
          "height": 453
        },
        "id": "6ECvWBFErEvV",
        "outputId": "db0fd928-9144-4d71-a6da-758414ca42d5"
      },
      "source": [
        "dataset2"
      ],
      "execution_count": null,
      "outputs": [
        {
          "output_type": "execute_result",
          "data": {
            "text/html": [
              "<div>\n",
              "<style scoped>\n",
              "    .dataframe tbody tr th:only-of-type {\n",
              "        vertical-align: middle;\n",
              "    }\n",
              "\n",
              "    .dataframe tbody tr th {\n",
              "        vertical-align: top;\n",
              "    }\n",
              "\n",
              "    .dataframe thead th {\n",
              "        text-align: right;\n",
              "    }\n",
              "</style>\n",
              "<table border=\"1\" class=\"dataframe\">\n",
              "  <thead>\n",
              "    <tr style=\"text-align: right;\">\n",
              "      <th></th>\n",
              "      <th>月ブロック</th>\n",
              "      <th>商品ID</th>\n",
              "      <th>店舗ID</th>\n",
              "      <th>売上個数</th>\n",
              "      <th>1ヶ月前の売上個数</th>\n",
              "      <th>2ヶ月前の売上個数</th>\n",
              "      <th>3ヶ月前の売上個数</th>\n",
              "      <th>4ヶ月前の売上個数</th>\n",
              "      <th>5ヶ月前の売上個数</th>\n",
              "      <th>6ヶ月前の売上個数</th>\n",
              "      <th>7ヶ月前の売上個数</th>\n",
              "      <th>8ヶ月前の売上個数</th>\n",
              "      <th>9ヶ月前の売上個数</th>\n",
              "      <th>10ヶ月前の売上個数</th>\n",
              "      <th>11ヶ月前の売上個数</th>\n",
              "      <th>12ヶ月前の売上個数</th>\n",
              "    </tr>\n",
              "  </thead>\n",
              "  <tbody>\n",
              "    <tr>\n",
              "      <th>NaN</th>\n",
              "      <td>0</td>\n",
              "      <td>1000001</td>\n",
              "      <td>0</td>\n",
              "      <td>6.0</td>\n",
              "      <td>NaN</td>\n",
              "      <td>NaN</td>\n",
              "      <td>NaN</td>\n",
              "      <td>NaN</td>\n",
              "      <td>NaN</td>\n",
              "      <td>NaN</td>\n",
              "      <td>NaN</td>\n",
              "      <td>NaN</td>\n",
              "      <td>NaN</td>\n",
              "      <td>NaN</td>\n",
              "      <td>NaN</td>\n",
              "      <td>NaN</td>\n",
              "    </tr>\n",
              "    <tr>\n",
              "      <th>NaN</th>\n",
              "      <td>0</td>\n",
              "      <td>1000001</td>\n",
              "      <td>1</td>\n",
              "      <td>2.0</td>\n",
              "      <td>NaN</td>\n",
              "      <td>NaN</td>\n",
              "      <td>NaN</td>\n",
              "      <td>NaN</td>\n",
              "      <td>NaN</td>\n",
              "      <td>NaN</td>\n",
              "      <td>NaN</td>\n",
              "      <td>NaN</td>\n",
              "      <td>NaN</td>\n",
              "      <td>NaN</td>\n",
              "      <td>NaN</td>\n",
              "      <td>NaN</td>\n",
              "    </tr>\n",
              "    <tr>\n",
              "      <th>NaN</th>\n",
              "      <td>0</td>\n",
              "      <td>1000001</td>\n",
              "      <td>2</td>\n",
              "      <td>1.0</td>\n",
              "      <td>NaN</td>\n",
              "      <td>NaN</td>\n",
              "      <td>NaN</td>\n",
              "      <td>NaN</td>\n",
              "      <td>NaN</td>\n",
              "      <td>NaN</td>\n",
              "      <td>NaN</td>\n",
              "      <td>NaN</td>\n",
              "      <td>NaN</td>\n",
              "      <td>NaN</td>\n",
              "      <td>NaN</td>\n",
              "      <td>NaN</td>\n",
              "    </tr>\n",
              "    <tr>\n",
              "      <th>NaN</th>\n",
              "      <td>0</td>\n",
              "      <td>1000001</td>\n",
              "      <td>3</td>\n",
              "      <td>2.0</td>\n",
              "      <td>NaN</td>\n",
              "      <td>NaN</td>\n",
              "      <td>NaN</td>\n",
              "      <td>NaN</td>\n",
              "      <td>NaN</td>\n",
              "      <td>NaN</td>\n",
              "      <td>NaN</td>\n",
              "      <td>NaN</td>\n",
              "      <td>NaN</td>\n",
              "      <td>NaN</td>\n",
              "      <td>NaN</td>\n",
              "      <td>NaN</td>\n",
              "    </tr>\n",
              "    <tr>\n",
              "      <th>NaN</th>\n",
              "      <td>0</td>\n",
              "      <td>1000001</td>\n",
              "      <td>4</td>\n",
              "      <td>0.0</td>\n",
              "      <td>NaN</td>\n",
              "      <td>NaN</td>\n",
              "      <td>NaN</td>\n",
              "      <td>NaN</td>\n",
              "      <td>NaN</td>\n",
              "      <td>NaN</td>\n",
              "      <td>NaN</td>\n",
              "      <td>NaN</td>\n",
              "      <td>NaN</td>\n",
              "      <td>NaN</td>\n",
              "      <td>NaN</td>\n",
              "      <td>NaN</td>\n",
              "    </tr>\n",
              "    <tr>\n",
              "      <th>...</th>\n",
              "      <td>...</td>\n",
              "      <td>...</td>\n",
              "      <td>...</td>\n",
              "      <td>...</td>\n",
              "      <td>...</td>\n",
              "      <td>...</td>\n",
              "      <td>...</td>\n",
              "      <td>...</td>\n",
              "      <td>...</td>\n",
              "      <td>...</td>\n",
              "      <td>...</td>\n",
              "      <td>...</td>\n",
              "      <td>...</td>\n",
              "      <td>...</td>\n",
              "      <td>...</td>\n",
              "      <td>...</td>\n",
              "    </tr>\n",
              "    <tr>\n",
              "      <th>36715.0</th>\n",
              "      <td>23</td>\n",
              "      <td>3500001</td>\n",
              "      <td>13</td>\n",
              "      <td>NaN</td>\n",
              "      <td>NaN</td>\n",
              "      <td>2.0</td>\n",
              "      <td>3.0</td>\n",
              "      <td>1.0</td>\n",
              "      <td>1.0</td>\n",
              "      <td>1.0</td>\n",
              "      <td>2.0</td>\n",
              "      <td>0.0</td>\n",
              "      <td>1.0</td>\n",
              "      <td>2.0</td>\n",
              "      <td>0.0</td>\n",
              "      <td>3.0</td>\n",
              "    </tr>\n",
              "    <tr>\n",
              "      <th>36716.0</th>\n",
              "      <td>23</td>\n",
              "      <td>3500001</td>\n",
              "      <td>14</td>\n",
              "      <td>NaN</td>\n",
              "      <td>NaN</td>\n",
              "      <td>0.0</td>\n",
              "      <td>0.0</td>\n",
              "      <td>0.0</td>\n",
              "      <td>0.0</td>\n",
              "      <td>0.0</td>\n",
              "      <td>0.0</td>\n",
              "      <td>0.0</td>\n",
              "      <td>0.0</td>\n",
              "      <td>0.0</td>\n",
              "      <td>0.0</td>\n",
              "      <td>0.0</td>\n",
              "    </tr>\n",
              "    <tr>\n",
              "      <th>36717.0</th>\n",
              "      <td>23</td>\n",
              "      <td>3500001</td>\n",
              "      <td>15</td>\n",
              "      <td>NaN</td>\n",
              "      <td>NaN</td>\n",
              "      <td>0.0</td>\n",
              "      <td>0.0</td>\n",
              "      <td>0.0</td>\n",
              "      <td>0.0</td>\n",
              "      <td>0.0</td>\n",
              "      <td>1.0</td>\n",
              "      <td>0.0</td>\n",
              "      <td>0.0</td>\n",
              "      <td>0.0</td>\n",
              "      <td>0.0</td>\n",
              "      <td>0.0</td>\n",
              "    </tr>\n",
              "    <tr>\n",
              "      <th>36718.0</th>\n",
              "      <td>23</td>\n",
              "      <td>3500001</td>\n",
              "      <td>16</td>\n",
              "      <td>NaN</td>\n",
              "      <td>NaN</td>\n",
              "      <td>0.0</td>\n",
              "      <td>0.0</td>\n",
              "      <td>0.0</td>\n",
              "      <td>0.0</td>\n",
              "      <td>0.0</td>\n",
              "      <td>0.0</td>\n",
              "      <td>0.0</td>\n",
              "      <td>1.0</td>\n",
              "      <td>0.0</td>\n",
              "      <td>0.0</td>\n",
              "      <td>0.0</td>\n",
              "    </tr>\n",
              "    <tr>\n",
              "      <th>36719.0</th>\n",
              "      <td>23</td>\n",
              "      <td>3500001</td>\n",
              "      <td>17</td>\n",
              "      <td>NaN</td>\n",
              "      <td>NaN</td>\n",
              "      <td>0.0</td>\n",
              "      <td>0.0</td>\n",
              "      <td>0.0</td>\n",
              "      <td>0.0</td>\n",
              "      <td>0.0</td>\n",
              "      <td>0.0</td>\n",
              "      <td>0.0</td>\n",
              "      <td>0.0</td>\n",
              "      <td>0.0</td>\n",
              "      <td>0.0</td>\n",
              "      <td>1.0</td>\n",
              "    </tr>\n",
              "  </tbody>\n",
              "</table>\n",
              "<p>70380 rows × 16 columns</p>\n",
              "</div>"
            ],
            "text/plain": [
              "         月ブロック     商品ID  店舗ID  ...  10ヶ月前の売上個数  11ヶ月前の売上個数  12ヶ月前の売上個数\n",
              "NaN          0  1000001     0  ...         NaN         NaN         NaN\n",
              "NaN          0  1000001     1  ...         NaN         NaN         NaN\n",
              "NaN          0  1000001     2  ...         NaN         NaN         NaN\n",
              "NaN          0  1000001     3  ...         NaN         NaN         NaN\n",
              "NaN          0  1000001     4  ...         NaN         NaN         NaN\n",
              "...        ...      ...   ...  ...         ...         ...         ...\n",
              "36715.0     23  3500001    13  ...         2.0         0.0         3.0\n",
              "36716.0     23  3500001    14  ...         0.0         0.0         0.0\n",
              "36717.0     23  3500001    15  ...         0.0         0.0         0.0\n",
              "36718.0     23  3500001    16  ...         0.0         0.0         0.0\n",
              "36719.0     23  3500001    17  ...         0.0         0.0         1.0\n",
              "\n",
              "[70380 rows x 16 columns]"
            ]
          },
          "metadata": {},
          "execution_count": 37
        }
      ]
    },
    {
      "cell_type": "code",
      "metadata": {
        "colab": {
          "base_uri": "https://localhost:8080/"
        },
        "id": "KxFkGna6sgUw",
        "outputId": "c2a651b6-83ee-406d-9b05-e39642c29008"
      },
      "source": [
        "print(dataset2.groupby('月ブロック').agg({'9ヶ月前の売上個数': 'count'}))"
      ],
      "execution_count": null,
      "outputs": [
        {
          "output_type": "stream",
          "name": "stdout",
          "text": [
            "       9ヶ月前の売上個数\n",
            "月ブロック           \n",
            "0              0\n",
            "1              0\n",
            "2              0\n",
            "3              0\n",
            "4              0\n",
            "5              0\n",
            "6              0\n",
            "7              0\n",
            "8              0\n",
            "9           3060\n",
            "10          3060\n",
            "11          3060\n",
            "12          3060\n",
            "13          3060\n",
            "14          3060\n",
            "15          3060\n",
            "16          3060\n",
            "17          3060\n",
            "18          3060\n",
            "19          3060\n",
            "20          3060\n",
            "21          3060\n",
            "23          3060\n"
          ]
        }
      ]
    },
    {
      "cell_type": "markdown",
      "metadata": {
        "id": "jHNywN_VdPME"
      },
      "source": [
        "### ラグ特徴量の追加"
      ]
    },
    {
      "cell_type": "markdown",
      "metadata": {
        "id": "JbUreOYMdPME"
      },
      "source": [
        "↑ 「月ブロック」0〜11のデータに該当するデータは、12ヶ月前の売上履歴が存在しないので、カラム「12ヶ月前の売上個数」すべて欠損値となる"
      ]
    },
    {
      "cell_type": "markdown",
      "metadata": {
        "id": "xvZ95dVPdPME"
      },
      "source": [
        "### 「商品カテゴリ」「年・月」情報の追加"
      ]
    },
    {
      "cell_type": "code",
      "metadata": {
        "id": "hVWCS3CSdPME",
        "colab": {
          "base_uri": "https://localhost:8080/",
          "height": 884
        },
        "outputId": "4e9f114e-b99d-4943-f140-d58dcd36eaf7"
      },
      "source": [
        "dataset3 = pd.merge(dataset2, cats, on='商品ID', how='left')\n",
        "dataset3 = pd.merge(dataset3, cat_names, on='商品カテゴリID', how='left')\n",
        "dataset3 = pd.merge(dataset3, gp_time, on='月ブロック', how='left')\n",
        "\n",
        "print(dataset3.info())\n",
        "dataset3.head()"
      ],
      "execution_count": null,
      "outputs": [
        {
          "output_type": "stream",
          "name": "stdout",
          "text": [
            "<class 'pandas.core.frame.DataFrame'>\n",
            "Int64Index: 70380 entries, 0 to 70379\n",
            "Data columns (total 21 columns):\n",
            " #   Column      Non-Null Count  Dtype  \n",
            "---  ------      --------------  -----  \n",
            " 0   月ブロック       70380 non-null  int64  \n",
            " 1   商品ID        70380 non-null  int64  \n",
            " 2   店舗ID        70380 non-null  int64  \n",
            " 3   売上個数        67320 non-null  float64\n",
            " 4   1ヶ月前の売上個数   64260 non-null  float64\n",
            " 5   2ヶ月前の売上個数   64260 non-null  float64\n",
            " 6   3ヶ月前の売上個数   61200 non-null  float64\n",
            " 7   4ヶ月前の売上個数   58140 non-null  float64\n",
            " 8   5ヶ月前の売上個数   55080 non-null  float64\n",
            " 9   6ヶ月前の売上個数   52020 non-null  float64\n",
            " 10  7ヶ月前の売上個数   48960 non-null  float64\n",
            " 11  8ヶ月前の売上個数   45900 non-null  float64\n",
            " 12  9ヶ月前の売上個数   42840 non-null  float64\n",
            " 13  10ヶ月前の売上個数  39780 non-null  float64\n",
            " 14  11ヶ月前の売上個数  36720 non-null  float64\n",
            " 15  12ヶ月前の売上個数  33660 non-null  float64\n",
            " 16  商品カテゴリID    70380 non-null  int64  \n",
            " 17  商品大カテゴリ     70380 non-null  object \n",
            " 18  商品小カテゴリ     70380 non-null  object \n",
            " 19  年           70380 non-null  object \n",
            " 20  月           70380 non-null  object \n",
            "dtypes: float64(13), int64(4), object(4)\n",
            "memory usage: 11.8+ MB\n",
            "None\n"
          ]
        },
        {
          "output_type": "execute_result",
          "data": {
            "text/html": [
              "<div>\n",
              "<style scoped>\n",
              "    .dataframe tbody tr th:only-of-type {\n",
              "        vertical-align: middle;\n",
              "    }\n",
              "\n",
              "    .dataframe tbody tr th {\n",
              "        vertical-align: top;\n",
              "    }\n",
              "\n",
              "    .dataframe thead th {\n",
              "        text-align: right;\n",
              "    }\n",
              "</style>\n",
              "<table border=\"1\" class=\"dataframe\">\n",
              "  <thead>\n",
              "    <tr style=\"text-align: right;\">\n",
              "      <th></th>\n",
              "      <th>月ブロック</th>\n",
              "      <th>商品ID</th>\n",
              "      <th>店舗ID</th>\n",
              "      <th>売上個数</th>\n",
              "      <th>1ヶ月前の売上個数</th>\n",
              "      <th>2ヶ月前の売上個数</th>\n",
              "      <th>3ヶ月前の売上個数</th>\n",
              "      <th>4ヶ月前の売上個数</th>\n",
              "      <th>5ヶ月前の売上個数</th>\n",
              "      <th>6ヶ月前の売上個数</th>\n",
              "      <th>7ヶ月前の売上個数</th>\n",
              "      <th>8ヶ月前の売上個数</th>\n",
              "      <th>9ヶ月前の売上個数</th>\n",
              "      <th>10ヶ月前の売上個数</th>\n",
              "      <th>11ヶ月前の売上個数</th>\n",
              "      <th>12ヶ月前の売上個数</th>\n",
              "      <th>商品カテゴリID</th>\n",
              "      <th>商品大カテゴリ</th>\n",
              "      <th>商品小カテゴリ</th>\n",
              "      <th>年</th>\n",
              "      <th>月</th>\n",
              "    </tr>\n",
              "  </thead>\n",
              "  <tbody>\n",
              "    <tr>\n",
              "      <th>0</th>\n",
              "      <td>0</td>\n",
              "      <td>1000001</td>\n",
              "      <td>0</td>\n",
              "      <td>6.0</td>\n",
              "      <td>NaN</td>\n",
              "      <td>NaN</td>\n",
              "      <td>NaN</td>\n",
              "      <td>NaN</td>\n",
              "      <td>NaN</td>\n",
              "      <td>NaN</td>\n",
              "      <td>NaN</td>\n",
              "      <td>NaN</td>\n",
              "      <td>NaN</td>\n",
              "      <td>NaN</td>\n",
              "      <td>NaN</td>\n",
              "      <td>NaN</td>\n",
              "      <td>100</td>\n",
              "      <td>映画</td>\n",
              "      <td>DVD</td>\n",
              "      <td>2018</td>\n",
              "      <td>01</td>\n",
              "    </tr>\n",
              "    <tr>\n",
              "      <th>1</th>\n",
              "      <td>0</td>\n",
              "      <td>1000001</td>\n",
              "      <td>1</td>\n",
              "      <td>2.0</td>\n",
              "      <td>NaN</td>\n",
              "      <td>NaN</td>\n",
              "      <td>NaN</td>\n",
              "      <td>NaN</td>\n",
              "      <td>NaN</td>\n",
              "      <td>NaN</td>\n",
              "      <td>NaN</td>\n",
              "      <td>NaN</td>\n",
              "      <td>NaN</td>\n",
              "      <td>NaN</td>\n",
              "      <td>NaN</td>\n",
              "      <td>NaN</td>\n",
              "      <td>100</td>\n",
              "      <td>映画</td>\n",
              "      <td>DVD</td>\n",
              "      <td>2018</td>\n",
              "      <td>01</td>\n",
              "    </tr>\n",
              "    <tr>\n",
              "      <th>2</th>\n",
              "      <td>0</td>\n",
              "      <td>1000001</td>\n",
              "      <td>2</td>\n",
              "      <td>1.0</td>\n",
              "      <td>NaN</td>\n",
              "      <td>NaN</td>\n",
              "      <td>NaN</td>\n",
              "      <td>NaN</td>\n",
              "      <td>NaN</td>\n",
              "      <td>NaN</td>\n",
              "      <td>NaN</td>\n",
              "      <td>NaN</td>\n",
              "      <td>NaN</td>\n",
              "      <td>NaN</td>\n",
              "      <td>NaN</td>\n",
              "      <td>NaN</td>\n",
              "      <td>100</td>\n",
              "      <td>映画</td>\n",
              "      <td>DVD</td>\n",
              "      <td>2018</td>\n",
              "      <td>01</td>\n",
              "    </tr>\n",
              "    <tr>\n",
              "      <th>3</th>\n",
              "      <td>0</td>\n",
              "      <td>1000001</td>\n",
              "      <td>3</td>\n",
              "      <td>2.0</td>\n",
              "      <td>NaN</td>\n",
              "      <td>NaN</td>\n",
              "      <td>NaN</td>\n",
              "      <td>NaN</td>\n",
              "      <td>NaN</td>\n",
              "      <td>NaN</td>\n",
              "      <td>NaN</td>\n",
              "      <td>NaN</td>\n",
              "      <td>NaN</td>\n",
              "      <td>NaN</td>\n",
              "      <td>NaN</td>\n",
              "      <td>NaN</td>\n",
              "      <td>100</td>\n",
              "      <td>映画</td>\n",
              "      <td>DVD</td>\n",
              "      <td>2018</td>\n",
              "      <td>01</td>\n",
              "    </tr>\n",
              "    <tr>\n",
              "      <th>4</th>\n",
              "      <td>0</td>\n",
              "      <td>1000001</td>\n",
              "      <td>4</td>\n",
              "      <td>0.0</td>\n",
              "      <td>NaN</td>\n",
              "      <td>NaN</td>\n",
              "      <td>NaN</td>\n",
              "      <td>NaN</td>\n",
              "      <td>NaN</td>\n",
              "      <td>NaN</td>\n",
              "      <td>NaN</td>\n",
              "      <td>NaN</td>\n",
              "      <td>NaN</td>\n",
              "      <td>NaN</td>\n",
              "      <td>NaN</td>\n",
              "      <td>NaN</td>\n",
              "      <td>100</td>\n",
              "      <td>映画</td>\n",
              "      <td>DVD</td>\n",
              "      <td>2018</td>\n",
              "      <td>01</td>\n",
              "    </tr>\n",
              "  </tbody>\n",
              "</table>\n",
              "</div>"
            ],
            "text/plain": [
              "   月ブロック     商品ID  店舗ID  売上個数  1ヶ月前の売上個数  ...  商品カテゴリID  商品大カテゴリ  商品小カテゴリ     年   月\n",
              "0      0  1000001     0   6.0        NaN  ...       100      映画       DVD  2018  01\n",
              "1      0  1000001     1   2.0        NaN  ...       100      映画       DVD  2018  01\n",
              "2      0  1000001     2   1.0        NaN  ...       100      映画       DVD  2018  01\n",
              "3      0  1000001     3   2.0        NaN  ...       100      映画       DVD  2018  01\n",
              "4      0  1000001     4   0.0        NaN  ...       100      映画       DVD  2018  01\n",
              "\n",
              "[5 rows x 21 columns]"
            ]
          },
          "metadata": {},
          "execution_count": 50
        }
      ]
    },
    {
      "cell_type": "markdown",
      "metadata": {
        "id": "dmX7tMfadPMF"
      },
      "source": [
        "### 文字列データを数値データに直す: pandas.Series.astype()"
      ]
    },
    {
      "cell_type": "code",
      "metadata": {
        "id": "vLmUGUYedPMF"
      },
      "source": [
        "dataset3['年'] = dataset3['年'].astype(int)\n",
        "dataset3['月'] = dataset3['月'].astype(int)"
      ],
      "execution_count": null,
      "outputs": []
    },
    {
      "cell_type": "code",
      "metadata": {
        "id": "YuCsZXikvl4_"
      },
      "source": [
        "dataset3['商品カテゴリID'] = dataset3['商品カテゴリID'].astype(str)\n"
      ],
      "execution_count": null,
      "outputs": []
    },
    {
      "cell_type": "code",
      "metadata": {
        "colab": {
          "base_uri": "https://localhost:8080/"
        },
        "id": "0ANDBo1Lva_r",
        "outputId": "198ad728-e34e-4e29-9420-4b9c904f3c29"
      },
      "source": [
        "dataset3.dtypes"
      ],
      "execution_count": null,
      "outputs": [
        {
          "output_type": "execute_result",
          "data": {
            "text/plain": [
              "月ブロック           int64\n",
              "商品ID            int64\n",
              "店舗ID            int64\n",
              "売上個数          float64\n",
              "1ヶ月前の売上個数     float64\n",
              "2ヶ月前の売上個数     float64\n",
              "3ヶ月前の売上個数     float64\n",
              "4ヶ月前の売上個数     float64\n",
              "5ヶ月前の売上個数     float64\n",
              "6ヶ月前の売上個数     float64\n",
              "7ヶ月前の売上個数     float64\n",
              "8ヶ月前の売上個数     float64\n",
              "9ヶ月前の売上個数     float64\n",
              "10ヶ月前の売上個数    float64\n",
              "11ヶ月前の売上個数    float64\n",
              "12ヶ月前の売上個数    float64\n",
              "商品カテゴリID       object\n",
              "商品大カテゴリ        object\n",
              "商品小カテゴリ        object\n",
              "年               int64\n",
              "月               int64\n",
              "dtype: object"
            ]
          },
          "metadata": {},
          "execution_count": 55
        }
      ]
    },
    {
      "cell_type": "code",
      "metadata": {
        "colab": {
          "base_uri": "https://localhost:8080/"
        },
        "id": "IOpGbiRFu5Rv",
        "outputId": "21a1173a-6f53-4ae8-f3f2-0e9c57f02a03"
      },
      "source": [
        "!pip install category_encoders\n",
        "import category_encoders as ce"
      ],
      "execution_count": null,
      "outputs": [
        {
          "output_type": "stream",
          "name": "stdout",
          "text": [
            "Collecting category_encoders\n",
            "  Downloading category_encoders-2.2.2-py2.py3-none-any.whl (80 kB)\n",
            "\u001b[?25l\r\u001b[K     |████                            | 10 kB 20.6 MB/s eta 0:00:01\r\u001b[K     |████████▏                       | 20 kB 25.9 MB/s eta 0:00:01\r\u001b[K     |████████████▏                   | 30 kB 24.9 MB/s eta 0:00:01\r\u001b[K     |████████████████▎               | 40 kB 19.9 MB/s eta 0:00:01\r\u001b[K     |████████████████████▎           | 51 kB 8.9 MB/s eta 0:00:01\r\u001b[K     |████████████████████████▍       | 61 kB 7.6 MB/s eta 0:00:01\r\u001b[K     |████████████████████████████▍   | 71 kB 8.2 MB/s eta 0:00:01\r\u001b[K     |████████████████████████████████| 80 kB 4.2 MB/s \n",
            "\u001b[?25hRequirement already satisfied: scikit-learn>=0.20.0 in /usr/local/lib/python3.7/dist-packages (from category_encoders) (0.22.2.post1)\n",
            "Requirement already satisfied: pandas>=0.21.1 in /usr/local/lib/python3.7/dist-packages (from category_encoders) (1.1.5)\n",
            "Requirement already satisfied: patsy>=0.5.1 in /usr/local/lib/python3.7/dist-packages (from category_encoders) (0.5.1)\n",
            "Requirement already satisfied: statsmodels>=0.9.0 in /usr/local/lib/python3.7/dist-packages (from category_encoders) (0.10.2)\n",
            "Requirement already satisfied: scipy>=1.0.0 in /usr/local/lib/python3.7/dist-packages (from category_encoders) (1.4.1)\n",
            "Requirement already satisfied: numpy>=1.14.0 in /usr/local/lib/python3.7/dist-packages (from category_encoders) (1.19.5)\n",
            "Requirement already satisfied: python-dateutil>=2.7.3 in /usr/local/lib/python3.7/dist-packages (from pandas>=0.21.1->category_encoders) (2.8.2)\n",
            "Requirement already satisfied: pytz>=2017.2 in /usr/local/lib/python3.7/dist-packages (from pandas>=0.21.1->category_encoders) (2018.9)\n",
            "Requirement already satisfied: six in /usr/local/lib/python3.7/dist-packages (from patsy>=0.5.1->category_encoders) (1.15.0)\n",
            "Requirement already satisfied: joblib>=0.11 in /usr/local/lib/python3.7/dist-packages (from scikit-learn>=0.20.0->category_encoders) (1.0.1)\n",
            "Installing collected packages: category-encoders\n",
            "Successfully installed category-encoders-2.2.2\n"
          ]
        },
        {
          "output_type": "stream",
          "name": "stderr",
          "text": [
            "/usr/local/lib/python3.7/dist-packages/statsmodels/tools/_testing.py:19: FutureWarning: pandas.util.testing is deprecated. Use the functions in the public API at pandas.testing instead.\n",
            "  import pandas.util.testing as tm\n"
          ]
        }
      ]
    },
    {
      "cell_type": "code",
      "metadata": {
        "colab": {
          "base_uri": "https://localhost:8080/",
          "height": 326
        },
        "id": "5M1DJnSqvRwg",
        "outputId": "8ed44968-a040-460e-88e5-3c98647c3414"
      },
      "source": [
        "list_cols = ['商品カテゴリID','商品大カテゴリ','商品小カテゴリ']\n",
        "count_encorder = ce.CountEncoder(cols=list_cols,handle_unknown='impute')\n",
        "enc_dataset3 = count_encorder.fit_transform(dataset3)\n",
        "\n",
        "enc_dataset3.head()"
      ],
      "execution_count": null,
      "outputs": [
        {
          "output_type": "stream",
          "name": "stderr",
          "text": [
            "/usr/local/lib/python3.7/dist-packages/category_encoders/utils.py:21: FutureWarning: is_categorical is deprecated and will be removed in a future version.  Use is_categorical_dtype instead\n",
            "  elif pd.api.types.is_categorical(cols):\n"
          ]
        },
        {
          "output_type": "execute_result",
          "data": {
            "text/html": [
              "<div>\n",
              "<style scoped>\n",
              "    .dataframe tbody tr th:only-of-type {\n",
              "        vertical-align: middle;\n",
              "    }\n",
              "\n",
              "    .dataframe tbody tr th {\n",
              "        vertical-align: top;\n",
              "    }\n",
              "\n",
              "    .dataframe thead th {\n",
              "        text-align: right;\n",
              "    }\n",
              "</style>\n",
              "<table border=\"1\" class=\"dataframe\">\n",
              "  <thead>\n",
              "    <tr style=\"text-align: right;\">\n",
              "      <th></th>\n",
              "      <th>月ブロック</th>\n",
              "      <th>商品ID</th>\n",
              "      <th>店舗ID</th>\n",
              "      <th>売上個数</th>\n",
              "      <th>1ヶ月前の売上個数</th>\n",
              "      <th>2ヶ月前の売上個数</th>\n",
              "      <th>3ヶ月前の売上個数</th>\n",
              "      <th>4ヶ月前の売上個数</th>\n",
              "      <th>5ヶ月前の売上個数</th>\n",
              "      <th>6ヶ月前の売上個数</th>\n",
              "      <th>7ヶ月前の売上個数</th>\n",
              "      <th>8ヶ月前の売上個数</th>\n",
              "      <th>9ヶ月前の売上個数</th>\n",
              "      <th>10ヶ月前の売上個数</th>\n",
              "      <th>11ヶ月前の売上個数</th>\n",
              "      <th>12ヶ月前の売上個数</th>\n",
              "      <th>商品カテゴリID</th>\n",
              "      <th>商品大カテゴリ</th>\n",
              "      <th>商品小カテゴリ</th>\n",
              "      <th>年</th>\n",
              "      <th>月</th>\n",
              "    </tr>\n",
              "  </thead>\n",
              "  <tbody>\n",
              "    <tr>\n",
              "      <th>0</th>\n",
              "      <td>0</td>\n",
              "      <td>1000001</td>\n",
              "      <td>0</td>\n",
              "      <td>6.0</td>\n",
              "      <td>NaN</td>\n",
              "      <td>NaN</td>\n",
              "      <td>NaN</td>\n",
              "      <td>NaN</td>\n",
              "      <td>NaN</td>\n",
              "      <td>NaN</td>\n",
              "      <td>NaN</td>\n",
              "      <td>NaN</td>\n",
              "      <td>NaN</td>\n",
              "      <td>NaN</td>\n",
              "      <td>NaN</td>\n",
              "      <td>NaN</td>\n",
              "      <td>6210</td>\n",
              "      <td>11178</td>\n",
              "      <td>6210</td>\n",
              "      <td>2018</td>\n",
              "      <td>1</td>\n",
              "    </tr>\n",
              "    <tr>\n",
              "      <th>1</th>\n",
              "      <td>0</td>\n",
              "      <td>1000001</td>\n",
              "      <td>1</td>\n",
              "      <td>2.0</td>\n",
              "      <td>NaN</td>\n",
              "      <td>NaN</td>\n",
              "      <td>NaN</td>\n",
              "      <td>NaN</td>\n",
              "      <td>NaN</td>\n",
              "      <td>NaN</td>\n",
              "      <td>NaN</td>\n",
              "      <td>NaN</td>\n",
              "      <td>NaN</td>\n",
              "      <td>NaN</td>\n",
              "      <td>NaN</td>\n",
              "      <td>NaN</td>\n",
              "      <td>6210</td>\n",
              "      <td>11178</td>\n",
              "      <td>6210</td>\n",
              "      <td>2018</td>\n",
              "      <td>1</td>\n",
              "    </tr>\n",
              "    <tr>\n",
              "      <th>2</th>\n",
              "      <td>0</td>\n",
              "      <td>1000001</td>\n",
              "      <td>2</td>\n",
              "      <td>1.0</td>\n",
              "      <td>NaN</td>\n",
              "      <td>NaN</td>\n",
              "      <td>NaN</td>\n",
              "      <td>NaN</td>\n",
              "      <td>NaN</td>\n",
              "      <td>NaN</td>\n",
              "      <td>NaN</td>\n",
              "      <td>NaN</td>\n",
              "      <td>NaN</td>\n",
              "      <td>NaN</td>\n",
              "      <td>NaN</td>\n",
              "      <td>NaN</td>\n",
              "      <td>6210</td>\n",
              "      <td>11178</td>\n",
              "      <td>6210</td>\n",
              "      <td>2018</td>\n",
              "      <td>1</td>\n",
              "    </tr>\n",
              "    <tr>\n",
              "      <th>3</th>\n",
              "      <td>0</td>\n",
              "      <td>1000001</td>\n",
              "      <td>3</td>\n",
              "      <td>2.0</td>\n",
              "      <td>NaN</td>\n",
              "      <td>NaN</td>\n",
              "      <td>NaN</td>\n",
              "      <td>NaN</td>\n",
              "      <td>NaN</td>\n",
              "      <td>NaN</td>\n",
              "      <td>NaN</td>\n",
              "      <td>NaN</td>\n",
              "      <td>NaN</td>\n",
              "      <td>NaN</td>\n",
              "      <td>NaN</td>\n",
              "      <td>NaN</td>\n",
              "      <td>6210</td>\n",
              "      <td>11178</td>\n",
              "      <td>6210</td>\n",
              "      <td>2018</td>\n",
              "      <td>1</td>\n",
              "    </tr>\n",
              "    <tr>\n",
              "      <th>4</th>\n",
              "      <td>0</td>\n",
              "      <td>1000001</td>\n",
              "      <td>4</td>\n",
              "      <td>0.0</td>\n",
              "      <td>NaN</td>\n",
              "      <td>NaN</td>\n",
              "      <td>NaN</td>\n",
              "      <td>NaN</td>\n",
              "      <td>NaN</td>\n",
              "      <td>NaN</td>\n",
              "      <td>NaN</td>\n",
              "      <td>NaN</td>\n",
              "      <td>NaN</td>\n",
              "      <td>NaN</td>\n",
              "      <td>NaN</td>\n",
              "      <td>NaN</td>\n",
              "      <td>6210</td>\n",
              "      <td>11178</td>\n",
              "      <td>6210</td>\n",
              "      <td>2018</td>\n",
              "      <td>1</td>\n",
              "    </tr>\n",
              "  </tbody>\n",
              "</table>\n",
              "</div>"
            ],
            "text/plain": [
              "   月ブロック     商品ID  店舗ID  売上個数  1ヶ月前の売上個数  ...  商品カテゴリID  商品大カテゴリ  商品小カテゴリ     年  月\n",
              "0      0  1000001     0   6.0        NaN  ...      6210    11178     6210  2018  1\n",
              "1      0  1000001     1   2.0        NaN  ...      6210    11178     6210  2018  1\n",
              "2      0  1000001     2   1.0        NaN  ...      6210    11178     6210  2018  1\n",
              "3      0  1000001     3   2.0        NaN  ...      6210    11178     6210  2018  1\n",
              "4      0  1000001     4   0.0        NaN  ...      6210    11178     6210  2018  1\n",
              "\n",
              "[5 rows x 21 columns]"
            ]
          },
          "metadata": {},
          "execution_count": 59
        }
      ]
    },
    {
      "cell_type": "code",
      "metadata": {
        "colab": {
          "base_uri": "https://localhost:8080/"
        },
        "id": "YW688vyKwfb6",
        "outputId": "c648c6c2-8eb3-419f-8a64-9df0d32950c8"
      },
      "source": [
        "enc_dataset3['商品小カテゴリ'].unique()"
      ],
      "execution_count": null,
      "outputs": [
        {
          "output_type": "execute_result",
          "data": {
            "text/plain": [
              "array([ 6210,   828, 17388,  2070,  1242,  7866,  2898,  1656,  3726,\n",
              "        2484,   414])"
            ]
          },
          "metadata": {},
          "execution_count": 61
        }
      ]
    },
    {
      "cell_type": "code",
      "metadata": {
        "id": "aKFB5ZtMwsye"
      },
      "source": [
        "dataset3 = enc_dataset3.copy()"
      ],
      "execution_count": null,
      "outputs": []
    },
    {
      "cell_type": "markdown",
      "metadata": {
        "id": "Cs22eIX0dPMF"
      },
      "source": [
        "## データセットの整理"
      ]
    },
    {
      "cell_type": "markdown",
      "metadata": {
        "id": "uN35nIK-dPMF"
      },
      "source": [
        "### データセットを学習用とテスト用に分割する"
      ]
    },
    {
      "cell_type": "code",
      "metadata": {
        "id": "fUz44nEUdPMF"
      },
      "source": [
        "# 学習データとしては、「12ヶ月前の売上個数」カラムが存在するレコードのみを抽出する\n",
        "train_dataset = dataset3[(dataset3['月ブロック'] >= 12) & (dataset3['月ブロック'] != 23)]\n",
        "\n",
        "test_dataset = dataset3[dataset3['月ブロック'] == 23]"
      ],
      "execution_count": null,
      "outputs": []
    },
    {
      "cell_type": "code",
      "metadata": {
        "colab": {
          "base_uri": "https://localhost:8080/"
        },
        "id": "wsHxxzSGxBzZ",
        "outputId": "2354e287-6c25-46b1-fc0c-a1f991bbc8fe"
      },
      "source": [
        "test_dataset.fillna(-1,inplace=True)"
      ],
      "execution_count": null,
      "outputs": [
        {
          "output_type": "stream",
          "name": "stderr",
          "text": [
            "/usr/local/lib/python3.7/dist-packages/pandas/core/frame.py:4327: SettingWithCopyWarning: \n",
            "A value is trying to be set on a copy of a slice from a DataFrame\n",
            "\n",
            "See the caveats in the documentation: https://pandas.pydata.org/pandas-docs/stable/user_guide/indexing.html#returning-a-view-versus-a-copy\n",
            "  downcast=downcast,\n"
          ]
        }
      ]
    },
    {
      "cell_type": "code",
      "metadata": {
        "id": "VwyTEhl7dPMG",
        "colab": {
          "base_uri": "https://localhost:8080/",
          "height": 487
        },
        "outputId": "d4f93b77-7663-4349-ef9b-af67c9aa0ec0"
      },
      "source": [
        "train_dataset"
      ],
      "execution_count": null,
      "outputs": [
        {
          "output_type": "execute_result",
          "data": {
            "text/html": [
              "<div>\n",
              "<style scoped>\n",
              "    .dataframe tbody tr th:only-of-type {\n",
              "        vertical-align: middle;\n",
              "    }\n",
              "\n",
              "    .dataframe tbody tr th {\n",
              "        vertical-align: top;\n",
              "    }\n",
              "\n",
              "    .dataframe thead th {\n",
              "        text-align: right;\n",
              "    }\n",
              "</style>\n",
              "<table border=\"1\" class=\"dataframe\">\n",
              "  <thead>\n",
              "    <tr style=\"text-align: right;\">\n",
              "      <th></th>\n",
              "      <th>月ブロック</th>\n",
              "      <th>商品ID</th>\n",
              "      <th>店舗ID</th>\n",
              "      <th>売上個数</th>\n",
              "      <th>1ヶ月前の売上個数</th>\n",
              "      <th>2ヶ月前の売上個数</th>\n",
              "      <th>3ヶ月前の売上個数</th>\n",
              "      <th>4ヶ月前の売上個数</th>\n",
              "      <th>5ヶ月前の売上個数</th>\n",
              "      <th>6ヶ月前の売上個数</th>\n",
              "      <th>7ヶ月前の売上個数</th>\n",
              "      <th>8ヶ月前の売上個数</th>\n",
              "      <th>9ヶ月前の売上個数</th>\n",
              "      <th>10ヶ月前の売上個数</th>\n",
              "      <th>11ヶ月前の売上個数</th>\n",
              "      <th>12ヶ月前の売上個数</th>\n",
              "      <th>商品カテゴリID</th>\n",
              "      <th>商品大カテゴリ</th>\n",
              "      <th>商品小カテゴリ</th>\n",
              "      <th>年</th>\n",
              "      <th>月</th>\n",
              "    </tr>\n",
              "  </thead>\n",
              "  <tbody>\n",
              "    <tr>\n",
              "      <th>36720</th>\n",
              "      <td>12</td>\n",
              "      <td>1000001</td>\n",
              "      <td>0</td>\n",
              "      <td>2.0</td>\n",
              "      <td>0.0</td>\n",
              "      <td>2.0</td>\n",
              "      <td>0.0</td>\n",
              "      <td>1.0</td>\n",
              "      <td>2.0</td>\n",
              "      <td>3.0</td>\n",
              "      <td>4.0</td>\n",
              "      <td>0.0</td>\n",
              "      <td>2.0</td>\n",
              "      <td>1.0</td>\n",
              "      <td>3.0</td>\n",
              "      <td>6.0</td>\n",
              "      <td>6210</td>\n",
              "      <td>11178</td>\n",
              "      <td>6210</td>\n",
              "      <td>2019</td>\n",
              "      <td>1</td>\n",
              "    </tr>\n",
              "    <tr>\n",
              "      <th>36721</th>\n",
              "      <td>12</td>\n",
              "      <td>1000001</td>\n",
              "      <td>1</td>\n",
              "      <td>0.0</td>\n",
              "      <td>0.0</td>\n",
              "      <td>0.0</td>\n",
              "      <td>1.0</td>\n",
              "      <td>0.0</td>\n",
              "      <td>0.0</td>\n",
              "      <td>1.0</td>\n",
              "      <td>2.0</td>\n",
              "      <td>0.0</td>\n",
              "      <td>2.0</td>\n",
              "      <td>0.0</td>\n",
              "      <td>1.0</td>\n",
              "      <td>2.0</td>\n",
              "      <td>6210</td>\n",
              "      <td>11178</td>\n",
              "      <td>6210</td>\n",
              "      <td>2019</td>\n",
              "      <td>1</td>\n",
              "    </tr>\n",
              "    <tr>\n",
              "      <th>36722</th>\n",
              "      <td>12</td>\n",
              "      <td>1000001</td>\n",
              "      <td>2</td>\n",
              "      <td>0.0</td>\n",
              "      <td>0.0</td>\n",
              "      <td>1.0</td>\n",
              "      <td>1.0</td>\n",
              "      <td>2.0</td>\n",
              "      <td>4.0</td>\n",
              "      <td>3.0</td>\n",
              "      <td>2.0</td>\n",
              "      <td>1.0</td>\n",
              "      <td>0.0</td>\n",
              "      <td>1.0</td>\n",
              "      <td>0.0</td>\n",
              "      <td>1.0</td>\n",
              "      <td>6210</td>\n",
              "      <td>11178</td>\n",
              "      <td>6210</td>\n",
              "      <td>2019</td>\n",
              "      <td>1</td>\n",
              "    </tr>\n",
              "    <tr>\n",
              "      <th>36723</th>\n",
              "      <td>12</td>\n",
              "      <td>1000001</td>\n",
              "      <td>3</td>\n",
              "      <td>5.0</td>\n",
              "      <td>9.0</td>\n",
              "      <td>7.0</td>\n",
              "      <td>7.0</td>\n",
              "      <td>9.0</td>\n",
              "      <td>6.0</td>\n",
              "      <td>4.0</td>\n",
              "      <td>1.0</td>\n",
              "      <td>2.0</td>\n",
              "      <td>8.0</td>\n",
              "      <td>3.0</td>\n",
              "      <td>0.0</td>\n",
              "      <td>2.0</td>\n",
              "      <td>6210</td>\n",
              "      <td>11178</td>\n",
              "      <td>6210</td>\n",
              "      <td>2019</td>\n",
              "      <td>1</td>\n",
              "    </tr>\n",
              "    <tr>\n",
              "      <th>36724</th>\n",
              "      <td>12</td>\n",
              "      <td>1000001</td>\n",
              "      <td>4</td>\n",
              "      <td>4.0</td>\n",
              "      <td>7.0</td>\n",
              "      <td>5.0</td>\n",
              "      <td>6.0</td>\n",
              "      <td>2.0</td>\n",
              "      <td>2.0</td>\n",
              "      <td>6.0</td>\n",
              "      <td>4.0</td>\n",
              "      <td>2.0</td>\n",
              "      <td>2.0</td>\n",
              "      <td>1.0</td>\n",
              "      <td>2.0</td>\n",
              "      <td>0.0</td>\n",
              "      <td>6210</td>\n",
              "      <td>11178</td>\n",
              "      <td>6210</td>\n",
              "      <td>2019</td>\n",
              "      <td>1</td>\n",
              "    </tr>\n",
              "    <tr>\n",
              "      <th>...</th>\n",
              "      <td>...</td>\n",
              "      <td>...</td>\n",
              "      <td>...</td>\n",
              "      <td>...</td>\n",
              "      <td>...</td>\n",
              "      <td>...</td>\n",
              "      <td>...</td>\n",
              "      <td>...</td>\n",
              "      <td>...</td>\n",
              "      <td>...</td>\n",
              "      <td>...</td>\n",
              "      <td>...</td>\n",
              "      <td>...</td>\n",
              "      <td>...</td>\n",
              "      <td>...</td>\n",
              "      <td>...</td>\n",
              "      <td>...</td>\n",
              "      <td>...</td>\n",
              "      <td>...</td>\n",
              "      <td>...</td>\n",
              "      <td>...</td>\n",
              "    </tr>\n",
              "    <tr>\n",
              "      <th>67315</th>\n",
              "      <td>21</td>\n",
              "      <td>3500001</td>\n",
              "      <td>13</td>\n",
              "      <td>2.0</td>\n",
              "      <td>3.0</td>\n",
              "      <td>1.0</td>\n",
              "      <td>1.0</td>\n",
              "      <td>1.0</td>\n",
              "      <td>2.0</td>\n",
              "      <td>0.0</td>\n",
              "      <td>1.0</td>\n",
              "      <td>2.0</td>\n",
              "      <td>0.0</td>\n",
              "      <td>3.0</td>\n",
              "      <td>1.0</td>\n",
              "      <td>2.0</td>\n",
              "      <td>414</td>\n",
              "      <td>4968</td>\n",
              "      <td>414</td>\n",
              "      <td>2019</td>\n",
              "      <td>10</td>\n",
              "    </tr>\n",
              "    <tr>\n",
              "      <th>67316</th>\n",
              "      <td>21</td>\n",
              "      <td>3500001</td>\n",
              "      <td>14</td>\n",
              "      <td>0.0</td>\n",
              "      <td>0.0</td>\n",
              "      <td>0.0</td>\n",
              "      <td>0.0</td>\n",
              "      <td>0.0</td>\n",
              "      <td>0.0</td>\n",
              "      <td>0.0</td>\n",
              "      <td>0.0</td>\n",
              "      <td>0.0</td>\n",
              "      <td>0.0</td>\n",
              "      <td>0.0</td>\n",
              "      <td>0.0</td>\n",
              "      <td>0.0</td>\n",
              "      <td>414</td>\n",
              "      <td>4968</td>\n",
              "      <td>414</td>\n",
              "      <td>2019</td>\n",
              "      <td>10</td>\n",
              "    </tr>\n",
              "    <tr>\n",
              "      <th>67317</th>\n",
              "      <td>21</td>\n",
              "      <td>3500001</td>\n",
              "      <td>15</td>\n",
              "      <td>0.0</td>\n",
              "      <td>0.0</td>\n",
              "      <td>0.0</td>\n",
              "      <td>0.0</td>\n",
              "      <td>0.0</td>\n",
              "      <td>1.0</td>\n",
              "      <td>0.0</td>\n",
              "      <td>0.0</td>\n",
              "      <td>0.0</td>\n",
              "      <td>0.0</td>\n",
              "      <td>0.0</td>\n",
              "      <td>0.0</td>\n",
              "      <td>0.0</td>\n",
              "      <td>414</td>\n",
              "      <td>4968</td>\n",
              "      <td>414</td>\n",
              "      <td>2019</td>\n",
              "      <td>10</td>\n",
              "    </tr>\n",
              "    <tr>\n",
              "      <th>67318</th>\n",
              "      <td>21</td>\n",
              "      <td>3500001</td>\n",
              "      <td>16</td>\n",
              "      <td>0.0</td>\n",
              "      <td>0.0</td>\n",
              "      <td>0.0</td>\n",
              "      <td>0.0</td>\n",
              "      <td>0.0</td>\n",
              "      <td>0.0</td>\n",
              "      <td>0.0</td>\n",
              "      <td>1.0</td>\n",
              "      <td>0.0</td>\n",
              "      <td>0.0</td>\n",
              "      <td>0.0</td>\n",
              "      <td>0.0</td>\n",
              "      <td>0.0</td>\n",
              "      <td>414</td>\n",
              "      <td>4968</td>\n",
              "      <td>414</td>\n",
              "      <td>2019</td>\n",
              "      <td>10</td>\n",
              "    </tr>\n",
              "    <tr>\n",
              "      <th>67319</th>\n",
              "      <td>21</td>\n",
              "      <td>3500001</td>\n",
              "      <td>17</td>\n",
              "      <td>0.0</td>\n",
              "      <td>0.0</td>\n",
              "      <td>0.0</td>\n",
              "      <td>0.0</td>\n",
              "      <td>0.0</td>\n",
              "      <td>0.0</td>\n",
              "      <td>0.0</td>\n",
              "      <td>0.0</td>\n",
              "      <td>0.0</td>\n",
              "      <td>0.0</td>\n",
              "      <td>1.0</td>\n",
              "      <td>0.0</td>\n",
              "      <td>0.0</td>\n",
              "      <td>414</td>\n",
              "      <td>4968</td>\n",
              "      <td>414</td>\n",
              "      <td>2019</td>\n",
              "      <td>10</td>\n",
              "    </tr>\n",
              "  </tbody>\n",
              "</table>\n",
              "<p>30600 rows × 21 columns</p>\n",
              "</div>"
            ],
            "text/plain": [
              "       月ブロック     商品ID  店舗ID  売上個数  ...  商品大カテゴリ  商品小カテゴリ     年   月\n",
              "36720     12  1000001     0   2.0  ...    11178     6210  2019   1\n",
              "36721     12  1000001     1   0.0  ...    11178     6210  2019   1\n",
              "36722     12  1000001     2   0.0  ...    11178     6210  2019   1\n",
              "36723     12  1000001     3   5.0  ...    11178     6210  2019   1\n",
              "36724     12  1000001     4   4.0  ...    11178     6210  2019   1\n",
              "...      ...      ...   ...   ...  ...      ...      ...   ...  ..\n",
              "67315     21  3500001    13   2.0  ...     4968      414  2019  10\n",
              "67316     21  3500001    14   0.0  ...     4968      414  2019  10\n",
              "67317     21  3500001    15   0.0  ...     4968      414  2019  10\n",
              "67318     21  3500001    16   0.0  ...     4968      414  2019  10\n",
              "67319     21  3500001    17   0.0  ...     4968      414  2019  10\n",
              "\n",
              "[30600 rows x 21 columns]"
            ]
          },
          "metadata": {},
          "execution_count": 65
        }
      ]
    },
    {
      "cell_type": "code",
      "metadata": {
        "id": "qxppcRMadPMG",
        "colab": {
          "base_uri": "https://localhost:8080/",
          "height": 538
        },
        "outputId": "17f71baf-6106-442c-aebf-063148456521"
      },
      "source": [
        "test_dataset"
      ],
      "execution_count": null,
      "outputs": [
        {
          "output_type": "execute_result",
          "data": {
            "text/html": [
              "<div>\n",
              "<style scoped>\n",
              "    .dataframe tbody tr th:only-of-type {\n",
              "        vertical-align: middle;\n",
              "    }\n",
              "\n",
              "    .dataframe tbody tr th {\n",
              "        vertical-align: top;\n",
              "    }\n",
              "\n",
              "    .dataframe thead th {\n",
              "        text-align: right;\n",
              "    }\n",
              "</style>\n",
              "<table border=\"1\" class=\"dataframe\">\n",
              "  <thead>\n",
              "    <tr style=\"text-align: right;\">\n",
              "      <th></th>\n",
              "      <th>月ブロック</th>\n",
              "      <th>商品ID</th>\n",
              "      <th>店舗ID</th>\n",
              "      <th>売上個数</th>\n",
              "      <th>1ヶ月前の売上個数</th>\n",
              "      <th>2ヶ月前の売上個数</th>\n",
              "      <th>3ヶ月前の売上個数</th>\n",
              "      <th>4ヶ月前の売上個数</th>\n",
              "      <th>5ヶ月前の売上個数</th>\n",
              "      <th>6ヶ月前の売上個数</th>\n",
              "      <th>7ヶ月前の売上個数</th>\n",
              "      <th>8ヶ月前の売上個数</th>\n",
              "      <th>9ヶ月前の売上個数</th>\n",
              "      <th>10ヶ月前の売上個数</th>\n",
              "      <th>11ヶ月前の売上個数</th>\n",
              "      <th>12ヶ月前の売上個数</th>\n",
              "      <th>商品カテゴリID</th>\n",
              "      <th>商品大カテゴリ</th>\n",
              "      <th>商品小カテゴリ</th>\n",
              "      <th>年</th>\n",
              "      <th>月</th>\n",
              "    </tr>\n",
              "  </thead>\n",
              "  <tbody>\n",
              "    <tr>\n",
              "      <th>67320</th>\n",
              "      <td>23</td>\n",
              "      <td>1000001</td>\n",
              "      <td>0</td>\n",
              "      <td>-1.0</td>\n",
              "      <td>-1.0</td>\n",
              "      <td>0.0</td>\n",
              "      <td>1.0</td>\n",
              "      <td>0.0</td>\n",
              "      <td>2.0</td>\n",
              "      <td>0.0</td>\n",
              "      <td>0.0</td>\n",
              "      <td>0.0</td>\n",
              "      <td>0.0</td>\n",
              "      <td>1.0</td>\n",
              "      <td>2.0</td>\n",
              "      <td>0.0</td>\n",
              "      <td>6210</td>\n",
              "      <td>11178</td>\n",
              "      <td>6210</td>\n",
              "      <td>2019</td>\n",
              "      <td>12</td>\n",
              "    </tr>\n",
              "    <tr>\n",
              "      <th>67321</th>\n",
              "      <td>23</td>\n",
              "      <td>1000001</td>\n",
              "      <td>1</td>\n",
              "      <td>-1.0</td>\n",
              "      <td>-1.0</td>\n",
              "      <td>0.0</td>\n",
              "      <td>0.0</td>\n",
              "      <td>0.0</td>\n",
              "      <td>0.0</td>\n",
              "      <td>0.0</td>\n",
              "      <td>0.0</td>\n",
              "      <td>0.0</td>\n",
              "      <td>0.0</td>\n",
              "      <td>0.0</td>\n",
              "      <td>0.0</td>\n",
              "      <td>0.0</td>\n",
              "      <td>6210</td>\n",
              "      <td>11178</td>\n",
              "      <td>6210</td>\n",
              "      <td>2019</td>\n",
              "      <td>12</td>\n",
              "    </tr>\n",
              "    <tr>\n",
              "      <th>67322</th>\n",
              "      <td>23</td>\n",
              "      <td>1000001</td>\n",
              "      <td>2</td>\n",
              "      <td>-1.0</td>\n",
              "      <td>-1.0</td>\n",
              "      <td>2.0</td>\n",
              "      <td>0.0</td>\n",
              "      <td>3.0</td>\n",
              "      <td>0.0</td>\n",
              "      <td>2.0</td>\n",
              "      <td>0.0</td>\n",
              "      <td>1.0</td>\n",
              "      <td>1.0</td>\n",
              "      <td>2.0</td>\n",
              "      <td>0.0</td>\n",
              "      <td>0.0</td>\n",
              "      <td>6210</td>\n",
              "      <td>11178</td>\n",
              "      <td>6210</td>\n",
              "      <td>2019</td>\n",
              "      <td>12</td>\n",
              "    </tr>\n",
              "    <tr>\n",
              "      <th>67323</th>\n",
              "      <td>23</td>\n",
              "      <td>1000001</td>\n",
              "      <td>3</td>\n",
              "      <td>-1.0</td>\n",
              "      <td>-1.0</td>\n",
              "      <td>2.0</td>\n",
              "      <td>3.0</td>\n",
              "      <td>6.0</td>\n",
              "      <td>5.0</td>\n",
              "      <td>4.0</td>\n",
              "      <td>5.0</td>\n",
              "      <td>2.0</td>\n",
              "      <td>3.0</td>\n",
              "      <td>2.0</td>\n",
              "      <td>5.0</td>\n",
              "      <td>9.0</td>\n",
              "      <td>6210</td>\n",
              "      <td>11178</td>\n",
              "      <td>6210</td>\n",
              "      <td>2019</td>\n",
              "      <td>12</td>\n",
              "    </tr>\n",
              "    <tr>\n",
              "      <th>67324</th>\n",
              "      <td>23</td>\n",
              "      <td>1000001</td>\n",
              "      <td>4</td>\n",
              "      <td>-1.0</td>\n",
              "      <td>-1.0</td>\n",
              "      <td>12.0</td>\n",
              "      <td>8.0</td>\n",
              "      <td>14.0</td>\n",
              "      <td>9.0</td>\n",
              "      <td>6.0</td>\n",
              "      <td>5.0</td>\n",
              "      <td>3.0</td>\n",
              "      <td>6.0</td>\n",
              "      <td>8.0</td>\n",
              "      <td>4.0</td>\n",
              "      <td>7.0</td>\n",
              "      <td>6210</td>\n",
              "      <td>11178</td>\n",
              "      <td>6210</td>\n",
              "      <td>2019</td>\n",
              "      <td>12</td>\n",
              "    </tr>\n",
              "    <tr>\n",
              "      <th>...</th>\n",
              "      <td>...</td>\n",
              "      <td>...</td>\n",
              "      <td>...</td>\n",
              "      <td>...</td>\n",
              "      <td>...</td>\n",
              "      <td>...</td>\n",
              "      <td>...</td>\n",
              "      <td>...</td>\n",
              "      <td>...</td>\n",
              "      <td>...</td>\n",
              "      <td>...</td>\n",
              "      <td>...</td>\n",
              "      <td>...</td>\n",
              "      <td>...</td>\n",
              "      <td>...</td>\n",
              "      <td>...</td>\n",
              "      <td>...</td>\n",
              "      <td>...</td>\n",
              "      <td>...</td>\n",
              "      <td>...</td>\n",
              "      <td>...</td>\n",
              "    </tr>\n",
              "    <tr>\n",
              "      <th>70375</th>\n",
              "      <td>23</td>\n",
              "      <td>3500001</td>\n",
              "      <td>13</td>\n",
              "      <td>-1.0</td>\n",
              "      <td>-1.0</td>\n",
              "      <td>2.0</td>\n",
              "      <td>3.0</td>\n",
              "      <td>1.0</td>\n",
              "      <td>1.0</td>\n",
              "      <td>1.0</td>\n",
              "      <td>2.0</td>\n",
              "      <td>0.0</td>\n",
              "      <td>1.0</td>\n",
              "      <td>2.0</td>\n",
              "      <td>0.0</td>\n",
              "      <td>3.0</td>\n",
              "      <td>414</td>\n",
              "      <td>4968</td>\n",
              "      <td>414</td>\n",
              "      <td>2019</td>\n",
              "      <td>12</td>\n",
              "    </tr>\n",
              "    <tr>\n",
              "      <th>70376</th>\n",
              "      <td>23</td>\n",
              "      <td>3500001</td>\n",
              "      <td>14</td>\n",
              "      <td>-1.0</td>\n",
              "      <td>-1.0</td>\n",
              "      <td>0.0</td>\n",
              "      <td>0.0</td>\n",
              "      <td>0.0</td>\n",
              "      <td>0.0</td>\n",
              "      <td>0.0</td>\n",
              "      <td>0.0</td>\n",
              "      <td>0.0</td>\n",
              "      <td>0.0</td>\n",
              "      <td>0.0</td>\n",
              "      <td>0.0</td>\n",
              "      <td>0.0</td>\n",
              "      <td>414</td>\n",
              "      <td>4968</td>\n",
              "      <td>414</td>\n",
              "      <td>2019</td>\n",
              "      <td>12</td>\n",
              "    </tr>\n",
              "    <tr>\n",
              "      <th>70377</th>\n",
              "      <td>23</td>\n",
              "      <td>3500001</td>\n",
              "      <td>15</td>\n",
              "      <td>-1.0</td>\n",
              "      <td>-1.0</td>\n",
              "      <td>0.0</td>\n",
              "      <td>0.0</td>\n",
              "      <td>0.0</td>\n",
              "      <td>0.0</td>\n",
              "      <td>0.0</td>\n",
              "      <td>1.0</td>\n",
              "      <td>0.0</td>\n",
              "      <td>0.0</td>\n",
              "      <td>0.0</td>\n",
              "      <td>0.0</td>\n",
              "      <td>0.0</td>\n",
              "      <td>414</td>\n",
              "      <td>4968</td>\n",
              "      <td>414</td>\n",
              "      <td>2019</td>\n",
              "      <td>12</td>\n",
              "    </tr>\n",
              "    <tr>\n",
              "      <th>70378</th>\n",
              "      <td>23</td>\n",
              "      <td>3500001</td>\n",
              "      <td>16</td>\n",
              "      <td>-1.0</td>\n",
              "      <td>-1.0</td>\n",
              "      <td>0.0</td>\n",
              "      <td>0.0</td>\n",
              "      <td>0.0</td>\n",
              "      <td>0.0</td>\n",
              "      <td>0.0</td>\n",
              "      <td>0.0</td>\n",
              "      <td>0.0</td>\n",
              "      <td>1.0</td>\n",
              "      <td>0.0</td>\n",
              "      <td>0.0</td>\n",
              "      <td>0.0</td>\n",
              "      <td>414</td>\n",
              "      <td>4968</td>\n",
              "      <td>414</td>\n",
              "      <td>2019</td>\n",
              "      <td>12</td>\n",
              "    </tr>\n",
              "    <tr>\n",
              "      <th>70379</th>\n",
              "      <td>23</td>\n",
              "      <td>3500001</td>\n",
              "      <td>17</td>\n",
              "      <td>-1.0</td>\n",
              "      <td>-1.0</td>\n",
              "      <td>0.0</td>\n",
              "      <td>0.0</td>\n",
              "      <td>0.0</td>\n",
              "      <td>0.0</td>\n",
              "      <td>0.0</td>\n",
              "      <td>0.0</td>\n",
              "      <td>0.0</td>\n",
              "      <td>0.0</td>\n",
              "      <td>0.0</td>\n",
              "      <td>0.0</td>\n",
              "      <td>1.0</td>\n",
              "      <td>414</td>\n",
              "      <td>4968</td>\n",
              "      <td>414</td>\n",
              "      <td>2019</td>\n",
              "      <td>12</td>\n",
              "    </tr>\n",
              "  </tbody>\n",
              "</table>\n",
              "<p>3060 rows × 21 columns</p>\n",
              "</div>"
            ],
            "text/plain": [
              "       月ブロック     商品ID  店舗ID  売上個数  ...  商品大カテゴリ  商品小カテゴリ     年   月\n",
              "67320     23  1000001     0  -1.0  ...    11178     6210  2019  12\n",
              "67321     23  1000001     1  -1.0  ...    11178     6210  2019  12\n",
              "67322     23  1000001     2  -1.0  ...    11178     6210  2019  12\n",
              "67323     23  1000001     3  -1.0  ...    11178     6210  2019  12\n",
              "67324     23  1000001     4  -1.0  ...    11178     6210  2019  12\n",
              "...      ...      ...   ...   ...  ...      ...      ...   ...  ..\n",
              "70375     23  3500001    13  -1.0  ...     4968      414  2019  12\n",
              "70376     23  3500001    14  -1.0  ...     4968      414  2019  12\n",
              "70377     23  3500001    15  -1.0  ...     4968      414  2019  12\n",
              "70378     23  3500001    16  -1.0  ...     4968      414  2019  12\n",
              "70379     23  3500001    17  -1.0  ...     4968      414  2019  12\n",
              "\n",
              "[3060 rows x 21 columns]"
            ]
          },
          "metadata": {},
          "execution_count": 73
        }
      ]
    },
    {
      "cell_type": "markdown",
      "metadata": {
        "id": "VaO8zgxpdPMG"
      },
      "source": [
        "### データセットを入力値、目標値に分割"
      ]
    },
    {
      "cell_type": "code",
      "metadata": {
        "id": "WNuMLXw5dPMG"
      },
      "source": [
        "X_train = train_dataset.drop('売上個数', axis=1)\n",
        "y_train = train_dataset['売上個数']\n",
        "\n",
        "X_test = test_dataset.drop(['売上個数'], axis=1)"
      ],
      "execution_count": null,
      "outputs": []
    },
    {
      "cell_type": "markdown",
      "metadata": {
        "id": "veVL1pkOdPMG"
      },
      "source": [
        "# 5. モデリング\n",
        "- <font color=\"#FF0000\"><strong>【ポイント】利用するモデルによっても予測精度は変わります。様々なモデル×パラメータチューニングを試してみましょう。</strong></font>\n",
        "- ここでは、特徴量の正規化などは行わずに単純な重回帰モデルによる学習・予測を行った場合の例を示す。"
      ]
    },
    {
      "cell_type": "code",
      "metadata": {
        "id": "s9zcgY7BdPMG",
        "colab": {
          "base_uri": "https://localhost:8080/"
        },
        "outputId": "9a4b85bc-4f52-4eee-eb9b-492607880d5d"
      },
      "source": [
        "# モデルインスタンスの生成\n",
        "model = LinearRegression()\n",
        "\n",
        "# モデルの学習\n",
        "model.fit(X_train, y_train)"
      ],
      "execution_count": null,
      "outputs": [
        {
          "output_type": "execute_result",
          "data": {
            "text/plain": [
              "LinearRegression(copy_X=True, fit_intercept=True, n_jobs=None, normalize=False)"
            ]
          },
          "metadata": {},
          "execution_count": 75
        }
      ]
    },
    {
      "cell_type": "code",
      "metadata": {
        "id": "mbfw4g5fdPMG"
      },
      "source": [
        "# 学習済みのモデルを使用してテストデータに関する予測値を算出する\n",
        "y_pred_lin = model.predict(X_test)"
      ],
      "execution_count": null,
      "outputs": []
    },
    {
      "cell_type": "code",
      "metadata": {
        "id": "Cp1gqWUTy1q5"
      },
      "source": [
        "from lightgbm import LGBMRegressor"
      ],
      "execution_count": null,
      "outputs": []
    },
    {
      "cell_type": "code",
      "metadata": {
        "id": "Oci4PYCaxrty"
      },
      "source": [
        "  clf = LGBMRegressor(boosting_type='gbdt', class_weight=None, colsample_bytree=0.7,\n",
        "                                importance_type='split', learning_rate=0.05, max_depth=-1,\n",
        "                                min_child_samples=10, min_child_weight=0.001, min_split_gain=0.0,\n",
        "                                n_estimators=9999, n_jobs=-1, num_leaves=15, objective='regression',\n",
        "                                random_state=71, reg_alpha=0.0, reg_lambda=0.0, silent=True,\n",
        "                                subsample=1.0, subsample_for_bin=200000, subsample_freq=0)\n",
        "  \n",
        "\n",
        "clf.fit(X_train, y_train)\n",
        "y_pred_lgb = clf.predict(X_test)"
      ],
      "execution_count": null,
      "outputs": []
    },
    {
      "cell_type": "code",
      "metadata": {
        "colab": {
          "base_uri": "https://localhost:8080/"
        },
        "id": "1j8A21cbzzYN",
        "outputId": "70916254-11ad-49f7-b6c9-bde8930134f8"
      },
      "source": [
        "y_pred_lgb"
      ],
      "execution_count": null,
      "outputs": [
        {
          "output_type": "execute_result",
          "data": {
            "text/plain": [
              "array([ 0.04214238,  0.23267382,  1.80110197, ..., -0.00375237,\n",
              "       -0.08259419, -0.02023198])"
            ]
          },
          "metadata": {},
          "execution_count": 82
        }
      ]
    },
    {
      "cell_type": "code",
      "metadata": {
        "colab": {
          "base_uri": "https://localhost:8080/"
        },
        "id": "cnXjBbwJz23L",
        "outputId": "cd74b9c4-a3de-46d5-c763-63eb63ab5f75"
      },
      "source": [
        "y_pred_lin"
      ],
      "execution_count": null,
      "outputs": [
        {
          "output_type": "execute_result",
          "data": {
            "text/plain": [
              "array([ 0.19607671,  0.04038149,  0.27339891, ..., -0.21211651,\n",
              "       -0.23256549, -0.2054039 ])"
            ]
          },
          "metadata": {},
          "execution_count": 83
        }
      ]
    },
    {
      "cell_type": "code",
      "metadata": {
        "colab": {
          "base_uri": "https://localhost:8080/"
        },
        "id": "R4m3I1v4z8Lt",
        "outputId": "62df889f-5894-4b8b-a11d-4ccb37c82607"
      },
      "source": [
        "y_pred = (y_pred_lgb+y_pred_lin)/2\n",
        "y_pred"
      ],
      "execution_count": null,
      "outputs": [
        {
          "output_type": "execute_result",
          "data": {
            "text/plain": [
              "array([ 0.11910954,  0.13652766,  1.03725044, ..., -0.10793444,\n",
              "       -0.15757984, -0.11281794])"
            ]
          },
          "metadata": {},
          "execution_count": 84
        }
      ]
    },
    {
      "cell_type": "code",
      "metadata": {
        "id": "X4rD44jq0QHy"
      },
      "source": [
        "y_pred_round = np.round(y_pred)"
      ],
      "execution_count": null,
      "outputs": []
    },
    {
      "cell_type": "code",
      "metadata": {
        "colab": {
          "base_uri": "https://localhost:8080/"
        },
        "id": "IvI58DNA1H7Y",
        "outputId": "f8d35c4d-7240-4e8f-c21f-d39bb146e496"
      },
      "source": [
        "y_pred_round"
      ],
      "execution_count": null,
      "outputs": [
        {
          "output_type": "execute_result",
          "data": {
            "text/plain": [
              "array([ 0.,  0.,  1., ..., -0., -0., -0.])"
            ]
          },
          "metadata": {},
          "execution_count": 87
        }
      ]
    },
    {
      "cell_type": "markdown",
      "metadata": {
        "id": "GgCWIN6xdPMH"
      },
      "source": [
        "# 6. 提出用ファイルの作成: pandas.DataFrame.to_csv()\n",
        "\n",
        "sample_submission.csvを元に、提出用ファイルを作成する"
      ]
    },
    {
      "cell_type": "code",
      "metadata": {
        "id": "8On3QKoBdPMH",
        "colab": {
          "base_uri": "https://localhost:8080/",
          "height": 204
        },
        "outputId": "41b0db3d-eaf7-4746-a92b-031e0ea3fad9"
      },
      "source": [
        "# sample_submissionの中身を確認\n",
        "sub.head()"
      ],
      "execution_count": null,
      "outputs": [
        {
          "output_type": "execute_result",
          "data": {
            "text/html": [
              "<div>\n",
              "<style scoped>\n",
              "    .dataframe tbody tr th:only-of-type {\n",
              "        vertical-align: middle;\n",
              "    }\n",
              "\n",
              "    .dataframe tbody tr th {\n",
              "        vertical-align: top;\n",
              "    }\n",
              "\n",
              "    .dataframe thead th {\n",
              "        text-align: right;\n",
              "    }\n",
              "</style>\n",
              "<table border=\"1\" class=\"dataframe\">\n",
              "  <thead>\n",
              "    <tr style=\"text-align: right;\">\n",
              "      <th></th>\n",
              "      <th>0</th>\n",
              "      <th>1</th>\n",
              "    </tr>\n",
              "  </thead>\n",
              "  <tbody>\n",
              "    <tr>\n",
              "      <th>0</th>\n",
              "      <td>0</td>\n",
              "      <td>100</td>\n",
              "    </tr>\n",
              "    <tr>\n",
              "      <th>1</th>\n",
              "      <td>1</td>\n",
              "      <td>100</td>\n",
              "    </tr>\n",
              "    <tr>\n",
              "      <th>2</th>\n",
              "      <td>2</td>\n",
              "      <td>100</td>\n",
              "    </tr>\n",
              "    <tr>\n",
              "      <th>3</th>\n",
              "      <td>3</td>\n",
              "      <td>100</td>\n",
              "    </tr>\n",
              "    <tr>\n",
              "      <th>4</th>\n",
              "      <td>4</td>\n",
              "      <td>100</td>\n",
              "    </tr>\n",
              "  </tbody>\n",
              "</table>\n",
              "</div>"
            ],
            "text/plain": [
              "   0    1\n",
              "0  0  100\n",
              "1  1  100\n",
              "2  2  100\n",
              "3  3  100\n",
              "4  4  100"
            ]
          },
          "metadata": {},
          "execution_count": 88
        }
      ]
    },
    {
      "cell_type": "code",
      "metadata": {
        "id": "VAEwdE_edPMH",
        "colab": {
          "base_uri": "https://localhost:8080/",
          "height": 419
        },
        "outputId": "bc77606a-0f58-46e9-fa61-739ceaf58c10"
      },
      "source": [
        "# sample_submissionの右側のカラムに予測値を代入する。\n",
        "sub.iloc[:, -1] = y_pred_lgb\n",
        "\n",
        "sub"
      ],
      "execution_count": null,
      "outputs": [
        {
          "output_type": "execute_result",
          "data": {
            "text/html": [
              "<div>\n",
              "<style scoped>\n",
              "    .dataframe tbody tr th:only-of-type {\n",
              "        vertical-align: middle;\n",
              "    }\n",
              "\n",
              "    .dataframe tbody tr th {\n",
              "        vertical-align: top;\n",
              "    }\n",
              "\n",
              "    .dataframe thead th {\n",
              "        text-align: right;\n",
              "    }\n",
              "</style>\n",
              "<table border=\"1\" class=\"dataframe\">\n",
              "  <thead>\n",
              "    <tr style=\"text-align: right;\">\n",
              "      <th></th>\n",
              "      <th>0</th>\n",
              "      <th>1</th>\n",
              "    </tr>\n",
              "  </thead>\n",
              "  <tbody>\n",
              "    <tr>\n",
              "      <th>0</th>\n",
              "      <td>0</td>\n",
              "      <td>0.042142</td>\n",
              "    </tr>\n",
              "    <tr>\n",
              "      <th>1</th>\n",
              "      <td>1</td>\n",
              "      <td>0.232674</td>\n",
              "    </tr>\n",
              "    <tr>\n",
              "      <th>2</th>\n",
              "      <td>2</td>\n",
              "      <td>1.801102</td>\n",
              "    </tr>\n",
              "    <tr>\n",
              "      <th>3</th>\n",
              "      <td>3</td>\n",
              "      <td>1.620232</td>\n",
              "    </tr>\n",
              "    <tr>\n",
              "      <th>4</th>\n",
              "      <td>4</td>\n",
              "      <td>3.824412</td>\n",
              "    </tr>\n",
              "    <tr>\n",
              "      <th>...</th>\n",
              "      <td>...</td>\n",
              "      <td>...</td>\n",
              "    </tr>\n",
              "    <tr>\n",
              "      <th>3055</th>\n",
              "      <td>3055</td>\n",
              "      <td>0.833681</td>\n",
              "    </tr>\n",
              "    <tr>\n",
              "      <th>3056</th>\n",
              "      <td>3056</td>\n",
              "      <td>-0.048235</td>\n",
              "    </tr>\n",
              "    <tr>\n",
              "      <th>3057</th>\n",
              "      <td>3057</td>\n",
              "      <td>-0.003752</td>\n",
              "    </tr>\n",
              "    <tr>\n",
              "      <th>3058</th>\n",
              "      <td>3058</td>\n",
              "      <td>-0.082594</td>\n",
              "    </tr>\n",
              "    <tr>\n",
              "      <th>3059</th>\n",
              "      <td>3059</td>\n",
              "      <td>-0.020232</td>\n",
              "    </tr>\n",
              "  </tbody>\n",
              "</table>\n",
              "<p>3060 rows × 2 columns</p>\n",
              "</div>"
            ],
            "text/plain": [
              "         0         1\n",
              "0        0  0.042142\n",
              "1        1  0.232674\n",
              "2        2  1.801102\n",
              "3        3  1.620232\n",
              "4        4  3.824412\n",
              "...    ...       ...\n",
              "3055  3055  0.833681\n",
              "3056  3056 -0.048235\n",
              "3057  3057 -0.003752\n",
              "3058  3058 -0.082594\n",
              "3059  3059 -0.020232\n",
              "\n",
              "[3060 rows x 2 columns]"
            ]
          },
          "metadata": {},
          "execution_count": 98
        }
      ]
    },
    {
      "cell_type": "code",
      "metadata": {
        "id": "eW_4INNddPMH"
      },
      "source": [
        "# 予測ファイルの生成\n",
        "sub.to_csv('my_submission_lgb.csv', index=False, header=False)"
      ],
      "execution_count": null,
      "outputs": []
    },
    {
      "cell_type": "code",
      "metadata": {
        "id": "15_YoBZ23KPm"
      },
      "source": [
        ""
      ],
      "execution_count": null,
      "outputs": []
    }
  ]
}
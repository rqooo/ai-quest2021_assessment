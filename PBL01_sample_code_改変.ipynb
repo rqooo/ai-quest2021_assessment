{
  "nbformat": 4,
  "nbformat_minor": 0,
  "metadata": {
    "kernelspec": {
      "display_name": "Python 3",
      "language": "python",
      "name": "python3"
    },
    "language_info": {
      "codemirror_mode": {
        "name": "ipython",
        "version": 3
      },
      "file_extension": ".py",
      "mimetype": "text/x-python",
      "name": "python",
      "nbconvert_exporter": "python",
      "pygments_lexer": "ipython3",
      "version": "3.6.4"
    },
    "colab": {
      "name": "PBL01_sample_code_改変.ipynb",
      "provenance": [],
      "collapsed_sections": [
        "gIozOPZvdPLy",
        "pQV0rIXRdPL0",
        "dmX7tMfadPMF"
      ],
      "include_colab_link": true
    }
  },
  "cells": [
    {
      "cell_type": "markdown",
      "metadata": {
        "id": "view-in-github",
        "colab_type": "text"
      },
      "source": [
        "<a href=\"https://colab.research.google.com/github/rtnaka/ai-quest2021_assessment/blob/main/PBL01_sample_code_%E6%94%B9%E5%A4%89.ipynb\" target=\"_parent\"><img src=\"https://colab.research.google.com/assets/colab-badge.svg\" alt=\"Open In Colab\"/></a>"
      ]
    },
    {
      "cell_type": "markdown",
      "metadata": {
        "id": "gIozOPZvdPLy"
      },
      "source": [
        "# import library"
      ]
    },
    {
      "cell_type": "code",
      "metadata": {
        "colab": {
          "base_uri": "https://localhost:8080/"
        },
        "id": "Y_nKTfNW7rqi",
        "outputId": "628445c8-89ce-46df-870d-a46a4bda3772"
      },
      "source": [
        "!pip install japanize-matplotlib\n",
        "!pip install category_encoders"
      ],
      "execution_count": 1,
      "outputs": [
        {
          "output_type": "stream",
          "name": "stdout",
          "text": [
            "Requirement already satisfied: japanize-matplotlib in /usr/local/lib/python3.7/dist-packages (1.1.3)\n",
            "Requirement already satisfied: matplotlib in /usr/local/lib/python3.7/dist-packages (from japanize-matplotlib) (3.2.2)\n",
            "Requirement already satisfied: kiwisolver>=1.0.1 in /usr/local/lib/python3.7/dist-packages (from matplotlib->japanize-matplotlib) (1.3.2)\n",
            "Requirement already satisfied: python-dateutil>=2.1 in /usr/local/lib/python3.7/dist-packages (from matplotlib->japanize-matplotlib) (2.8.2)\n",
            "Requirement already satisfied: pyparsing!=2.0.4,!=2.1.2,!=2.1.6,>=2.0.1 in /usr/local/lib/python3.7/dist-packages (from matplotlib->japanize-matplotlib) (2.4.7)\n",
            "Requirement already satisfied: cycler>=0.10 in /usr/local/lib/python3.7/dist-packages (from matplotlib->japanize-matplotlib) (0.10.0)\n",
            "Requirement already satisfied: numpy>=1.11 in /usr/local/lib/python3.7/dist-packages (from matplotlib->japanize-matplotlib) (1.19.5)\n",
            "Requirement already satisfied: six in /usr/local/lib/python3.7/dist-packages (from cycler>=0.10->matplotlib->japanize-matplotlib) (1.15.0)\n",
            "Requirement already satisfied: category_encoders in /usr/local/lib/python3.7/dist-packages (2.2.2)\n",
            "Requirement already satisfied: numpy>=1.14.0 in /usr/local/lib/python3.7/dist-packages (from category_encoders) (1.19.5)\n",
            "Requirement already satisfied: patsy>=0.5.1 in /usr/local/lib/python3.7/dist-packages (from category_encoders) (0.5.2)\n",
            "Requirement already satisfied: scikit-learn>=0.20.0 in /usr/local/lib/python3.7/dist-packages (from category_encoders) (0.22.2.post1)\n",
            "Requirement already satisfied: statsmodels>=0.9.0 in /usr/local/lib/python3.7/dist-packages (from category_encoders) (0.10.2)\n",
            "Requirement already satisfied: pandas>=0.21.1 in /usr/local/lib/python3.7/dist-packages (from category_encoders) (1.1.5)\n",
            "Requirement already satisfied: scipy>=1.0.0 in /usr/local/lib/python3.7/dist-packages (from category_encoders) (1.4.1)\n",
            "Requirement already satisfied: python-dateutil>=2.7.3 in /usr/local/lib/python3.7/dist-packages (from pandas>=0.21.1->category_encoders) (2.8.2)\n",
            "Requirement already satisfied: pytz>=2017.2 in /usr/local/lib/python3.7/dist-packages (from pandas>=0.21.1->category_encoders) (2018.9)\n",
            "Requirement already satisfied: six in /usr/local/lib/python3.7/dist-packages (from patsy>=0.5.1->category_encoders) (1.15.0)\n",
            "Requirement already satisfied: joblib>=0.11 in /usr/local/lib/python3.7/dist-packages (from scikit-learn>=0.20.0->category_encoders) (1.0.1)\n"
          ]
        }
      ]
    },
    {
      "cell_type": "code",
      "metadata": {
        "id": "l4Etw52VdPLz",
        "colab": {
          "base_uri": "https://localhost:8080/"
        },
        "outputId": "e73a6e3c-8178-4e5d-cd67-8e8817dea96c"
      },
      "source": [
        "from itertools import product\n",
        "from datetime import datetime\n",
        "\n",
        "import pandas as pd\n",
        "import numpy as np\n",
        "\n",
        "from matplotlib import pyplot as plt\n",
        "%matplotlib inline\n",
        "import seaborn as sns\n",
        "import japanize_matplotlib \n",
        "\n",
        "import category_encoders as ce\n",
        "\n",
        "from lightgbm import LGBMRegressor"
      ],
      "execution_count": 2,
      "outputs": [
        {
          "output_type": "stream",
          "name": "stderr",
          "text": [
            "/usr/local/lib/python3.7/dist-packages/statsmodels/tools/_testing.py:19: FutureWarning: pandas.util.testing is deprecated. Use the functions in the public API at pandas.testing instead.\n",
            "  import pandas.util.testing as tm\n"
          ]
        }
      ]
    },
    {
      "cell_type": "markdown",
      "metadata": {
        "id": "pQV0rIXRdPL0"
      },
      "source": [
        "# read data"
      ]
    },
    {
      "cell_type": "code",
      "metadata": {
        "id": "6tew28OfddIn",
        "colab": {
          "base_uri": "https://localhost:8080/"
        },
        "outputId": "3677c747-3a21-4951-c8fd-c660e10bbee1"
      },
      "source": [
        "# Google DriveをColabにマウント\n",
        "from google.colab import drive\n",
        "drive.mount('/content/drive')\n",
        "\n",
        "#　filepath\n",
        "basepath = '/content/drive/MyDrive/AI Quest2021/data/'"
      ],
      "execution_count": 3,
      "outputs": [
        {
          "output_type": "stream",
          "name": "stdout",
          "text": [
            "Drive already mounted at /content/drive; to attempt to forcibly remount, call drive.mount(\"/content/drive\", force_remount=True).\n"
          ]
        }
      ]
    },
    {
      "cell_type": "code",
      "metadata": {
        "id": "2l2AzwnXdPL0"
      },
      "source": [
        "sales = pd.read_csv(basepath+'sales_history.csv',parse_dates=[\"日付\"])\n",
        "cats = pd.read_csv(basepath+'item_categories.csv')\n",
        "cat_names = pd.read_csv(basepath+'category_names.csv')\n",
        "test = pd.read_csv(basepath+'test.csv',index_col=0)\n",
        "sub = pd.read_csv(basepath+'sample_submission.csv', header=None)"
      ],
      "execution_count": 4,
      "outputs": []
    },
    {
      "cell_type": "code",
      "metadata": {
        "id": "2gc2Qhs_ImDA"
      },
      "source": [
        "#最大表示行数指定\n",
        "pd.set_option('display.max_rows', 500)\n",
        "pd.set_option('display.max_columns', 200)"
      ],
      "execution_count": 5,
      "outputs": []
    },
    {
      "cell_type": "markdown",
      "metadata": {
        "id": "KtIU-vdcdPL4"
      },
      "source": [
        "# Preprocess"
      ]
    },
    {
      "cell_type": "markdown",
      "metadata": {
        "id": "YcsLPP0kdPL5"
      },
      "source": [
        "### merge table"
      ]
    },
    {
      "cell_type": "code",
      "metadata": {
        "colab": {
          "base_uri": "https://localhost:8080/",
          "height": 0
        },
        "id": "wNhv81HLgzJo",
        "outputId": "a7b8dcc4-77ad-4e6e-8830-860fa9a836bd"
      },
      "source": [
        "#category_names 　→　大カテゴリ/小カテゴリに分割\n",
        "split_catname = cat_names[\"商品カテゴリ名\"].str.split(\"-\",expand=True)\n",
        "cat_names = pd.concat([cat_names,split_catname],axis=1)\n",
        "cat_names.drop(\"商品カテゴリ名\",axis=1,inplace=True)\n",
        "cat_names.rename(columns={0: '商品大カテゴリ', 1: '商品小カテゴリ'},inplace=True)\n",
        "cat_names.head()"
      ],
      "execution_count": 6,
      "outputs": [
        {
          "output_type": "execute_result",
          "data": {
            "text/html": [
              "<div>\n",
              "<style scoped>\n",
              "    .dataframe tbody tr th:only-of-type {\n",
              "        vertical-align: middle;\n",
              "    }\n",
              "\n",
              "    .dataframe tbody tr th {\n",
              "        vertical-align: top;\n",
              "    }\n",
              "\n",
              "    .dataframe thead th {\n",
              "        text-align: right;\n",
              "    }\n",
              "</style>\n",
              "<table border=\"1\" class=\"dataframe\">\n",
              "  <thead>\n",
              "    <tr style=\"text-align: right;\">\n",
              "      <th></th>\n",
              "      <th>商品カテゴリID</th>\n",
              "      <th>商品大カテゴリ</th>\n",
              "      <th>商品小カテゴリ</th>\n",
              "    </tr>\n",
              "  </thead>\n",
              "  <tbody>\n",
              "    <tr>\n",
              "      <th>0</th>\n",
              "      <td>100</td>\n",
              "      <td>映画</td>\n",
              "      <td>DVD</td>\n",
              "    </tr>\n",
              "    <tr>\n",
              "      <th>1</th>\n",
              "      <td>110</td>\n",
              "      <td>PCゲーム</td>\n",
              "      <td>通常版</td>\n",
              "    </tr>\n",
              "    <tr>\n",
              "      <th>2</th>\n",
              "      <td>120</td>\n",
              "      <td>音楽</td>\n",
              "      <td>その他</td>\n",
              "    </tr>\n",
              "    <tr>\n",
              "      <th>3</th>\n",
              "      <td>130</td>\n",
              "      <td>ゲーム</td>\n",
              "      <td>ゲーム機C</td>\n",
              "    </tr>\n",
              "    <tr>\n",
              "      <th>4</th>\n",
              "      <td>140</td>\n",
              "      <td>映画</td>\n",
              "      <td>ブルーレイ</td>\n",
              "    </tr>\n",
              "  </tbody>\n",
              "</table>\n",
              "</div>"
            ],
            "text/plain": [
              "   商品カテゴリID 商品大カテゴリ 商品小カテゴリ\n",
              "0       100     映画      DVD\n",
              "1       110  PCゲーム      通常版\n",
              "2       120     音楽      その他\n",
              "3       130    ゲーム    ゲーム機C\n",
              "4       140     映画    ブルーレイ"
            ]
          },
          "metadata": {},
          "execution_count": 6
        }
      ]
    },
    {
      "cell_type": "code",
      "metadata": {
        "id": "WE9VwZw7dPL6",
        "colab": {
          "base_uri": "https://localhost:8080/",
          "height": 0
        },
        "outputId": "469507d6-4540-4c8f-f3ba-f39842bc6d94"
      },
      "source": [
        "#「sales_history.csv」、「item_category.csv」、「category_names.csv」の3つのテーブルを統合\n",
        "sales = pd.merge(sales, cats, on='商品ID', how='left')\n",
        "sales = pd.merge(sales, cat_names, on='商品カテゴリID', how='left')\n",
        "sales.head()"
      ],
      "execution_count": 7,
      "outputs": [
        {
          "output_type": "execute_result",
          "data": {
            "text/html": [
              "<div>\n",
              "<style scoped>\n",
              "    .dataframe tbody tr th:only-of-type {\n",
              "        vertical-align: middle;\n",
              "    }\n",
              "\n",
              "    .dataframe tbody tr th {\n",
              "        vertical-align: top;\n",
              "    }\n",
              "\n",
              "    .dataframe thead th {\n",
              "        text-align: right;\n",
              "    }\n",
              "</style>\n",
              "<table border=\"1\" class=\"dataframe\">\n",
              "  <thead>\n",
              "    <tr style=\"text-align: right;\">\n",
              "      <th></th>\n",
              "      <th>日付</th>\n",
              "      <th>店舗ID</th>\n",
              "      <th>商品ID</th>\n",
              "      <th>商品価格</th>\n",
              "      <th>売上個数</th>\n",
              "      <th>商品カテゴリID</th>\n",
              "      <th>商品大カテゴリ</th>\n",
              "      <th>商品小カテゴリ</th>\n",
              "    </tr>\n",
              "  </thead>\n",
              "  <tbody>\n",
              "    <tr>\n",
              "      <th>0</th>\n",
              "      <td>2018-01-01</td>\n",
              "      <td>9</td>\n",
              "      <td>1000001</td>\n",
              "      <td>420</td>\n",
              "      <td>1.0</td>\n",
              "      <td>100</td>\n",
              "      <td>映画</td>\n",
              "      <td>DVD</td>\n",
              "    </tr>\n",
              "    <tr>\n",
              "      <th>1</th>\n",
              "      <td>2018-01-01</td>\n",
              "      <td>6</td>\n",
              "      <td>1000001</td>\n",
              "      <td>420</td>\n",
              "      <td>1.0</td>\n",
              "      <td>100</td>\n",
              "      <td>映画</td>\n",
              "      <td>DVD</td>\n",
              "    </tr>\n",
              "    <tr>\n",
              "      <th>2</th>\n",
              "      <td>2018-01-01</td>\n",
              "      <td>10</td>\n",
              "      <td>1000001</td>\n",
              "      <td>420</td>\n",
              "      <td>1.0</td>\n",
              "      <td>100</td>\n",
              "      <td>映画</td>\n",
              "      <td>DVD</td>\n",
              "    </tr>\n",
              "    <tr>\n",
              "      <th>3</th>\n",
              "      <td>2018-01-01</td>\n",
              "      <td>0</td>\n",
              "      <td>1000017</td>\n",
              "      <td>250</td>\n",
              "      <td>1.0</td>\n",
              "      <td>100</td>\n",
              "      <td>映画</td>\n",
              "      <td>DVD</td>\n",
              "    </tr>\n",
              "    <tr>\n",
              "      <th>4</th>\n",
              "      <td>2018-01-01</td>\n",
              "      <td>1</td>\n",
              "      <td>1000017</td>\n",
              "      <td>250</td>\n",
              "      <td>1.0</td>\n",
              "      <td>100</td>\n",
              "      <td>映画</td>\n",
              "      <td>DVD</td>\n",
              "    </tr>\n",
              "  </tbody>\n",
              "</table>\n",
              "</div>"
            ],
            "text/plain": [
              "          日付  店舗ID     商品ID  商品価格  売上個数  商品カテゴリID 商品大カテゴリ 商品小カテゴリ\n",
              "0 2018-01-01     9  1000001   420   1.0       100     映画      DVD\n",
              "1 2018-01-01     6  1000001   420   1.0       100     映画      DVD\n",
              "2 2018-01-01    10  1000001   420   1.0       100     映画      DVD\n",
              "3 2018-01-01     0  1000017   250   1.0       100     映画      DVD\n",
              "4 2018-01-01     1  1000017   250   1.0       100     映画      DVD"
            ]
          },
          "metadata": {},
          "execution_count": 7
        }
      ]
    },
    {
      "cell_type": "markdown",
      "metadata": {
        "id": "JVCRCjw41_h-"
      },
      "source": [
        "### add columns"
      ]
    },
    {
      "cell_type": "code",
      "metadata": {
        "id": "lPuVW9gn6wbJ"
      },
      "source": [
        "# 日付列から年と月を抽出し、新たな列とする\n",
        "sales['年'] = sales['日付'].dt.year\n",
        "sales['月'] = sales['日付'].dt.month\n",
        "sales['四半期'] = sales['日付'].dt.quarter"
      ],
      "execution_count": 8,
      "outputs": []
    },
    {
      "cell_type": "code",
      "metadata": {
        "id": "tL--nFiAdPL8"
      },
      "source": [
        "# 「年」と「月」の全組み合わせを作成する\n",
        "gp_time = sales.groupby(['年','月','四半期']).count().reset_index()[['年', '月','四半期']]\n",
        "# カラム名「月ブロック」として、通し番号をつける\n",
        "gp_time['月ブロック'] = list(range(len(gp_time)))\n",
        "\n",
        "# 2019年12月(月ブロック: 23)のレコードを追加する\n",
        "gp_time = gp_time.append({\n",
        "    '月ブロック': 23,\n",
        "    '年': 2019,\n",
        "    '月': 12,\n",
        "    '四半期':4\n",
        "}, ignore_index=True)"
      ],
      "execution_count": 9,
      "outputs": []
    },
    {
      "cell_type": "code",
      "metadata": {
        "scrolled": true,
        "id": "x5yuEvH5dPL8"
      },
      "source": [
        "# 「月ブロック」カラムをsalesに統合する\n",
        "sales = pd.merge(sales, gp_time, on=['年', '月','四半期'], how='left')"
      ],
      "execution_count": 10,
      "outputs": []
    },
    {
      "cell_type": "code",
      "metadata": {
        "id": "r-YbJw_bQjRe"
      },
      "source": [
        "#売上金額を追加\n",
        "sales[\"売上金額\"] = sales.商品価格 * sales.売上個数"
      ],
      "execution_count": 11,
      "outputs": []
    },
    {
      "cell_type": "code",
      "metadata": {
        "id": "lovpB4-3-zK2"
      },
      "source": [
        "#商品価格をbiningし、価格帯として列作成\n",
        "price_bin = pd.DataFrame(pd.cut(sales.商品価格, [0, 300,500,750,1000,2000,3000,10000],labels=False))\n",
        "price_bin.columns = [\"価格帯\"]\n",
        "sales = pd.concat([sales,price_bin],axis=1)"
      ],
      "execution_count": 12,
      "outputs": []
    },
    {
      "cell_type": "markdown",
      "metadata": {
        "id": "ClmpmSFaqNcr"
      },
      "source": [
        "### extract "
      ]
    },
    {
      "cell_type": "code",
      "metadata": {
        "id": "JHRjLpR7TgXL"
      },
      "source": [
        "# #需要予測対象の170商品の抜き出し\n",
        "product_id = test[\"商品ID\"].unique()\n",
        "sales = sales[sales[\"商品ID\"].isin(product_id)]"
      ],
      "execution_count": 13,
      "outputs": []
    },
    {
      "cell_type": "markdown",
      "metadata": {
        "id": "gCWO-R0AvhsN"
      },
      "source": [
        "# EDA"
      ]
    },
    {
      "cell_type": "code",
      "metadata": {
        "colab": {
          "base_uri": "https://localhost:8080/"
        },
        "id": "oIRxMRtXxmm7",
        "outputId": "d183f2a7-1580-4fa7-c86e-242871970788"
      },
      "source": [
        "# 2018年に販売実績のある商品数\n",
        "items_2018 = sales[sales[\"日付\"] < datetime(2019, 1, 1)][\"商品ID\"].unique()\n",
        "# 2018年10月以前に販売実績のある商品数\n",
        "items_2018_before10 = sales[sales[\"日付\"] < datetime(2018, 9, 30)][\"商品ID\"].unique()\n",
        "# 2019年に販売実績のある商品数\n",
        "items_2019 = sales[sales[\"日付\"] > datetime(2018, 12, 31)][\"商品ID\"].unique()\n",
        "# 2019年4月以降に販売実績のある商品数\n",
        "items_2019_04 = sales[sales[\"日付\"] > datetime(2019, 3, 31)][\"商品ID\"].unique()\n",
        "# 2019年7月以降に販売実績のある商品数\n",
        "items_2019_07 = sales[sales[\"日付\"] > datetime(2019, 6, 30)][\"商品ID\"].unique()\n",
        "# 2019年10月以降に販売実績のある商品数\n",
        "items_2019_10 = sales[sales[\"日付\"] > datetime(2019, 9, 30)][\"商品ID\"].unique()\n",
        "#2018年１２月に販売実績のあった商品数\n",
        "items_201812 = sales[(sales[\"日付\"] > datetime(2018, 11, 30))&(sales[\"日付\"] < datetime(2019, 1, 1))][\"商品ID\"].unique()\n",
        "#2019年10月に販売実績のない商品ID\n",
        "items_201910_notSales =  np.setdiff1d(items_2019_07, items_2019_10)\n",
        "#2019年から販売開始された　or ２０１８年は実績がなかった商品\n",
        "items_2019only = np.setdiff1d(items_2019, items_2018)\n",
        "items_201810start = np.setdiff1d(items_2018, items_2018_before10)\n",
        "\n",
        "print(\"2018年販売実績あり：\",len(items_2018))\n",
        "print(\"2018年9月までに販売実績あり：\",len(items_2018_before10))\n",
        "print(\"2019年販売実績あり：\",len(items_2019))\n",
        "print(\"2019年4月以降販売実績あり：\",len(items_2019_04))\n",
        "print(\"2019年7月以降販売実績あり：\",len(items_2019_07))\n",
        "print(\"2019年10月以降販売実績あり：\",len(items_2019_10))\n",
        "print(\"2018年12月に販売実績あり：\",len(items_201812))\n",
        "print(\"2019年10月に販売実績のない商品ID\",items_201910_notSales)\n",
        "print(\"２０１８年販売実績無し\",items_2019only)\n",
        "print(\"２０１８年10月~12月で販売開始\",items_201810start)"
      ],
      "execution_count": 14,
      "outputs": [
        {
          "output_type": "stream",
          "name": "stdout",
          "text": [
            "2018年販売実績あり： 150\n",
            "2018年9月までに販売実績あり： 131\n",
            "2019年販売実績あり： 170\n",
            "2019年4月以降販売実績あり： 170\n",
            "2019年7月以降販売実績あり： 170\n",
            "2019年10月以降販売実績あり： 168\n",
            "2018年12月に販売実績あり： 150\n",
            "2019年10月に販売実績のない商品ID [1700013 3000001]\n",
            "２０１８年販売実績無し [1002291 1002377 1002503 1002582 1201262 1201269 1400898 1600052 1600054\n",
            " 1800179 2000162 2100152 2400088 2500229 2500230 2800090 2800101 2800103\n",
            " 2900075 3200026]\n",
            "２０１８年10月~12月で販売開始 [1000011 1100002 1200036 1200037 1200038 1200039 1200040 1500001 1700019\n",
            " 1800003 1800004 1900002 2200001 2300003 2300004 2400012 2400013 2400014\n",
            " 2500007]\n"
          ]
        }
      ]
    },
    {
      "cell_type": "code",
      "metadata": {
        "colab": {
          "base_uri": "https://localhost:8080/",
          "height": 0
        },
        "id": "5OV0UWJ82gba",
        "outputId": "0bf62bf9-ec52-4161-b235-a6c91c7ef574"
      },
      "source": [
        "pd.options.display.float_format = '{:.2f}'.format\n",
        "sales.describe(percentiles=[0.9,0.99,0.999,0.9999])"
      ],
      "execution_count": 15,
      "outputs": [
        {
          "output_type": "execute_result",
          "data": {
            "text/html": [
              "<div>\n",
              "<style scoped>\n",
              "    .dataframe tbody tr th:only-of-type {\n",
              "        vertical-align: middle;\n",
              "    }\n",
              "\n",
              "    .dataframe tbody tr th {\n",
              "        vertical-align: top;\n",
              "    }\n",
              "\n",
              "    .dataframe thead th {\n",
              "        text-align: right;\n",
              "    }\n",
              "</style>\n",
              "<table border=\"1\" class=\"dataframe\">\n",
              "  <thead>\n",
              "    <tr style=\"text-align: right;\">\n",
              "      <th></th>\n",
              "      <th>店舗ID</th>\n",
              "      <th>商品ID</th>\n",
              "      <th>商品価格</th>\n",
              "      <th>売上個数</th>\n",
              "      <th>商品カテゴリID</th>\n",
              "      <th>年</th>\n",
              "      <th>月</th>\n",
              "      <th>四半期</th>\n",
              "      <th>月ブロック</th>\n",
              "      <th>売上金額</th>\n",
              "      <th>価格帯</th>\n",
              "    </tr>\n",
              "  </thead>\n",
              "  <tbody>\n",
              "    <tr>\n",
              "      <th>count</th>\n",
              "      <td>48221.00</td>\n",
              "      <td>48221.00</td>\n",
              "      <td>48221.00</td>\n",
              "      <td>48221.00</td>\n",
              "      <td>48221.00</td>\n",
              "      <td>48221.00</td>\n",
              "      <td>48221.00</td>\n",
              "      <td>48221.00</td>\n",
              "      <td>48221.00</td>\n",
              "      <td>48221.00</td>\n",
              "      <td>48221.00</td>\n",
              "    </tr>\n",
              "    <tr>\n",
              "      <th>mean</th>\n",
              "      <td>8.07</td>\n",
              "      <td>1815224.63</td>\n",
              "      <td>1048.98</td>\n",
              "      <td>1.05</td>\n",
              "      <td>181.51</td>\n",
              "      <td>2018.51</td>\n",
              "      <td>6.28</td>\n",
              "      <td>2.43</td>\n",
              "      <td>11.35</td>\n",
              "      <td>1101.62</td>\n",
              "      <td>2.62</td>\n",
              "    </tr>\n",
              "    <tr>\n",
              "      <th>std</th>\n",
              "      <td>4.96</td>\n",
              "      <td>674604.62</td>\n",
              "      <td>958.35</td>\n",
              "      <td>0.38</td>\n",
              "      <td>67.47</td>\n",
              "      <td>0.50</td>\n",
              "      <td>3.45</td>\n",
              "      <td>1.12</td>\n",
              "      <td>6.09</td>\n",
              "      <td>1171.45</td>\n",
              "      <td>1.73</td>\n",
              "    </tr>\n",
              "    <tr>\n",
              "      <th>min</th>\n",
              "      <td>0.00</td>\n",
              "      <td>1000001.00</td>\n",
              "      <td>60.00</td>\n",
              "      <td>-2.00</td>\n",
              "      <td>100.00</td>\n",
              "      <td>2018.00</td>\n",
              "      <td>1.00</td>\n",
              "      <td>1.00</td>\n",
              "      <td>0.00</td>\n",
              "      <td>-3400.00</td>\n",
              "      <td>0.00</td>\n",
              "    </tr>\n",
              "    <tr>\n",
              "      <th>50%</th>\n",
              "      <td>8.00</td>\n",
              "      <td>1700001.00</td>\n",
              "      <td>590.00</td>\n",
              "      <td>1.00</td>\n",
              "      <td>170.00</td>\n",
              "      <td>2019.00</td>\n",
              "      <td>6.00</td>\n",
              "      <td>2.00</td>\n",
              "      <td>12.00</td>\n",
              "      <td>590.00</td>\n",
              "      <td>2.00</td>\n",
              "    </tr>\n",
              "    <tr>\n",
              "      <th>90%</th>\n",
              "      <td>15.00</td>\n",
              "      <td>2800001.00</td>\n",
              "      <td>2450.00</td>\n",
              "      <td>1.00</td>\n",
              "      <td>280.00</td>\n",
              "      <td>2019.00</td>\n",
              "      <td>11.00</td>\n",
              "      <td>4.00</td>\n",
              "      <td>19.00</td>\n",
              "      <td>2550.00</td>\n",
              "      <td>5.00</td>\n",
              "    </tr>\n",
              "    <tr>\n",
              "      <th>99%</th>\n",
              "      <td>17.00</td>\n",
              "      <td>3400003.00</td>\n",
              "      <td>5100.00</td>\n",
              "      <td>2.00</td>\n",
              "      <td>340.00</td>\n",
              "      <td>2019.00</td>\n",
              "      <td>12.00</td>\n",
              "      <td>4.00</td>\n",
              "      <td>21.00</td>\n",
              "      <td>5100.00</td>\n",
              "      <td>6.00</td>\n",
              "    </tr>\n",
              "    <tr>\n",
              "      <th>99.9%</th>\n",
              "      <td>17.00</td>\n",
              "      <td>3500001.00</td>\n",
              "      <td>6460.00</td>\n",
              "      <td>5.00</td>\n",
              "      <td>350.00</td>\n",
              "      <td>2019.00</td>\n",
              "      <td>12.00</td>\n",
              "      <td>4.00</td>\n",
              "      <td>21.00</td>\n",
              "      <td>10200.00</td>\n",
              "      <td>6.00</td>\n",
              "    </tr>\n",
              "    <tr>\n",
              "      <th>99.99%</th>\n",
              "      <td>17.00</td>\n",
              "      <td>3500001.00</td>\n",
              "      <td>6460.00</td>\n",
              "      <td>14.00</td>\n",
              "      <td>350.00</td>\n",
              "      <td>2019.00</td>\n",
              "      <td>12.00</td>\n",
              "      <td>4.00</td>\n",
              "      <td>21.00</td>\n",
              "      <td>17115.60</td>\n",
              "      <td>6.00</td>\n",
              "    </tr>\n",
              "    <tr>\n",
              "      <th>max</th>\n",
              "      <td>17.00</td>\n",
              "      <td>3500001.00</td>\n",
              "      <td>6460.00</td>\n",
              "      <td>24.00</td>\n",
              "      <td>350.00</td>\n",
              "      <td>2019.00</td>\n",
              "      <td>12.00</td>\n",
              "      <td>4.00</td>\n",
              "      <td>21.00</td>\n",
              "      <td>71400.00</td>\n",
              "      <td>6.00</td>\n",
              "    </tr>\n",
              "  </tbody>\n",
              "</table>\n",
              "</div>"
            ],
            "text/plain": [
              "           店舗ID       商品ID     商品価格     売上個数  商品カテゴリID        年        月  \\\n",
              "count  48221.00   48221.00 48221.00 48221.00  48221.00 48221.00 48221.00   \n",
              "mean       8.07 1815224.63  1048.98     1.05    181.51  2018.51     6.28   \n",
              "std        4.96  674604.62   958.35     0.38     67.47     0.50     3.45   \n",
              "min        0.00 1000001.00    60.00    -2.00    100.00  2018.00     1.00   \n",
              "50%        8.00 1700001.00   590.00     1.00    170.00  2019.00     6.00   \n",
              "90%       15.00 2800001.00  2450.00     1.00    280.00  2019.00    11.00   \n",
              "99%       17.00 3400003.00  5100.00     2.00    340.00  2019.00    12.00   \n",
              "99.9%     17.00 3500001.00  6460.00     5.00    350.00  2019.00    12.00   \n",
              "99.99%    17.00 3500001.00  6460.00    14.00    350.00  2019.00    12.00   \n",
              "max       17.00 3500001.00  6460.00    24.00    350.00  2019.00    12.00   \n",
              "\n",
              "            四半期    月ブロック     売上金額      価格帯  \n",
              "count  48221.00 48221.00 48221.00 48221.00  \n",
              "mean       2.43    11.35  1101.62     2.62  \n",
              "std        1.12     6.09  1171.45     1.73  \n",
              "min        1.00     0.00 -3400.00     0.00  \n",
              "50%        2.00    12.00   590.00     2.00  \n",
              "90%        4.00    19.00  2550.00     5.00  \n",
              "99%        4.00    21.00  5100.00     6.00  \n",
              "99.9%      4.00    21.00 10200.00     6.00  \n",
              "99.99%     4.00    21.00 17115.60     6.00  \n",
              "max        4.00    21.00 71400.00     6.00  "
            ]
          },
          "metadata": {},
          "execution_count": 15
        }
      ]
    },
    {
      "cell_type": "code",
      "metadata": {
        "colab": {
          "base_uri": "https://localhost:8080/",
          "height": 0
        },
        "id": "oT0MQy2r2x7o",
        "outputId": "a6486a86-7f4d-491f-8561-6387084fa499"
      },
      "source": [
        "plt.figure(figsize=(10,4))\n",
        "plt.xlim(sales.売上個数.min(), sales.売上個数.max()*1.1)\n",
        "flierprops = dict(marker='o', markerfacecolor='purple', markersize=6,\n",
        "                  linestyle='none', markeredgecolor='black')\n",
        "sns.boxplot(x=sales.売上個数, flierprops=flierprops)\n",
        "\n",
        "plt.figure(figsize=(10,4))\n",
        "plt.xlim(sales.価格帯.min(), sales.価格帯.max()*1.1)\n",
        "sns.boxplot(x=sales.価格帯, flierprops=flierprops)"
      ],
      "execution_count": 16,
      "outputs": [
        {
          "output_type": "execute_result",
          "data": {
            "text/plain": [
              "<matplotlib.axes._subplots.AxesSubplot at 0x7f57118c1fd0>"
            ]
          },
          "metadata": {},
          "execution_count": 16
        },
        {
          "output_type": "display_data",
          "data": {
            "image/png": "[encoded data removed]",
            "text/plain": [
              "<Figure size 720x288 with 1 Axes>"
            ]
          },
          "metadata": {
            "needs_background": "light"
          }
        },
        {
          "output_type": "display_data",
          "data": {
            "image/png": "[encoded data removed]",
            "text/plain": [
              "<Figure size 720x288 with 1 Axes>"
            ]
          },
          "metadata": {
            "needs_background": "light"
          }
        }
      ]
    },
    {
      "cell_type": "markdown",
      "metadata": {
        "id": "yZqffIijdPMB"
      },
      "source": [
        "# Create Dataset"
      ]
    },
    {
      "cell_type": "markdown",
      "metadata": {
        "id": "m8OsNiModPMB"
      },
      "source": [
        "### テーブル変換"
      ]
    },
    {
      "cell_type": "code",
      "metadata": {
        "id": "xbMZ7GMpiteh"
      },
      "source": [
        "def crate_monthly_table (df_sales):\n",
        "  gp_month = df_sales.groupby(['月ブロック', '商品ID', '店舗ID']).agg({'売上個数': np.sum}).reset_index()\n",
        "  yyyymm =  np.sort(df_sales.月ブロック.unique())\n",
        "  all_combination = []\n",
        "  columns = ['月ブロック', '商品ID', '店舗ID']\n",
        "\n",
        "  #商品ID×店舗IDの直積\n",
        "  for i in yyyymm:\n",
        "    all_combination.append(list(product([i], df_sales.商品ID.unique(), df_sales.店舗ID.unique())))\n",
        "  \n",
        "  all_combination = pd.DataFrame(np.vstack(np.array(all_combination)), columns=columns)\n",
        "  all_combination.sort_values(columns, inplace=True)\n",
        "\n",
        "  # all_combinationにsalesテーブルを統合\n",
        "  all_train = pd.merge(all_combination, gp_month, on=['月ブロック', '商品ID', '店舗ID'], how='left')\n",
        "\n",
        "  return all_train"
      ],
      "execution_count": 17,
      "outputs": []
    },
    {
      "cell_type": "markdown",
      "metadata": {
        "id": "_xno41OJdPMD"
      },
      "source": [
        "### train/testのデータ結合"
      ]
    },
    {
      "cell_type": "code",
      "metadata": {
        "id": "x8PQutIei69y"
      },
      "source": [
        "def merge_train_test (df_train,df_test):\n",
        "  df_test['月ブロック'] = 23\n",
        "  dataset = pd.concat([df_train, df_test])\n",
        "\n",
        "  return dataset"
      ],
      "execution_count": 18,
      "outputs": []
    },
    {
      "cell_type": "markdown",
      "metadata": {
        "id": "L9oL72KndPME"
      },
      "source": [
        "# Feature Engneering"
      ]
    },
    {
      "cell_type": "markdown",
      "metadata": {
        "id": "xvZ95dVPdPME"
      },
      "source": [
        "### 商品カテゴリ・時間情報の結合"
      ]
    },
    {
      "cell_type": "code",
      "metadata": {
        "id": "Pw2XXNXGjLS4"
      },
      "source": [
        "def merge_category_columns(dataset,cats,cat_names,gp_time): \n",
        "  dataset = pd.merge(dataset, cats, on='商品ID', how='left')\n",
        "  dataset = pd.merge(dataset, cat_names, on='商品カテゴリID', how='left')\n",
        "  dataset = pd.merge(dataset, gp_time, on='月ブロック', how='left')\n",
        "\n",
        "  return dataset"
      ],
      "execution_count": 19,
      "outputs": []
    },
    {
      "cell_type": "markdown",
      "metadata": {
        "id": "MyfM6BwalxsT"
      },
      "source": [
        "### 集約特徴量の作成"
      ]
    },
    {
      "cell_type": "code",
      "metadata": {
        "id": "9CdRJlq2UGau"
      },
      "source": [
        "def merge_agg_table(dataset,sales):\n",
        "  #売上個数がマイナス＝返品と捉え、商品ID毎の返品数のテーブルを作成\n",
        "  returns = pd.DataFrame(sales[sales.売上個数 < 0].商品カテゴリID.value_counts()).reset_index()\n",
        "  returns.columns = [\"商品カテゴリID\",\"返品回数\"]\n",
        "\n",
        "  #売上レコードが始めて現れた月　売上レコードなしの組み合わせは-1\n",
        "  sales_start_month = sales.groupby([\"店舗ID\",\"商品ID\"])[\"月ブロック\"].agg(販売開始月ブロック = \"min\").unstack(fill_value=-1).stack()\n",
        "  sales_start_month = pd.DataFrame(sales_start_month).reset_index()\n",
        "\n",
        "  #売上レコードが始めて現れた月　商品毎\n",
        "  sales_start_month_p = sales.groupby([\"商品ID\"])[\"月ブロック\"].agg(販売開始月ブロック_pid = \"min\").reset_index()\n",
        "  sales_start_month_p.head()\n",
        "\n",
        "  #商品ID毎に定価（価格の最大値、セール価格（min)、平均と中央を算出\n",
        "  #pid = product ID\n",
        "  agg_productID_price = sales.groupby(['商品ID'])[\"商品価格\"].agg(定価_pid=\"max\",セール価格_pid=\"min\",平均価格_pid=\"mean\",中央値価格_pid=\"median\").reset_index()\n",
        "  price_bin = pd.DataFrame(pd.cut(agg_productID_price.定価_pid, [0, 300,500,750,1000,2000,3000,10000],labels=False))\n",
        "  price_bin.columns = [\"価格帯\"]\n",
        "  agg_productID_price = pd.concat([agg_productID_price,price_bin],axis=1)\n",
        "\n",
        "  #商品カテゴリID毎に定価（価格の最大値、セール価格（min)、平均と中央を算出\n",
        "  #cid = categoryID\n",
        "  agg_catID_price = sales.groupby(['商品カテゴリID'])[\"商品価格\"].agg(最大価格_cid=\"max\",最小価格_cid=\"min\",平均価格_cid=\"mean\",中央値価格_cid=\"median\").reset_index()\n",
        "\n",
        "  #商品大カテゴリID毎に定価（価格の最大値、セール価格（min)、平均と中央を算出\n",
        "  # lc = Large Category\n",
        "  agg_LargeCat_price = sales.groupby(['商品大カテゴリ'])[\"商品価格\"].agg(最大価格_lc=\"max\",最小価格_lc=\"min\",平均価格_lc=\"mean\",中央値価格_lc=\"median\").reset_index()\n",
        "\n",
        "\n",
        "  dataset = pd.merge(dataset, returns, on='商品カテゴリID', how='left')\n",
        "  dataset[\"返品回数\"].fillna(0,inplace=True)\n",
        "\n",
        "  dataset = pd.merge(dataset, sales_start_month, on=[\"店舗ID\",\"商品ID\"], how='left')\n",
        "  dataset = pd.merge(dataset, sales_start_month_p, on='商品ID', how='left')\n",
        "  dataset = pd.merge(dataset, agg_productID_price, on='商品ID', how='left')\n",
        "  dataset = pd.merge(dataset, agg_catID_price, on='商品カテゴリID', how='left')\n",
        "  dataset = pd.merge(dataset, agg_LargeCat_price, on='商品大カテゴリ', how='left')\n",
        "\n",
        "  return dataset"
      ],
      "execution_count": 20,
      "outputs": []
    },
    {
      "cell_type": "markdown",
      "metadata": {
        "id": "q706ObvL2MSM"
      },
      "source": [
        "### 特徴量追加"
      ]
    },
    {
      "cell_type": "code",
      "metadata": {
        "id": "zYmPCLoQ7y1P"
      },
      "source": [
        "def add_columns(dataset):\n",
        "  #月ごとの日数列を作成\n",
        "  days_of_month = pd.DataFrame({'月': range(1,13),'日数': [31,28,31,30,31,30,31,31,30,31,30,31]})\n",
        "  dataset = pd.merge(dataset, days_of_month, on='月', how='left')\n",
        "\n",
        "  #商品が店舗で販売開始されてからの経過月数列を作成\n",
        "  dataset[\"販売開始経過月ブロック_pid\"] = (dataset[\"月ブロック\"] - dataset[\"販売開始月ブロック_pid\"]).astype(\"int8\")\n",
        "  dataset[\"販売開始経過月ブロック\"] = (dataset[\"月ブロック\"] - dataset[\"販売開始月ブロック\"]).astype(\"int8\")\n",
        "\n",
        "  #特定キーワードを含むか判定する列を作成\n",
        "  col = \"商品小カテゴリ\"\n",
        "  new_col = \"ゲーム\"\n",
        "  dataset[new_col] = dataset[col].str.contains(new_col).astype(\"int8\")\n",
        "\n",
        "  new_col = \"記念品\"\n",
        "  dataset[new_col] = dataset[col].str.contains(new_col).astype(\"int8\")\n",
        "\n",
        "  #割引率を表す列を作成\n",
        "  dataset[\"割引率\"] = (dataset[\"セール価格_pid\"]/dataset[\"定価_pid\"]).astype(\"float64\")\n",
        "  dataset[\"割引額\"] = (dataset[\"定価_pid\"] - dataset[\"セール価格_pid\"]).astype(\"int32\")\n",
        "\n",
        "  #\n",
        "  dataset[\"大カテゴリ-価格帯\"] = dataset[\"商品大カテゴリ\"] +dataset[\"価格帯\"].astype(str)\n",
        "\n",
        "  return dataset\n"
      ],
      "execution_count": 21,
      "outputs": []
    },
    {
      "cell_type": "markdown",
      "metadata": {
        "id": "hJrMG4hIeM4J"
      },
      "source": [
        "### 型変換"
      ]
    },
    {
      "cell_type": "code",
      "metadata": {
        "id": "fu5PeygDe4ZG"
      },
      "source": [
        "def translate_dataType(dataset):\n",
        "  cols_int8 = [\"月ブロック\",\"店舗ID\",\"月\",\"四半期\",\"返品回数\",\"販売開始月ブロック\",\"販売開始月ブロック_pid\",\"価格帯\",\"日数\"]\n",
        "  dataset[cols_int8] = dataset[cols_int8].astype(\"int8\")\n",
        "\n",
        "  cols_int32 = [\"定価_pid\",\"セール価格_pid\",\"中央値価格_pid\",\"最大価格_cid\",\"最小価格_cid\",\"中央値価格_cid\",\"最大価格_lc\",\"最小価格_lc\",\"中央値価格_lc\"]\n",
        "  dataset[cols_int32] = dataset[cols_int32].astype(\"int32\")\n",
        "\n",
        "  return dataset"
      ],
      "execution_count": 22,
      "outputs": []
    },
    {
      "cell_type": "markdown",
      "metadata": {
        "id": "GqhwR9R5dPME"
      },
      "source": [
        "### ラグ特徴量の作成"
      ]
    },
    {
      "cell_type": "code",
      "metadata": {
        "id": "hkhl72o2jOov"
      },
      "source": [
        "def create_lag_feature(df_sales,dataset,agg_name,agg_cols):\n",
        "  gp_month_count = df_sales.groupby(agg_cols).agg({'売上個数': \"count\"}).reset_index()\n",
        "  gp_month_sum = df_sales.groupby(agg_cols).agg({'売上個数': np.sum}).reset_index()\n",
        "  gp_month_max = df_sales.groupby(agg_cols).agg({'売上個数': np.max}).reset_index()\n",
        "\n",
        "  gp_month_list = [gp_month_count,gp_month_sum,gp_month_max]\n",
        "  gp_month_names = [\"count\",\"sum\",\"max\"]\n",
        "\n",
        "\n",
        "  for gp_month,gp_month_name in zip(gp_month_list,gp_month_names):\n",
        "    for i in [2,12]:\n",
        "      lag = gp_month.copy()   \n",
        "      lag['月ブロック'] = lag['月ブロック'] + i\n",
        "\n",
        "      change_col_name = str(i)+'m_('+agg_name+')売上数_'+gp_month_name\n",
        "      lag = lag.rename(columns={'売上個数': change_col_name})\n",
        "\n",
        "      dataset = pd.merge(dataset, lag, on= agg_cols, how='left', left_index=True)\n",
        "      dataset[change_col_name].fillna(0,inplace=True)\n",
        "  return dataset"
      ],
      "execution_count": 23,
      "outputs": []
    },
    {
      "cell_type": "markdown",
      "metadata": {
        "id": "TpkHqZ4aOBOt"
      },
      "source": [
        "### 移動統計量の作成"
      ]
    },
    {
      "cell_type": "code",
      "metadata": {
        "id": "TGXWOH5uBx32"
      },
      "source": [
        "def create_rolling_feature(dataset,cols_target,col_name_prefix): \n",
        "\n",
        "  cols_list = [cols_target]\n",
        "  agg_num = [\"12-14\"]\n",
        "  \n",
        "\n",
        "  for num,cols in zip(agg_num,cols_list): \n",
        "    col_name = '売上個数({})_agg{}m_sum'.format( col_name_prefix, num )\n",
        "    dataset[col_name] = dataset[cols].sum(axis=1)\n",
        "\n",
        "    col_name = '売上個数({})_agg{}m_max'.format( col_name_prefix, num )\n",
        "    dataset[col_name] = dataset[cols].max(axis=1)\n",
        "\n",
        "    col_name = '売上個数({})_agg{}m_mean'.format(col_name_prefix,  num )\n",
        "    dataset[col_name] = dataset[cols].mean(axis=1)\n",
        "\n",
        "  return dataset"
      ],
      "execution_count": 24,
      "outputs": []
    },
    {
      "cell_type": "markdown",
      "metadata": {
        "id": "dmX7tMfadPMF"
      },
      "source": [
        "### エンコーディング"
      ]
    },
    {
      "cell_type": "code",
      "metadata": {
        "id": "I9KgAavgH4vF"
      },
      "source": [
        "def encording (dataset):\n",
        "\n",
        "  month= dataset.groupby(\"月ブロック\").agg({\"売上個数\":np.sum}).reset_index()\n",
        "  month[\"月ブロック\"] = month[\"月ブロック\"]+1\n",
        "  month.rename(columns={\"月ブロック\":\"月\",\"売上個数\":\"月_変換\"},inplace=True)\n",
        "  dataset = pd.merge(dataset, month, on=\"月\", how='left')\n",
        "  dataset.drop(\"月\",axis=1,inplace=True)\n",
        "\n",
        "\n",
        "  col = \"商品ID\"\n",
        "  df = dataset.copy()\n",
        "  df[\"売上金額\"] = df[\"売上個数\"] * df[\"平均価格_pid\"]\n",
        "  df_agg = df.groupby(col).agg({\"売上金額\":np.sum}).reset_index()\n",
        "  df_agg.rename(columns={'売上金額': \"変換\"+col},inplace=True)\n",
        "  df_agg.nunique()\n",
        "\n",
        "  dataset = pd.merge(dataset, df_agg, on=col, how='left')\n",
        "  dataset.drop(col,axis=1,inplace=True)\n",
        "\n",
        "  cols = [\"店舗ID\",\"商品カテゴリID\",\"商品大カテゴリ\",\"商品小カテゴリ\",\"大カテゴリ-価格帯\"]\n",
        "  for col in cols:\n",
        "    target = \"売上個数\"\n",
        "\n",
        "    df_agg = dataset.groupby(col).agg({target:np.sum}).reset_index()\n",
        "    df_agg.rename(columns={target: \"変換\"+col},inplace=True)\n",
        "\n",
        "    dataset = pd.merge(dataset, df_agg, on=col, how='left')\n",
        "    dataset.drop(col,axis=1,inplace=True)\n",
        "\n",
        "  \n",
        "\n",
        "  return dataset"
      ],
      "execution_count": 25,
      "outputs": []
    },
    {
      "cell_type": "markdown",
      "metadata": {
        "id": "veVL1pkOdPMG"
      },
      "source": [
        "# Modeling"
      ]
    },
    {
      "cell_type": "markdown",
      "metadata": {
        "id": "P6KOtg8CGMkK"
      },
      "source": [
        "### 検定無し"
      ]
    },
    {
      "cell_type": "code",
      "metadata": {
        "id": "qZKfKRY-hn9Y"
      },
      "source": [
        "def train_test_split(dataset):\n",
        "  train_dataset = dataset[(dataset['月ブロック'] >= 12) & (dataset['月ブロック'] < 22)]\n",
        "  test_dataset = dataset[dataset['月ブロック'] == 23]\n",
        "\n",
        "  # train_dataset = train_dataset.drop(\"月ブロック\",axis=1)\n",
        "  # test_dataset = test_dataset.drop(\"月ブロック\",axis=1)\n",
        "\n",
        "  X_train = train_dataset.drop('売上個数', axis=1)\n",
        "  y_train = train_dataset['売上個数']\n",
        "  X_test = test_dataset.drop(['売上個数'], axis=1)\n",
        "\n",
        "  return X_train,y_train,X_test"
      ],
      "execution_count": 26,
      "outputs": []
    },
    {
      "cell_type": "code",
      "metadata": {
        "id": "Am0F887Shh61"
      },
      "source": [
        "def modeling(X_train,y_train,X_test,seed):\n",
        "  clf = LGBMRegressor(boosting_type='gbdt', class_weight=None, colsample_bytree=0.7,\n",
        "                                importance_type='split', learning_rate=0.05, max_depth=-1,\n",
        "                                min_child_samples=10, min_child_weight=0.001, min_split_gain=0.0,\n",
        "                                n_estimators=9999, n_jobs=-1, num_leaves=31, objective='regression',\n",
        "                                random_state=seed, reg_alpha=0.0, reg_lambda=0.0, silent=True,\n",
        "                                subsample=1.0, subsample_for_bin=200000, subsample_freq=0,)\n",
        "  clf.fit(X_train, y_train,)\n",
        "\n",
        "  feature_importance = pd.DataFrame(\n",
        "                                    clf.booster_.feature_importance(importance_type='gain'), \n",
        "                                    index = X_train.columns, columns=['importance']).sort_values(['importance'], \n",
        "                                    ascending=False\n",
        "                                    )\n",
        "\n",
        "  y_pred = clf.predict(X_test)\n",
        "\n",
        "  return y_pred,feature_importance"
      ],
      "execution_count": 27,
      "outputs": []
    },
    {
      "cell_type": "markdown",
      "metadata": {
        "id": "6TtVYzGeoPuj"
      },
      "source": [
        "# 関数実行"
      ]
    },
    {
      "cell_type": "code",
      "metadata": {
        "id": "nj6FPsuBrVY7"
      },
      "source": [
        "train = crate_monthly_table(sales)\n",
        "dataset = merge_train_test (train,test)\n",
        "dataset = merge_category_columns(dataset,cats,cat_names,gp_time)\n",
        "dataset = merge_agg_table(dataset,sales)\n",
        "\n",
        "#未販売に該当する行の削除、その他売上個数列のNaNを0埋め\n",
        "dataset[\"未販売\"] = (dataset[\"月ブロック\"] <  dataset[\"販売開始月ブロック_pid\"]).astype(int)\n",
        "dataset = dataset.loc[dataset.未販売 == 0,]\n",
        "dataset[\"売上個数\"].fillna(0,inplace=True)\n",
        "dataset.drop(\"未販売\",axis=1,inplace=True)\n",
        "\n",
        "#特徴量追加\n",
        "dataset = add_columns(dataset)\n",
        "\n",
        "#データ型変換\n",
        "dataset.drop(\"年\",axis=1,inplace=True)\n",
        "dataset = translate_dataType(dataset)\n",
        "\n",
        "#lag特徴量追加\n",
        "agg_names = [\"個別\",\"商品別\"]\n",
        "agg_cols_list = [['月ブロック', '商品ID','店舗ID'],['月ブロック', '商品ID']]\n",
        "\n",
        "for agg_name,agg_cols in zip(agg_names,agg_cols_list):\n",
        "  dataset = create_lag_feature(sales,dataset,agg_name,agg_cols)\n",
        "\n",
        "#移動統計量追加\n",
        "# cols = list(dataset.columns)\n",
        "# cols_combi = [col for col in cols if '(個別)売上数_sum' in col]\n",
        "# cols_product = [col for col in cols if '(商品別)売上数_sum' in col]\n",
        "# cols_catID = [col for col in cols if '(カテゴリID別)売上数_sum' in col]\n",
        "# cols_catL = [col for col in cols if '(大カテゴリ別)売上数_sum' in col]\n",
        "# cols_priceBin = [col for col in cols if '(価格帯別)売上数_sum' in col]\n",
        "\n",
        "# cols_target_list = [cols_combi,cols_product,cols_catID,cols_catL,cols_priceBin]\n",
        "# col_name_prefix_list = [\"個別\",\"商品別\",\"カテゴリID別\",\"大カテゴリ別\",\"価格帯別\"]\n",
        "\n",
        "# for cols_target ,col_name_prefix in zip(cols_target_list,col_name_prefix_list):\n",
        "#   dataset = create_rolling_feature(dataset , cols_target, col_name_prefix)\n",
        "\n",
        "#エンコーディング\n",
        "dataset = encording(dataset)\n",
        "\n",
        "#モデリング\n",
        "seeds = [71,99,200]\n",
        "y_pred = np.zeros(len(test))\n",
        "\n",
        "for seed in seeds:\n",
        "  X_train,y_train,X_test = train_test_split(dataset)\n",
        "  y_pred_seed,feature_importance = modeling(X_train,y_train,X_test,seed)\n",
        "\n",
        "  # figure = plt.figure(figsize=(10, 50))\n",
        "  # sns.set(font=\"IPAexGothic\")\n",
        "  # sns.barplot(x=\"importance\", y=feature_importance.index, data=feature_importance)\n",
        "\n",
        "  y_pred += y_pred_seed\n",
        "\n",
        "y_pred = y_pred/len(seeds)\n",
        "test['y'] = y_pred\n",
        "test.loc[test['y'] < 0 ,'y'] = 0\n",
        "  "
      ],
      "execution_count": 28,
      "outputs": []
    },
    {
      "cell_type": "code",
      "metadata": {
        "colab": {
          "base_uri": "https://localhost:8080/",
          "height": 235
        },
        "id": "1nO7mtqy0vFk",
        "outputId": "2b058530-c007-44fc-a4e8-f6544c0c88f1"
      },
      "source": [
        "test.head()"
      ],
      "execution_count": 29,
      "outputs": [
        {
          "output_type": "execute_result",
          "data": {
            "text/html": [
              "<div>\n",
              "<style scoped>\n",
              "    .dataframe tbody tr th:only-of-type {\n",
              "        vertical-align: middle;\n",
              "    }\n",
              "\n",
              "    .dataframe tbody tr th {\n",
              "        vertical-align: top;\n",
              "    }\n",
              "\n",
              "    .dataframe thead th {\n",
              "        text-align: right;\n",
              "    }\n",
              "</style>\n",
              "<table border=\"1\" class=\"dataframe\">\n",
              "  <thead>\n",
              "    <tr style=\"text-align: right;\">\n",
              "      <th></th>\n",
              "      <th>商品ID</th>\n",
              "      <th>店舗ID</th>\n",
              "      <th>月ブロック</th>\n",
              "      <th>y</th>\n",
              "    </tr>\n",
              "    <tr>\n",
              "      <th>index</th>\n",
              "      <th></th>\n",
              "      <th></th>\n",
              "      <th></th>\n",
              "      <th></th>\n",
              "    </tr>\n",
              "  </thead>\n",
              "  <tbody>\n",
              "    <tr>\n",
              "      <th>0</th>\n",
              "      <td>1000001</td>\n",
              "      <td>0</td>\n",
              "      <td>23</td>\n",
              "      <td>0.09</td>\n",
              "    </tr>\n",
              "    <tr>\n",
              "      <th>1</th>\n",
              "      <td>1000001</td>\n",
              "      <td>1</td>\n",
              "      <td>23</td>\n",
              "      <td>0.40</td>\n",
              "    </tr>\n",
              "    <tr>\n",
              "      <th>2</th>\n",
              "      <td>1000001</td>\n",
              "      <td>2</td>\n",
              "      <td>23</td>\n",
              "      <td>2.00</td>\n",
              "    </tr>\n",
              "    <tr>\n",
              "      <th>3</th>\n",
              "      <td>1000001</td>\n",
              "      <td>3</td>\n",
              "      <td>23</td>\n",
              "      <td>3.27</td>\n",
              "    </tr>\n",
              "    <tr>\n",
              "      <th>4</th>\n",
              "      <td>1000001</td>\n",
              "      <td>4</td>\n",
              "      <td>23</td>\n",
              "      <td>9.16</td>\n",
              "    </tr>\n",
              "  </tbody>\n",
              "</table>\n",
              "</div>"
            ],
            "text/plain": [
              "          商品ID  店舗ID  月ブロック    y\n",
              "index                           \n",
              "0      1000001     0     23 0.09\n",
              "1      1000001     1     23 0.40\n",
              "2      1000001     2     23 2.00\n",
              "3      1000001     3     23 3.27\n",
              "4      1000001     4     23 9.16"
            ]
          },
          "metadata": {},
          "execution_count": 29
        }
      ]
    },
    {
      "cell_type": "code",
      "metadata": {
        "colab": {
          "base_uri": "https://localhost:8080/",
          "height": 297
        },
        "id": "PgB9qXgzmikm",
        "outputId": "a1e89a00-454b-460d-88a4-1f27d339bf95"
      },
      "source": [
        "test.describe()"
      ],
      "execution_count": 30,
      "outputs": [
        {
          "output_type": "execute_result",
          "data": {
            "text/html": [
              "<div>\n",
              "<style scoped>\n",
              "    .dataframe tbody tr th:only-of-type {\n",
              "        vertical-align: middle;\n",
              "    }\n",
              "\n",
              "    .dataframe tbody tr th {\n",
              "        vertical-align: top;\n",
              "    }\n",
              "\n",
              "    .dataframe thead th {\n",
              "        text-align: right;\n",
              "    }\n",
              "</style>\n",
              "<table border=\"1\" class=\"dataframe\">\n",
              "  <thead>\n",
              "    <tr style=\"text-align: right;\">\n",
              "      <th></th>\n",
              "      <th>商品ID</th>\n",
              "      <th>店舗ID</th>\n",
              "      <th>月ブロック</th>\n",
              "      <th>y</th>\n",
              "    </tr>\n",
              "  </thead>\n",
              "  <tbody>\n",
              "    <tr>\n",
              "      <th>count</th>\n",
              "      <td>3060.00</td>\n",
              "      <td>3060.00</td>\n",
              "      <td>3060.00</td>\n",
              "      <td>3060.00</td>\n",
              "    </tr>\n",
              "    <tr>\n",
              "      <th>mean</th>\n",
              "      <td>1868329.94</td>\n",
              "      <td>8.50</td>\n",
              "      <td>23.00</td>\n",
              "      <td>1.29</td>\n",
              "    </tr>\n",
              "    <tr>\n",
              "      <th>std</th>\n",
              "      <td>684766.56</td>\n",
              "      <td>5.19</td>\n",
              "      <td>0.00</td>\n",
              "      <td>3.18</td>\n",
              "    </tr>\n",
              "    <tr>\n",
              "      <th>min</th>\n",
              "      <td>1000001.00</td>\n",
              "      <td>0.00</td>\n",
              "      <td>23.00</td>\n",
              "      <td>0.00</td>\n",
              "    </tr>\n",
              "    <tr>\n",
              "      <th>25%</th>\n",
              "      <td>1200026.00</td>\n",
              "      <td>4.00</td>\n",
              "      <td>23.00</td>\n",
              "      <td>0.27</td>\n",
              "    </tr>\n",
              "    <tr>\n",
              "      <th>50%</th>\n",
              "      <td>1700013.50</td>\n",
              "      <td>8.50</td>\n",
              "      <td>23.00</td>\n",
              "      <td>0.66</td>\n",
              "    </tr>\n",
              "    <tr>\n",
              "      <th>75%</th>\n",
              "      <td>2400088.00</td>\n",
              "      <td>13.00</td>\n",
              "      <td>23.00</td>\n",
              "      <td>1.28</td>\n",
              "    </tr>\n",
              "    <tr>\n",
              "      <th>max</th>\n",
              "      <td>3500001.00</td>\n",
              "      <td>17.00</td>\n",
              "      <td>23.00</td>\n",
              "      <td>56.36</td>\n",
              "    </tr>\n",
              "  </tbody>\n",
              "</table>\n",
              "</div>"
            ],
            "text/plain": [
              "            商品ID    店舗ID   月ブロック       y\n",
              "count    3060.00 3060.00 3060.00 3060.00\n",
              "mean  1868329.94    8.50   23.00    1.29\n",
              "std    684766.56    5.19    0.00    3.18\n",
              "min   1000001.00    0.00   23.00    0.00\n",
              "25%   1200026.00    4.00   23.00    0.27\n",
              "50%   1700013.50    8.50   23.00    0.66\n",
              "75%   2400088.00   13.00   23.00    1.28\n",
              "max   3500001.00   17.00   23.00   56.36"
            ]
          },
          "metadata": {},
          "execution_count": 30
        }
      ]
    },
    {
      "cell_type": "code",
      "metadata": {
        "colab": {
          "base_uri": "https://localhost:8080/",
          "height": 1000
        },
        "id": "9Jqko_1QrO9m",
        "outputId": "78cccdc2-1096-4c08-a91f-c06be1676f13"
      },
      "source": [
        "figure = plt.figure(figsize=(10, 80))\n",
        "sns.set(font=\"IPAexGothic\")\n",
        "sns.barplot(x=\"importance\", y=feature_importance.index, data=feature_importance)"
      ],
      "execution_count": 31,
      "outputs": [
        {
          "output_type": "execute_result",
          "data": {
            "text/plain": [
              "<matplotlib.axes._subplots.AxesSubplot at 0x7f5710dcf750>"
            ]
          },
          "metadata": {},
          "execution_count": 31
        },
        {
          "output_type": "display_data",
          "data": {
            "image/png": "[encoded data removed]",
            "text/plain": [
              "<Figure size 720x5760 with 1 Axes>"
            ]
          },
          "metadata": {
            "needs_background": "light"
          }
        }
      ]
    },
    {
      "cell_type": "markdown",
      "metadata": {
        "id": "KrXhqvfxuo-a"
      },
      "source": [
        "# Submission"
      ]
    },
    {
      "cell_type": "code",
      "metadata": {
        "id": "VAEwdE_edPMH",
        "colab": {
          "base_uri": "https://localhost:8080/",
          "height": 419
        },
        "outputId": "6a52037a-6354-4402-f965-35dafef82ead"
      },
      "source": [
        "# sample_submissionの右側のカラムに予測値を代入する。\n",
        "sub.iloc[:, -1] = test['y']\n",
        "sub"
      ],
      "execution_count": 32,
      "outputs": [
        {
          "output_type": "execute_result",
          "data": {
            "text/html": [
              "<div>\n",
              "<style scoped>\n",
              "    .dataframe tbody tr th:only-of-type {\n",
              "        vertical-align: middle;\n",
              "    }\n",
              "\n",
              "    .dataframe tbody tr th {\n",
              "        vertical-align: top;\n",
              "    }\n",
              "\n",
              "    .dataframe thead th {\n",
              "        text-align: right;\n",
              "    }\n",
              "</style>\n",
              "<table border=\"1\" class=\"dataframe\">\n",
              "  <thead>\n",
              "    <tr style=\"text-align: right;\">\n",
              "      <th></th>\n",
              "      <th>0</th>\n",
              "      <th>1</th>\n",
              "    </tr>\n",
              "  </thead>\n",
              "  <tbody>\n",
              "    <tr>\n",
              "      <th>0</th>\n",
              "      <td>0</td>\n",
              "      <td>0.09</td>\n",
              "    </tr>\n",
              "    <tr>\n",
              "      <th>1</th>\n",
              "      <td>1</td>\n",
              "      <td>0.40</td>\n",
              "    </tr>\n",
              "    <tr>\n",
              "      <th>2</th>\n",
              "      <td>2</td>\n",
              "      <td>2.00</td>\n",
              "    </tr>\n",
              "    <tr>\n",
              "      <th>3</th>\n",
              "      <td>3</td>\n",
              "      <td>3.27</td>\n",
              "    </tr>\n",
              "    <tr>\n",
              "      <th>4</th>\n",
              "      <td>4</td>\n",
              "      <td>9.16</td>\n",
              "    </tr>\n",
              "    <tr>\n",
              "      <th>...</th>\n",
              "      <td>...</td>\n",
              "      <td>...</td>\n",
              "    </tr>\n",
              "    <tr>\n",
              "      <th>3055</th>\n",
              "      <td>3055</td>\n",
              "      <td>1.94</td>\n",
              "    </tr>\n",
              "    <tr>\n",
              "      <th>3056</th>\n",
              "      <td>3056</td>\n",
              "      <td>0.05</td>\n",
              "    </tr>\n",
              "    <tr>\n",
              "      <th>3057</th>\n",
              "      <td>3057</td>\n",
              "      <td>0.00</td>\n",
              "    </tr>\n",
              "    <tr>\n",
              "      <th>3058</th>\n",
              "      <td>3058</td>\n",
              "      <td>0.11</td>\n",
              "    </tr>\n",
              "    <tr>\n",
              "      <th>3059</th>\n",
              "      <td>3059</td>\n",
              "      <td>0.00</td>\n",
              "    </tr>\n",
              "  </tbody>\n",
              "</table>\n",
              "<p>3060 rows × 2 columns</p>\n",
              "</div>"
            ],
            "text/plain": [
              "         0    1\n",
              "0        0 0.09\n",
              "1        1 0.40\n",
              "2        2 2.00\n",
              "3        3 3.27\n",
              "4        4 9.16\n",
              "...    ...  ...\n",
              "3055  3055 1.94\n",
              "3056  3056 0.05\n",
              "3057  3057 0.00\n",
              "3058  3058 0.11\n",
              "3059  3059 0.00\n",
              "\n",
              "[3060 rows x 2 columns]"
            ]
          },
          "metadata": {},
          "execution_count": 32
        }
      ]
    },
    {
      "cell_type": "code",
      "metadata": {
        "id": "eW_4INNddPMH"
      },
      "source": [
        "# 予測ファイルの生成\n",
        "sub.to_csv('my_submission_20211006_simpleモデル.csv', index=False, header=False)"
      ],
      "execution_count": 33,
      "outputs": []
    },
    {
      "cell_type": "code",
      "metadata": {
        "id": "7xYCsCU_Vvo2"
      },
      "source": [
        ""
      ],
      "execution_count": null,
      "outputs": []
    }
  ]
}